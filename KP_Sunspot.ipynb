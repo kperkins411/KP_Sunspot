{
 "cells": [
  {
   "cell_type": "markdown",
   "metadata": {},
   "source": [
    "# Sunspot prediction using  time series structured data\n",
    "This notebook uses concepts from fastAIs DL1 course to estimate sunspot activity using a 2 layer fully connected neurel net.<br>This notebook derives from this post https://medium.com/38th-street-studios/time-series-with-structured-deep-learning-e911c1ef9923"
   ]
  },
  {
   "cell_type": "code",
   "execution_count": 19,
   "metadata": {},
   "outputs": [],
   "source": [
    "%reload_ext autoreload\n",
    "%autoreload 2\n",
    "%matplotlib inline"
   ]
  },
  {
   "cell_type": "markdown",
   "metadata": {},
   "source": [
    "# Get the data\n",
    "comes from https://datamarket.com/data/set/22ti/zuerich-monthly-sunspot-numbers-1749-1983#!ds=22ti&display=line<br>\n",
    "in ../data folder<br>"
   ]
  },
  {
   "cell_type": "code",
   "execution_count": 20,
   "metadata": {},
   "outputs": [],
   "source": [
    "# get the data, first row [0] is column names\n",
    "import pandas as pd\n",
    "df = pd.read_csv(\"./data/sunspot/zuerich-monthly-sunspot-numbers.csv\",header=0 )"
   ]
  },
  {
   "cell_type": "code",
   "execution_count": 21,
   "metadata": {},
   "outputs": [],
   "source": [
    "df.columns = ['Month', 'SunspotNumbs']"
   ]
  },
  {
   "cell_type": "code",
   "execution_count": 22,
   "metadata": {},
   "outputs": [
    {
     "data": {
      "text/html": [
       "<div>\n",
       "<style scoped>\n",
       "    .dataframe tbody tr th:only-of-type {\n",
       "        vertical-align: middle;\n",
       "    }\n",
       "\n",
       "    .dataframe tbody tr th {\n",
       "        vertical-align: top;\n",
       "    }\n",
       "\n",
       "    .dataframe thead th {\n",
       "        text-align: right;\n",
       "    }\n",
       "</style>\n",
       "<table border=\"1\" class=\"dataframe\">\n",
       "  <thead>\n",
       "    <tr style=\"text-align: right;\">\n",
       "      <th></th>\n",
       "      <th>Month</th>\n",
       "      <th>SunspotNumbs</th>\n",
       "    </tr>\n",
       "  </thead>\n",
       "  <tbody>\n",
       "    <tr>\n",
       "      <th>0</th>\n",
       "      <td>1749-01</td>\n",
       "      <td>58.0</td>\n",
       "    </tr>\n",
       "    <tr>\n",
       "      <th>1</th>\n",
       "      <td>1749-02</td>\n",
       "      <td>62.6</td>\n",
       "    </tr>\n",
       "    <tr>\n",
       "      <th>2</th>\n",
       "      <td>1749-03</td>\n",
       "      <td>70.0</td>\n",
       "    </tr>\n",
       "    <tr>\n",
       "      <th>3</th>\n",
       "      <td>1749-04</td>\n",
       "      <td>55.7</td>\n",
       "    </tr>\n",
       "    <tr>\n",
       "      <th>4</th>\n",
       "      <td>1749-05</td>\n",
       "      <td>85.0</td>\n",
       "    </tr>\n",
       "  </tbody>\n",
       "</table>\n",
       "</div>"
      ],
      "text/plain": [
       "     Month  SunspotNumbs\n",
       "0  1749-01          58.0\n",
       "1  1749-02          62.6\n",
       "2  1749-03          70.0\n",
       "3  1749-04          55.7\n",
       "4  1749-05          85.0"
      ]
     },
     "execution_count": 22,
     "metadata": {},
     "output_type": "execute_result"
    }
   ],
   "source": [
    "df.head()"
   ]
  },
  {
   "cell_type": "code",
   "execution_count": 23,
   "metadata": {},
   "outputs": [
    {
     "data": {
      "text/plain": [
       "<matplotlib.axes._subplots.AxesSubplot at 0x7f55ce775fd0>"
      ]
     },
     "execution_count": 23,
     "metadata": {},
     "output_type": "execute_result"
    },
    {
     "data": {
      "image/png": "[encoded data removed]",
      "text/plain": [
       "<Figure size 432x288 with 1 Axes>"
      ]
     },
     "metadata": {},
     "output_type": "display_data"
    }
   ],
   "source": [
    "#view it\n",
    "import matplotlib.pyplot as plt\n",
    "df.plot()"
   ]
  },
  {
   "cell_type": "markdown",
   "metadata": {},
   "source": [
    "# convert date time\n",
    "The last line in the csv file is a summary, please remove it before running this operation"
   ]
  },
  {
   "cell_type": "code",
   "execution_count": 24,
   "metadata": {},
   "outputs": [],
   "source": [
    "\n",
    "from fastai.structured import *\n",
    "from fastai.column_data import *\n",
    "#Convert our date column to a pandas datetime Series\n",
    "df[\"Date\"] = pd.to_datetime(df[\"Month\"], format='%Y-%m')\n",
    "#Create date features\n",
    "add_datepart(df,\"Date\")"
   ]
  },
  {
   "cell_type": "code",
   "execution_count": 25,
   "metadata": {},
   "outputs": [
    {
     "data": {
      "text/html": [
       "<div>\n",
       "<style scoped>\n",
       "    .dataframe tbody tr th:only-of-type {\n",
       "        vertical-align: middle;\n",
       "    }\n",
       "\n",
       "    .dataframe tbody tr th {\n",
       "        vertical-align: top;\n",
       "    }\n",
       "\n",
       "    .dataframe thead th {\n",
       "        text-align: right;\n",
       "    }\n",
       "</style>\n",
       "<table border=\"1\" class=\"dataframe\">\n",
       "  <thead>\n",
       "    <tr style=\"text-align: right;\">\n",
       "      <th></th>\n",
       "      <th>Month</th>\n",
       "      <th>SunspotNumbs</th>\n",
       "      <th>Year</th>\n",
       "      <th>Week</th>\n",
       "      <th>Day</th>\n",
       "      <th>Dayofweek</th>\n",
       "      <th>Dayofyear</th>\n",
       "      <th>Elapsed</th>\n",
       "    </tr>\n",
       "  </thead>\n",
       "  <tbody>\n",
       "    <tr>\n",
       "      <th>count</th>\n",
       "      <td>2820.000000</td>\n",
       "      <td>2820.000000</td>\n",
       "      <td>2820.000000</td>\n",
       "      <td>2820.000000</td>\n",
       "      <td>2820.0</td>\n",
       "      <td>2820.000000</td>\n",
       "      <td>2820.000000</td>\n",
       "      <td>2.820000e+03</td>\n",
       "    </tr>\n",
       "    <tr>\n",
       "      <th>mean</th>\n",
       "      <td>6.500000</td>\n",
       "      <td>51.265957</td>\n",
       "      <td>1866.000000</td>\n",
       "      <td>26.246099</td>\n",
       "      <td>1.0</td>\n",
       "      <td>3.000709</td>\n",
       "      <td>167.698582</td>\n",
       "      <td>-3.267523e+09</td>\n",
       "    </tr>\n",
       "    <tr>\n",
       "      <th>std</th>\n",
       "      <td>3.452665</td>\n",
       "      <td>43.448971</td>\n",
       "      <td>67.850074</td>\n",
       "      <td>15.128927</td>\n",
       "      <td>0.0</td>\n",
       "      <td>2.000177</td>\n",
       "      <td>105.088786</td>\n",
       "      <td>2.141145e+09</td>\n",
       "    </tr>\n",
       "    <tr>\n",
       "      <th>min</th>\n",
       "      <td>1.000000</td>\n",
       "      <td>0.000000</td>\n",
       "      <td>1749.000000</td>\n",
       "      <td>1.000000</td>\n",
       "      <td>1.0</td>\n",
       "      <td>0.000000</td>\n",
       "      <td>1.000000</td>\n",
       "      <td>-6.974035e+09</td>\n",
       "    </tr>\n",
       "    <tr>\n",
       "      <th>25%</th>\n",
       "      <td>3.750000</td>\n",
       "      <td>15.700000</td>\n",
       "      <td>1807.000000</td>\n",
       "      <td>13.000000</td>\n",
       "      <td>1.0</td>\n",
       "      <td>1.000000</td>\n",
       "      <td>83.500000</td>\n",
       "      <td>-5.120885e+09</td>\n",
       "    </tr>\n",
       "    <tr>\n",
       "      <th>50%</th>\n",
       "      <td>6.500000</td>\n",
       "      <td>42.000000</td>\n",
       "      <td>1866.000000</td>\n",
       "      <td>26.000000</td>\n",
       "      <td>1.0</td>\n",
       "      <td>3.000000</td>\n",
       "      <td>167.500000</td>\n",
       "      <td>-3.267562e+09</td>\n",
       "    </tr>\n",
       "    <tr>\n",
       "      <th>75%</th>\n",
       "      <td>9.250000</td>\n",
       "      <td>74.925000</td>\n",
       "      <td>1925.000000</td>\n",
       "      <td>40.000000</td>\n",
       "      <td>1.0</td>\n",
       "      <td>5.000000</td>\n",
       "      <td>252.250000</td>\n",
       "      <td>-1.414303e+09</td>\n",
       "    </tr>\n",
       "    <tr>\n",
       "      <th>max</th>\n",
       "      <td>12.000000</td>\n",
       "      <td>253.800000</td>\n",
       "      <td>1983.000000</td>\n",
       "      <td>53.000000</td>\n",
       "      <td>1.0</td>\n",
       "      <td>6.000000</td>\n",
       "      <td>336.000000</td>\n",
       "      <td>4.390848e+08</td>\n",
       "    </tr>\n",
       "  </tbody>\n",
       "</table>\n",
       "</div>"
      ],
      "text/plain": [
       "             Month  SunspotNumbs         Year         Week     Day  \\\n",
       "count  2820.000000   2820.000000  2820.000000  2820.000000  2820.0   \n",
       "mean      6.500000     51.265957  1866.000000    26.246099     1.0   \n",
       "std       3.452665     43.448971    67.850074    15.128927     0.0   \n",
       "min       1.000000      0.000000  1749.000000     1.000000     1.0   \n",
       "25%       3.750000     15.700000  1807.000000    13.000000     1.0   \n",
       "50%       6.500000     42.000000  1866.000000    26.000000     1.0   \n",
       "75%       9.250000     74.925000  1925.000000    40.000000     1.0   \n",
       "max      12.000000    253.800000  1983.000000    53.000000     1.0   \n",
       "\n",
       "         Dayofweek    Dayofyear       Elapsed  \n",
       "count  2820.000000  2820.000000  2.820000e+03  \n",
       "mean      3.000709   167.698582 -3.267523e+09  \n",
       "std       2.000177   105.088786  2.141145e+09  \n",
       "min       0.000000     1.000000 -6.974035e+09  \n",
       "25%       1.000000    83.500000 -5.120885e+09  \n",
       "50%       3.000000   167.500000 -3.267562e+09  \n",
       "75%       5.000000   252.250000 -1.414303e+09  \n",
       "max       6.000000   336.000000  4.390848e+08  "
      ]
     },
     "execution_count": 25,
     "metadata": {},
     "output_type": "execute_result"
    }
   ],
   "source": [
    "df.describe()"
   ]
  },
  {
   "cell_type": "code",
   "execution_count": 26,
   "metadata": {},
   "outputs": [
    {
     "data": {
      "text/plain": [
       "array(['Month', 'SunspotNumbs', 'Year', 'Week', 'Day', 'Dayofweek', 'Dayofyear', 'Is_month_end',\n",
       "       'Is_month_start', 'Is_quarter_end', 'Is_quarter_start', 'Is_year_end', 'Is_year_start', 'Elapsed'],\n",
       "      dtype=object)"
      ]
     },
     "execution_count": 26,
     "metadata": {},
     "output_type": "execute_result"
    }
   ],
   "source": [
    "#see all the values, just need 2 year and month\n",
    "df.columns.values"
   ]
  },
  {
   "cell_type": "code",
   "execution_count": 27,
   "metadata": {},
   "outputs": [
    {
     "data": {
      "text/plain": [
       "Month                 int64\n",
       "SunspotNumbs        float64\n",
       "Year                  int64\n",
       "Week                  int64\n",
       "Day                   int64\n",
       "Dayofweek             int64\n",
       "Dayofyear             int64\n",
       "Is_month_end           bool\n",
       "Is_month_start         bool\n",
       "Is_quarter_end         bool\n",
       "Is_quarter_start       bool\n",
       "Is_year_end            bool\n",
       "Is_year_start          bool\n",
       "Elapsed               int64\n",
       "dtype: object"
      ]
     },
     "execution_count": 27,
     "metadata": {},
     "output_type": "execute_result"
    }
   ],
   "source": [
    "df.dtypes"
   ]
  },
  {
   "cell_type": "code",
   "execution_count": 28,
   "metadata": {},
   "outputs": [],
   "source": [
    "# get rid of useless columns\n",
    "df=df.drop(['Week', 'Day', 'Dayofweek', 'Is_month_end', 'Is_month_start', 'Elapsed'],axis=1)"
   ]
  },
  {
   "cell_type": "code",
   "execution_count": 29,
   "metadata": {},
   "outputs": [],
   "source": [
    "#lets create num_lags additional columns, for each row these columns will hold \n",
    "#SunspotNumbst-1, SunspotNumbst-2 etc\n",
    "num_lags = 12"
   ]
  },
  {
   "cell_type": "markdown",
   "metadata": {},
   "source": [
    "## These 2 cells do the same thing\n",
    "Ones a bit easier to read and a bit slower"
   ]
  },
  {
   "cell_type": "code",
   "execution_count": 30,
   "metadata": {},
   "outputs": [],
   "source": [
    "# %%timeit\n",
    "# for i in range(1,num_lags+1):\n",
    "#     df[f'lag_{i}'] = np.append([np.nan for j in range(0,i)],df['SunspotNumbs'])[:-i]\n",
    "\n",
    "#for each row, convert all NANs to either Sunspot val or last lag_n that is not a NaN"
   ]
  },
  {
   "cell_type": "code",
   "execution_count": 31,
   "metadata": {},
   "outputs": [
    {
     "name": "stdout",
     "output_type": "stream",
     "text": [
      "1.55 ms ± 2.88 µs per loop (mean ± std. dev. of 7 runs, 1000 loops each)\n"
     ]
    }
   ],
   "source": [
    "%%timeit\n",
    "df[f'lag_1'] =  df['SunspotNumbs'].shift(1)\n",
    "for i in range(2,num_lags+1):\n",
    "    df[f'lag_{i}'] = df[f'lag_{i-1}'].shift(1)\n",
    "\n",
    "#for each row, convert all NANs to either Sunspot val or last lag_n that is not a NaN"
   ]
  },
  {
   "cell_type": "code",
   "execution_count": 32,
   "metadata": {},
   "outputs": [
    {
     "data": {
      "text/html": [
       "<div>\n",
       "<style scoped>\n",
       "    .dataframe tbody tr th:only-of-type {\n",
       "        vertical-align: middle;\n",
       "    }\n",
       "\n",
       "    .dataframe tbody tr th {\n",
       "        vertical-align: top;\n",
       "    }\n",
       "\n",
       "    .dataframe thead th {\n",
       "        text-align: right;\n",
       "    }\n",
       "</style>\n",
       "<table border=\"1\" class=\"dataframe\">\n",
       "  <thead>\n",
       "    <tr style=\"text-align: right;\">\n",
       "      <th></th>\n",
       "      <th>0</th>\n",
       "      <th>1</th>\n",
       "      <th>2</th>\n",
       "      <th>3</th>\n",
       "      <th>4</th>\n",
       "      <th>5</th>\n",
       "      <th>6</th>\n",
       "      <th>7</th>\n",
       "      <th>8</th>\n",
       "      <th>9</th>\n",
       "      <th>...</th>\n",
       "      <th>290</th>\n",
       "      <th>291</th>\n",
       "      <th>292</th>\n",
       "      <th>293</th>\n",
       "      <th>294</th>\n",
       "      <th>295</th>\n",
       "      <th>296</th>\n",
       "      <th>297</th>\n",
       "      <th>298</th>\n",
       "      <th>299</th>\n",
       "    </tr>\n",
       "  </thead>\n",
       "  <tbody>\n",
       "    <tr>\n",
       "      <th>Month</th>\n",
       "      <td>1</td>\n",
       "      <td>2</td>\n",
       "      <td>3</td>\n",
       "      <td>4</td>\n",
       "      <td>5</td>\n",
       "      <td>6</td>\n",
       "      <td>7</td>\n",
       "      <td>8</td>\n",
       "      <td>9</td>\n",
       "      <td>10</td>\n",
       "      <td>...</td>\n",
       "      <td>3</td>\n",
       "      <td>4</td>\n",
       "      <td>5</td>\n",
       "      <td>6</td>\n",
       "      <td>7</td>\n",
       "      <td>8</td>\n",
       "      <td>9</td>\n",
       "      <td>10</td>\n",
       "      <td>11</td>\n",
       "      <td>12</td>\n",
       "    </tr>\n",
       "    <tr>\n",
       "      <th>SunspotNumbs</th>\n",
       "      <td>58</td>\n",
       "      <td>62.6</td>\n",
       "      <td>70</td>\n",
       "      <td>55.7</td>\n",
       "      <td>85</td>\n",
       "      <td>83.5</td>\n",
       "      <td>94.8</td>\n",
       "      <td>66.3</td>\n",
       "      <td>75.9</td>\n",
       "      <td>75.5</td>\n",
       "      <td>...</td>\n",
       "      <td>51.2</td>\n",
       "      <td>32.9</td>\n",
       "      <td>41.1</td>\n",
       "      <td>28.4</td>\n",
       "      <td>27.7</td>\n",
       "      <td>12.7</td>\n",
       "      <td>29.3</td>\n",
       "      <td>26.3</td>\n",
       "      <td>40.9</td>\n",
       "      <td>43.2</td>\n",
       "    </tr>\n",
       "    <tr>\n",
       "      <th>Year</th>\n",
       "      <td>1749</td>\n",
       "      <td>1749</td>\n",
       "      <td>1749</td>\n",
       "      <td>1749</td>\n",
       "      <td>1749</td>\n",
       "      <td>1749</td>\n",
       "      <td>1749</td>\n",
       "      <td>1749</td>\n",
       "      <td>1749</td>\n",
       "      <td>1749</td>\n",
       "      <td>...</td>\n",
       "      <td>1773</td>\n",
       "      <td>1773</td>\n",
       "      <td>1773</td>\n",
       "      <td>1773</td>\n",
       "      <td>1773</td>\n",
       "      <td>1773</td>\n",
       "      <td>1773</td>\n",
       "      <td>1773</td>\n",
       "      <td>1773</td>\n",
       "      <td>1773</td>\n",
       "    </tr>\n",
       "    <tr>\n",
       "      <th>Dayofyear</th>\n",
       "      <td>1</td>\n",
       "      <td>32</td>\n",
       "      <td>60</td>\n",
       "      <td>91</td>\n",
       "      <td>121</td>\n",
       "      <td>152</td>\n",
       "      <td>182</td>\n",
       "      <td>213</td>\n",
       "      <td>244</td>\n",
       "      <td>274</td>\n",
       "      <td>...</td>\n",
       "      <td>60</td>\n",
       "      <td>91</td>\n",
       "      <td>121</td>\n",
       "      <td>152</td>\n",
       "      <td>182</td>\n",
       "      <td>213</td>\n",
       "      <td>244</td>\n",
       "      <td>274</td>\n",
       "      <td>305</td>\n",
       "      <td>335</td>\n",
       "    </tr>\n",
       "    <tr>\n",
       "      <th>Is_quarter_end</th>\n",
       "      <td>False</td>\n",
       "      <td>False</td>\n",
       "      <td>False</td>\n",
       "      <td>False</td>\n",
       "      <td>False</td>\n",
       "      <td>False</td>\n",
       "      <td>False</td>\n",
       "      <td>False</td>\n",
       "      <td>False</td>\n",
       "      <td>False</td>\n",
       "      <td>...</td>\n",
       "      <td>False</td>\n",
       "      <td>False</td>\n",
       "      <td>False</td>\n",
       "      <td>False</td>\n",
       "      <td>False</td>\n",
       "      <td>False</td>\n",
       "      <td>False</td>\n",
       "      <td>False</td>\n",
       "      <td>False</td>\n",
       "      <td>False</td>\n",
       "    </tr>\n",
       "    <tr>\n",
       "      <th>Is_quarter_start</th>\n",
       "      <td>True</td>\n",
       "      <td>False</td>\n",
       "      <td>False</td>\n",
       "      <td>True</td>\n",
       "      <td>False</td>\n",
       "      <td>False</td>\n",
       "      <td>True</td>\n",
       "      <td>False</td>\n",
       "      <td>False</td>\n",
       "      <td>True</td>\n",
       "      <td>...</td>\n",
       "      <td>False</td>\n",
       "      <td>True</td>\n",
       "      <td>False</td>\n",
       "      <td>False</td>\n",
       "      <td>True</td>\n",
       "      <td>False</td>\n",
       "      <td>False</td>\n",
       "      <td>True</td>\n",
       "      <td>False</td>\n",
       "      <td>False</td>\n",
       "    </tr>\n",
       "    <tr>\n",
       "      <th>Is_year_end</th>\n",
       "      <td>False</td>\n",
       "      <td>False</td>\n",
       "      <td>False</td>\n",
       "      <td>False</td>\n",
       "      <td>False</td>\n",
       "      <td>False</td>\n",
       "      <td>False</td>\n",
       "      <td>False</td>\n",
       "      <td>False</td>\n",
       "      <td>False</td>\n",
       "      <td>...</td>\n",
       "      <td>False</td>\n",
       "      <td>False</td>\n",
       "      <td>False</td>\n",
       "      <td>False</td>\n",
       "      <td>False</td>\n",
       "      <td>False</td>\n",
       "      <td>False</td>\n",
       "      <td>False</td>\n",
       "      <td>False</td>\n",
       "      <td>False</td>\n",
       "    </tr>\n",
       "    <tr>\n",
       "      <th>Is_year_start</th>\n",
       "      <td>True</td>\n",
       "      <td>False</td>\n",
       "      <td>False</td>\n",
       "      <td>False</td>\n",
       "      <td>False</td>\n",
       "      <td>False</td>\n",
       "      <td>False</td>\n",
       "      <td>False</td>\n",
       "      <td>False</td>\n",
       "      <td>False</td>\n",
       "      <td>...</td>\n",
       "      <td>False</td>\n",
       "      <td>False</td>\n",
       "      <td>False</td>\n",
       "      <td>False</td>\n",
       "      <td>False</td>\n",
       "      <td>False</td>\n",
       "      <td>False</td>\n",
       "      <td>False</td>\n",
       "      <td>False</td>\n",
       "      <td>False</td>\n",
       "    </tr>\n",
       "    <tr>\n",
       "      <th>lag_1</th>\n",
       "      <td>NaN</td>\n",
       "      <td>58</td>\n",
       "      <td>62.6</td>\n",
       "      <td>70</td>\n",
       "      <td>55.7</td>\n",
       "      <td>85</td>\n",
       "      <td>83.5</td>\n",
       "      <td>94.8</td>\n",
       "      <td>66.3</td>\n",
       "      <td>75.9</td>\n",
       "      <td>...</td>\n",
       "      <td>29</td>\n",
       "      <td>51.2</td>\n",
       "      <td>32.9</td>\n",
       "      <td>41.1</td>\n",
       "      <td>28.4</td>\n",
       "      <td>27.7</td>\n",
       "      <td>12.7</td>\n",
       "      <td>29.3</td>\n",
       "      <td>26.3</td>\n",
       "      <td>40.9</td>\n",
       "    </tr>\n",
       "    <tr>\n",
       "      <th>lag_2</th>\n",
       "      <td>NaN</td>\n",
       "      <td>NaN</td>\n",
       "      <td>58</td>\n",
       "      <td>62.6</td>\n",
       "      <td>70</td>\n",
       "      <td>55.7</td>\n",
       "      <td>85</td>\n",
       "      <td>83.5</td>\n",
       "      <td>94.8</td>\n",
       "      <td>66.3</td>\n",
       "      <td>...</td>\n",
       "      <td>54.6</td>\n",
       "      <td>29</td>\n",
       "      <td>51.2</td>\n",
       "      <td>32.9</td>\n",
       "      <td>41.1</td>\n",
       "      <td>28.4</td>\n",
       "      <td>27.7</td>\n",
       "      <td>12.7</td>\n",
       "      <td>29.3</td>\n",
       "      <td>26.3</td>\n",
       "    </tr>\n",
       "    <tr>\n",
       "      <th>lag_3</th>\n",
       "      <td>NaN</td>\n",
       "      <td>NaN</td>\n",
       "      <td>NaN</td>\n",
       "      <td>58</td>\n",
       "      <td>62.6</td>\n",
       "      <td>70</td>\n",
       "      <td>55.7</td>\n",
       "      <td>85</td>\n",
       "      <td>83.5</td>\n",
       "      <td>94.8</td>\n",
       "      <td>...</td>\n",
       "      <td>64</td>\n",
       "      <td>54.6</td>\n",
       "      <td>29</td>\n",
       "      <td>51.2</td>\n",
       "      <td>32.9</td>\n",
       "      <td>41.1</td>\n",
       "      <td>28.4</td>\n",
       "      <td>27.7</td>\n",
       "      <td>12.7</td>\n",
       "      <td>29.3</td>\n",
       "    </tr>\n",
       "    <tr>\n",
       "      <th>lag_4</th>\n",
       "      <td>NaN</td>\n",
       "      <td>NaN</td>\n",
       "      <td>NaN</td>\n",
       "      <td>NaN</td>\n",
       "      <td>58</td>\n",
       "      <td>62.6</td>\n",
       "      <td>70</td>\n",
       "      <td>55.7</td>\n",
       "      <td>85</td>\n",
       "      <td>83.5</td>\n",
       "      <td>...</td>\n",
       "      <td>61.3</td>\n",
       "      <td>64</td>\n",
       "      <td>54.6</td>\n",
       "      <td>29</td>\n",
       "      <td>51.2</td>\n",
       "      <td>32.9</td>\n",
       "      <td>41.1</td>\n",
       "      <td>28.4</td>\n",
       "      <td>27.7</td>\n",
       "      <td>12.7</td>\n",
       "    </tr>\n",
       "    <tr>\n",
       "      <th>lag_5</th>\n",
       "      <td>NaN</td>\n",
       "      <td>NaN</td>\n",
       "      <td>NaN</td>\n",
       "      <td>NaN</td>\n",
       "      <td>NaN</td>\n",
       "      <td>58</td>\n",
       "      <td>62.6</td>\n",
       "      <td>70</td>\n",
       "      <td>55.7</td>\n",
       "      <td>85</td>\n",
       "      <td>...</td>\n",
       "      <td>78.6</td>\n",
       "      <td>61.3</td>\n",
       "      <td>64</td>\n",
       "      <td>54.6</td>\n",
       "      <td>29</td>\n",
       "      <td>51.2</td>\n",
       "      <td>32.9</td>\n",
       "      <td>41.1</td>\n",
       "      <td>28.4</td>\n",
       "      <td>27.7</td>\n",
       "    </tr>\n",
       "    <tr>\n",
       "      <th>lag_6</th>\n",
       "      <td>NaN</td>\n",
       "      <td>NaN</td>\n",
       "      <td>NaN</td>\n",
       "      <td>NaN</td>\n",
       "      <td>NaN</td>\n",
       "      <td>NaN</td>\n",
       "      <td>58</td>\n",
       "      <td>62.6</td>\n",
       "      <td>70</td>\n",
       "      <td>55.7</td>\n",
       "      <td>...</td>\n",
       "      <td>50.5</td>\n",
       "      <td>78.6</td>\n",
       "      <td>61.3</td>\n",
       "      <td>64</td>\n",
       "      <td>54.6</td>\n",
       "      <td>29</td>\n",
       "      <td>51.2</td>\n",
       "      <td>32.9</td>\n",
       "      <td>41.1</td>\n",
       "      <td>28.4</td>\n",
       "    </tr>\n",
       "    <tr>\n",
       "      <th>lag_7</th>\n",
       "      <td>NaN</td>\n",
       "      <td>NaN</td>\n",
       "      <td>NaN</td>\n",
       "      <td>NaN</td>\n",
       "      <td>NaN</td>\n",
       "      <td>NaN</td>\n",
       "      <td>NaN</td>\n",
       "      <td>58</td>\n",
       "      <td>62.6</td>\n",
       "      <td>70</td>\n",
       "      <td>...</td>\n",
       "      <td>56.2</td>\n",
       "      <td>50.5</td>\n",
       "      <td>78.6</td>\n",
       "      <td>61.3</td>\n",
       "      <td>64</td>\n",
       "      <td>54.6</td>\n",
       "      <td>29</td>\n",
       "      <td>51.2</td>\n",
       "      <td>32.9</td>\n",
       "      <td>41.1</td>\n",
       "    </tr>\n",
       "    <tr>\n",
       "      <th>lag_8</th>\n",
       "      <td>NaN</td>\n",
       "      <td>NaN</td>\n",
       "      <td>NaN</td>\n",
       "      <td>NaN</td>\n",
       "      <td>NaN</td>\n",
       "      <td>NaN</td>\n",
       "      <td>NaN</td>\n",
       "      <td>NaN</td>\n",
       "      <td>58</td>\n",
       "      <td>62.6</td>\n",
       "      <td>...</td>\n",
       "      <td>77.3</td>\n",
       "      <td>56.2</td>\n",
       "      <td>50.5</td>\n",
       "      <td>78.6</td>\n",
       "      <td>61.3</td>\n",
       "      <td>64</td>\n",
       "      <td>54.6</td>\n",
       "      <td>29</td>\n",
       "      <td>51.2</td>\n",
       "      <td>32.9</td>\n",
       "    </tr>\n",
       "    <tr>\n",
       "      <th>lag_9</th>\n",
       "      <td>NaN</td>\n",
       "      <td>NaN</td>\n",
       "      <td>NaN</td>\n",
       "      <td>NaN</td>\n",
       "      <td>NaN</td>\n",
       "      <td>NaN</td>\n",
       "      <td>NaN</td>\n",
       "      <td>NaN</td>\n",
       "      <td>NaN</td>\n",
       "      <td>58</td>\n",
       "      <td>...</td>\n",
       "      <td>57</td>\n",
       "      <td>77.3</td>\n",
       "      <td>56.2</td>\n",
       "      <td>50.5</td>\n",
       "      <td>78.6</td>\n",
       "      <td>61.3</td>\n",
       "      <td>64</td>\n",
       "      <td>54.6</td>\n",
       "      <td>29</td>\n",
       "      <td>51.2</td>\n",
       "    </tr>\n",
       "    <tr>\n",
       "      <th>lag_10</th>\n",
       "      <td>NaN</td>\n",
       "      <td>NaN</td>\n",
       "      <td>NaN</td>\n",
       "      <td>NaN</td>\n",
       "      <td>NaN</td>\n",
       "      <td>NaN</td>\n",
       "      <td>NaN</td>\n",
       "      <td>NaN</td>\n",
       "      <td>NaN</td>\n",
       "      <td>NaN</td>\n",
       "      <td>...</td>\n",
       "      <td>38</td>\n",
       "      <td>57</td>\n",
       "      <td>77.3</td>\n",
       "      <td>56.2</td>\n",
       "      <td>50.5</td>\n",
       "      <td>78.6</td>\n",
       "      <td>61.3</td>\n",
       "      <td>64</td>\n",
       "      <td>54.6</td>\n",
       "      <td>29</td>\n",
       "    </tr>\n",
       "    <tr>\n",
       "      <th>lag_11</th>\n",
       "      <td>NaN</td>\n",
       "      <td>NaN</td>\n",
       "      <td>NaN</td>\n",
       "      <td>NaN</td>\n",
       "      <td>NaN</td>\n",
       "      <td>NaN</td>\n",
       "      <td>NaN</td>\n",
       "      <td>NaN</td>\n",
       "      <td>NaN</td>\n",
       "      <td>NaN</td>\n",
       "      <td>...</td>\n",
       "      <td>92.2</td>\n",
       "      <td>38</td>\n",
       "      <td>57</td>\n",
       "      <td>77.3</td>\n",
       "      <td>56.2</td>\n",
       "      <td>50.5</td>\n",
       "      <td>78.6</td>\n",
       "      <td>61.3</td>\n",
       "      <td>64</td>\n",
       "      <td>54.6</td>\n",
       "    </tr>\n",
       "    <tr>\n",
       "      <th>lag_12</th>\n",
       "      <td>NaN</td>\n",
       "      <td>NaN</td>\n",
       "      <td>NaN</td>\n",
       "      <td>NaN</td>\n",
       "      <td>NaN</td>\n",
       "      <td>NaN</td>\n",
       "      <td>NaN</td>\n",
       "      <td>NaN</td>\n",
       "      <td>NaN</td>\n",
       "      <td>NaN</td>\n",
       "      <td>...</td>\n",
       "      <td>31.1</td>\n",
       "      <td>92.2</td>\n",
       "      <td>38</td>\n",
       "      <td>57</td>\n",
       "      <td>77.3</td>\n",
       "      <td>56.2</td>\n",
       "      <td>50.5</td>\n",
       "      <td>78.6</td>\n",
       "      <td>61.3</td>\n",
       "      <td>64</td>\n",
       "    </tr>\n",
       "  </tbody>\n",
       "</table>\n",
       "<p>20 rows × 300 columns</p>\n",
       "</div>"
      ],
      "text/plain": [
       "                    0      1      2      3      4      5      6      7    \\\n",
       "Month                 1      2      3      4      5      6      7      8   \n",
       "SunspotNumbs         58   62.6     70   55.7     85   83.5   94.8   66.3   \n",
       "Year               1749   1749   1749   1749   1749   1749   1749   1749   \n",
       "Dayofyear             1     32     60     91    121    152    182    213   \n",
       "Is_quarter_end    False  False  False  False  False  False  False  False   \n",
       "Is_quarter_start   True  False  False   True  False  False   True  False   \n",
       "Is_year_end       False  False  False  False  False  False  False  False   \n",
       "Is_year_start      True  False  False  False  False  False  False  False   \n",
       "lag_1               NaN     58   62.6     70   55.7     85   83.5   94.8   \n",
       "lag_2               NaN    NaN     58   62.6     70   55.7     85   83.5   \n",
       "lag_3               NaN    NaN    NaN     58   62.6     70   55.7     85   \n",
       "lag_4               NaN    NaN    NaN    NaN     58   62.6     70   55.7   \n",
       "lag_5               NaN    NaN    NaN    NaN    NaN     58   62.6     70   \n",
       "lag_6               NaN    NaN    NaN    NaN    NaN    NaN     58   62.6   \n",
       "lag_7               NaN    NaN    NaN    NaN    NaN    NaN    NaN     58   \n",
       "lag_8               NaN    NaN    NaN    NaN    NaN    NaN    NaN    NaN   \n",
       "lag_9               NaN    NaN    NaN    NaN    NaN    NaN    NaN    NaN   \n",
       "lag_10              NaN    NaN    NaN    NaN    NaN    NaN    NaN    NaN   \n",
       "lag_11              NaN    NaN    NaN    NaN    NaN    NaN    NaN    NaN   \n",
       "lag_12              NaN    NaN    NaN    NaN    NaN    NaN    NaN    NaN   \n",
       "\n",
       "                    8      9    ...      290    291    292    293    294  \\\n",
       "Month                 9     10  ...        3      4      5      6      7   \n",
       "SunspotNumbs       75.9   75.5  ...     51.2   32.9   41.1   28.4   27.7   \n",
       "Year               1749   1749  ...     1773   1773   1773   1773   1773   \n",
       "Dayofyear           244    274  ...       60     91    121    152    182   \n",
       "Is_quarter_end    False  False  ...    False  False  False  False  False   \n",
       "Is_quarter_start  False   True  ...    False   True  False  False   True   \n",
       "Is_year_end       False  False  ...    False  False  False  False  False   \n",
       "Is_year_start     False  False  ...    False  False  False  False  False   \n",
       "lag_1              66.3   75.9  ...       29   51.2   32.9   41.1   28.4   \n",
       "lag_2              94.8   66.3  ...     54.6     29   51.2   32.9   41.1   \n",
       "lag_3              83.5   94.8  ...       64   54.6     29   51.2   32.9   \n",
       "lag_4                85   83.5  ...     61.3     64   54.6     29   51.2   \n",
       "lag_5              55.7     85  ...     78.6   61.3     64   54.6     29   \n",
       "lag_6                70   55.7  ...     50.5   78.6   61.3     64   54.6   \n",
       "lag_7              62.6     70  ...     56.2   50.5   78.6   61.3     64   \n",
       "lag_8                58   62.6  ...     77.3   56.2   50.5   78.6   61.3   \n",
       "lag_9               NaN     58  ...       57   77.3   56.2   50.5   78.6   \n",
       "lag_10              NaN    NaN  ...       38     57   77.3   56.2   50.5   \n",
       "lag_11              NaN    NaN  ...     92.2     38     57   77.3   56.2   \n",
       "lag_12              NaN    NaN  ...     31.1   92.2     38     57   77.3   \n",
       "\n",
       "                    295    296    297    298    299  \n",
       "Month                 8      9     10     11     12  \n",
       "SunspotNumbs       12.7   29.3   26.3   40.9   43.2  \n",
       "Year               1773   1773   1773   1773   1773  \n",
       "Dayofyear           213    244    274    305    335  \n",
       "Is_quarter_end    False  False  False  False  False  \n",
       "Is_quarter_start  False  False   True  False  False  \n",
       "Is_year_end       False  False  False  False  False  \n",
       "Is_year_start     False  False  False  False  False  \n",
       "lag_1              27.7   12.7   29.3   26.3   40.9  \n",
       "lag_2              28.4   27.7   12.7   29.3   26.3  \n",
       "lag_3              41.1   28.4   27.7   12.7   29.3  \n",
       "lag_4              32.9   41.1   28.4   27.7   12.7  \n",
       "lag_5              51.2   32.9   41.1   28.4   27.7  \n",
       "lag_6                29   51.2   32.9   41.1   28.4  \n",
       "lag_7              54.6     29   51.2   32.9   41.1  \n",
       "lag_8                64   54.6     29   51.2   32.9  \n",
       "lag_9              61.3     64   54.6     29   51.2  \n",
       "lag_10             78.6   61.3     64   54.6     29  \n",
       "lag_11             50.5   78.6   61.3     64   54.6  \n",
       "lag_12             56.2   50.5   78.6   61.3     64  \n",
       "\n",
       "[20 rows x 300 columns]"
      ]
     },
     "execution_count": 32,
     "metadata": {},
     "output_type": "execute_result"
    }
   ],
   "source": [
    "#what does it look like?\n",
    "df[0:300].T"
   ]
  },
  {
   "cell_type": "markdown",
   "metadata": {},
   "source": [
    "# Convert column types to category and float32"
   ]
  },
  {
   "cell_type": "code",
   "execution_count": 33,
   "metadata": {},
   "outputs": [],
   "source": [
    "contin_vars = [f\"lag_{i}\" for i in range(1,num_lags+1)]\n",
    "cat_vars = [\"Year\",\"Month\",\"Dayofyear\",\"Is_quarter_end\",\"Is_quarter_start\",\"Is_year_end\",\"Is_year_start\"]\n",
    "dep = \"SunspotNumbs\"\n",
    "\n",
    "#convert categorical to category type\n",
    "for v in cat_vars: df[v] = df[v].astype('category').cat.as_ordered()\n",
    "    \n",
    "#make float32 since thats what pyTorch expects\n",
    "for v in contin_vars: df[v] = df[v].astype('float32')"
   ]
  },
  {
   "cell_type": "code",
   "execution_count": 34,
   "metadata": {},
   "outputs": [
    {
     "data": {
      "text/plain": [
       "Month               category\n",
       "SunspotNumbs         float64\n",
       "Year                category\n",
       "Dayofyear           category\n",
       "Is_quarter_end      category\n",
       "Is_quarter_start    category\n",
       "Is_year_end         category\n",
       "Is_year_start       category\n",
       "lag_1                float32\n",
       "lag_2                float32\n",
       "lag_3                float32\n",
       "lag_4                float32\n",
       "lag_5                float32\n",
       "lag_6                float32\n",
       "lag_7                float32\n",
       "lag_8                float32\n",
       "lag_9                float32\n",
       "lag_10               float32\n",
       "lag_11               float32\n",
       "lag_12               float32\n",
       "dtype: object"
      ]
     },
     "execution_count": 34,
     "metadata": {},
     "output_type": "execute_result"
    }
   ],
   "source": [
    "df.dtypes"
   ]
  },
  {
   "cell_type": "markdown",
   "metadata": {},
   "source": [
    "# Split df to train, val, test"
   ]
  },
  {
   "cell_type": "code",
   "execution_count": 35,
   "metadata": {},
   "outputs": [],
   "source": [
    "train_ratio = 0.6\n",
    "val_ratio = 0.15\n",
    "test_ratio = 0.25\n",
    "\n",
    "#lets get a list of the indices of the entries I want in validation set\n",
    "#its time series so make it at the end\n",
    "numb_rows = len(df)\n",
    "\n",
    "#get the validation portion of df\n",
    "val_start = int(train_ratio*(float(numb_rows)))\n",
    "val_end = int((train_ratio+ val_ratio)*(float(numb_rows)))\n",
    "val_idx = list(range(val_start,val_end ))\n",
    "\n",
    "#split out train-val df\n",
    "df_trn_val = df[:val_end].copy()\n",
    "\n",
    "#split out test df\n",
    "df_test = df[val_end:].copy()"
   ]
  },
  {
   "cell_type": "markdown",
   "metadata": {},
   "source": [
    "## operate on train and test sets\n",
    "note that Im using the mapper and nas_trn_val from first proc_df to get the appropriate mean and std_dev and nas columns from trn_val set to use on test set "
   ]
  },
  {
   "cell_type": "code",
   "execution_count": 36,
   "metadata": {},
   "outputs": [],
   "source": [
    "#df, y, nas, mapper = proc_df(df_samp, 'SunspotNumbs', do_scale=True)\n",
    "df_trn_val, yl_trn_val, nas_trn_val, mapper = proc_df(df=df_trn_val, y_fld='SunspotNumbs',do_scale=True)\n",
    "\n",
    "#use the above mapper and nas_trn_val for normalization\n",
    "df_test, yl_test, nas_test, _ = proc_df(df=df_test, y_fld='SunspotNumbs',do_scale=True, mapper =mapper, na_dict=nas_trn_val )\n",
    "\n",
    "#first lets make sure we never take ln of 0 (-infinity) by adding a small value to y\n",
    "yl_trn_val = np.log(yl_trn_val + 0.01)\n",
    "yl_test = np.log(yl_test + 0.01)"
   ]
  },
  {
   "cell_type": "code",
   "execution_count": 37,
   "metadata": {},
   "outputs": [
    {
     "data": {
      "text/plain": [
       "DataFrameMapper(default=False, df_out=False,\n",
       "        features=[(['lag_1'], StandardScaler(copy=True, with_mean=True, with_std=True)), (['lag_2'], StandardScaler(copy=True, with_mean=True, with_std=True)), (['lag_3'], StandardScaler(copy=True, with_mean=True, with_std=True)), (['lag_4'], StandardScaler(copy=True, with_mean=True, with_std=True)), (['lag...an=True, with_std=True)), (['lag_12_na'], StandardScaler(copy=True, with_mean=True, with_std=True))],\n",
       "        input_df=False, sparse=False)"
      ]
     },
     "execution_count": 37,
     "metadata": {},
     "output_type": "execute_result"
    }
   ],
   "source": [
    "#whats in here?\n",
    "mapper"
   ]
  },
  {
   "cell_type": "code",
   "execution_count": 38,
   "metadata": {},
   "outputs": [
    {
     "data": {
      "text/plain": [
       "{'lag_1': 37.849998474121094,\n",
       " 'lag_2': 37.900001525878906,\n",
       " 'lag_3': 37.95000076293945,\n",
       " 'lag_4': 38.0,\n",
       " 'lag_5': 38.0,\n",
       " 'lag_6': 38.0,\n",
       " 'lag_7': 38.0,\n",
       " 'lag_8': 38.0,\n",
       " 'lag_9': 38.0,\n",
       " 'lag_10': 38.0,\n",
       " 'lag_11': 38.0,\n",
       " 'lag_12': 38.0}"
      ]
     },
     "execution_count": 38,
     "metadata": {},
     "output_type": "execute_result"
    }
   ],
   "source": [
    "#nas will tell you the median value that is used to replace NaN's for every column with a NaN\n",
    "# you can run the following command on column lag_1 to verify\n",
    "#df_trn_val.lag_1.median()\n",
    "nas_trn_val "
   ]
  },
  {
   "cell_type": "code",
   "execution_count": 39,
   "metadata": {},
   "outputs": [],
   "source": [
    "#nas will tell you the median value that is used to replace NaN's for every column with a NaN\n",
    "#df.lag_1.median()\n",
    "#nas_test "
   ]
  },
  {
   "cell_type": "code",
   "execution_count": 40,
   "metadata": {},
   "outputs": [],
   "source": [
    "#note all the lag_i_na columns\n",
    "#df_trn_val.head().T"
   ]
  },
  {
   "cell_type": "code",
   "execution_count": 41,
   "metadata": {},
   "outputs": [
    {
     "data": {
      "text/plain": [
       "array([4.06062, 4.13693, 4.24864, ..., 1.70656, 3.14458, 2.89093])"
      ]
     },
     "execution_count": 41,
     "metadata": {},
     "output_type": "execute_result"
    }
   ],
   "source": [
    "#what does target look like\n",
    "#len(y)\n",
    "yl_trn_val"
   ]
  },
  {
   "cell_type": "code",
   "execution_count": 42,
   "metadata": {},
   "outputs": [
    {
     "data": {
      "text/plain": [
       "Index(['Month', 'Year', 'Dayofyear', 'Is_quarter_end', 'Is_quarter_start',\n",
       "       'Is_year_end', 'Is_year_start', 'lag_1', 'lag_2', 'lag_3', 'lag_4',\n",
       "       'lag_5', 'lag_6', 'lag_7', 'lag_8', 'lag_9', 'lag_10', 'lag_11',\n",
       "       'lag_12', 'lag_1_na', 'lag_2_na', 'lag_3_na', 'lag_4_na', 'lag_5_na',\n",
       "       'lag_6_na', 'lag_7_na', 'lag_8_na', 'lag_9_na', 'lag_10_na',\n",
       "       'lag_11_na', 'lag_12_na'],\n",
       "      dtype='object')"
      ]
     },
     "execution_count": 42,
     "metadata": {},
     "output_type": "execute_result"
    }
   ],
   "source": [
    "df_test.columns"
   ]
  },
  {
   "cell_type": "code",
   "execution_count": 43,
   "metadata": {},
   "outputs": [],
   "source": [
    "#get rid of the lag_n_na fields\n",
    "def dump_na_columns(df1):   \n",
    "    for i in range(1,13):\n",
    "        try:\n",
    "            df1.drop(f'lag_{i}_na',axis=1,inplace=True)\n",
    "        except ValueError as e:\n",
    "            print('ValueError:{0}'.format(e))\n",
    "dump_na_columns(df_trn_val)\n",
    "dump_na_columns(df_test)"
   ]
  },
  {
   "cell_type": "code",
   "execution_count": 44,
   "metadata": {},
   "outputs": [
    {
     "name": "stdout",
     "output_type": "stream",
     "text": [
      "Rows in df_trn_val=2115\n",
      "Rows in df_test   =705\n"
     ]
    }
   ],
   "source": [
    "print( \"Rows in df_trn_val=\" + str(len(df_trn_val)))\n",
    "print( \"Rows in df_test   =\" + str(len(df_test)))"
   ]
  },
  {
   "cell_type": "markdown",
   "metadata": {},
   "source": [
    "# Adjust column types\n",
    "Convert all categorical columns to 'category' and continuous variables to 'float32' (for pytorch)"
   ]
  },
  {
   "cell_type": "code",
   "execution_count": 45,
   "metadata": {},
   "outputs": [
    {
     "data": {
      "text/plain": [
       "Month                  int8\n",
       "Year                  int16\n",
       "Dayofyear              int8\n",
       "Is_quarter_end         int8\n",
       "Is_quarter_start       int8\n",
       "Is_year_end            int8\n",
       "Is_year_start          int8\n",
       "lag_1               float64\n",
       "lag_2               float64\n",
       "lag_3               float64\n",
       "lag_4               float64\n",
       "lag_5               float64\n",
       "lag_6               float64\n",
       "lag_7               float64\n",
       "lag_8               float64\n",
       "lag_9               float64\n",
       "lag_10              float64\n",
       "lag_11              float64\n",
       "lag_12              float64\n",
       "dtype: object"
      ]
     },
     "execution_count": 45,
     "metadata": {},
     "output_type": "execute_result"
    }
   ],
   "source": [
    " #what kind are they now?\n",
    "df_trn_val.dtypes\n",
    "df_test.dtypes"
   ]
  },
  {
   "cell_type": "code",
   "execution_count": 46,
   "metadata": {},
   "outputs": [],
   "source": [
    "for v in cat_vars: \n",
    "    df_trn_val[v] = df_trn_val[v].astype('category').cat.as_ordered()\n",
    "    df_test[v] = df_test[v].astype('category').cat.as_ordered()\n",
    "\n",
    "for v in contin_vars: \n",
    "    df_trn_val[v] = df_trn_val[v].astype('float32')\n",
    "    df_test[v] = df_test[v].astype('float32')"
   ]
  },
  {
   "cell_type": "markdown",
   "metadata": {},
   "source": [
    "# Verify no nulls"
   ]
  },
  {
   "cell_type": "code",
   "execution_count": 47,
   "metadata": {},
   "outputs": [
    {
     "name": "stdout",
     "output_type": "stream",
     "text": [
      "Nulls in df_trn_val=0\n",
      "Nulls in df_test   =0\n",
      "Rows in df_trn_val=2115\n",
      "Rows in df_test   =705\n",
      "Rows in yl_trn_val=2115\n",
      "Rows in yl_test   =705\n"
     ]
    }
   ],
   "source": [
    "print( \"Nulls in df_trn_val=\" + str(df_trn_val.isnull().sum().sum()))\n",
    "print( \"Nulls in df_test   =\" + str(df_test.isnull().sum().sum()))\n",
    "\n",
    "print( \"Rows in df_trn_val=\" + str(len(df_trn_val)))\n",
    "print( \"Rows in df_test   =\" + str(len(df_test)))\n",
    "\n",
    "print( \"Rows in yl_trn_val=\" + str(len(yl_trn_val)))\n",
    "print( \"Rows in yl_test   =\" + str(len(yl_test)))"
   ]
  },
  {
   "cell_type": "markdown",
   "metadata": {},
   "source": [
    "# Save the data\n",
    "side effect: df_test starts at index ~2300, the following will reset its index to 0 "
   ]
  },
  {
   "cell_type": "code",
   "execution_count": 48,
   "metadata": {},
   "outputs": [],
   "source": [
    "PATH = \"./data/SS_Data\"\n",
    "\n",
    "#needed for feather, do not add index column\n",
    "df_trn_val.reset_index(drop = True,inplace = True)\n",
    "df_test.reset_index(drop = True,inplace = True)\n",
    "\n",
    "#save train and test dataframes\n",
    "df_trn_val.to_feather(f'{PATH}/df_trn_val')\n",
    "df_test.to_feather(f'{PATH}/df_test')\n",
    "\n",
    "#save tran and test dependant nparray\n",
    "np.save(f'{PATH}/yl_trn_val', yl_trn_val)    # .npy extension is added if not given\n",
    "np.save(f'{PATH}/yl_test', yl_test)    "
   ]
  },
  {
   "cell_type": "markdown",
   "metadata": {},
   "source": [
    "# Reload the processed dataframes and the numpy target arrays"
   ]
  },
  {
   "cell_type": "code",
   "execution_count": 49,
   "metadata": {},
   "outputs": [],
   "source": [
    "#reload\n",
    "df_trn_val = pd.read_feather(f'{PATH}/df_trn_val')\n",
    "df_test = pd.read_feather(f'{PATH}/df_test')\n",
    "\n",
    "yl_trn_val  = np.load(f'{PATH}/yl_trn_val.npy')\n",
    "yl_test  = np.load(f'{PATH}/yl_test.npy')"
   ]
  },
  {
   "cell_type": "markdown",
   "metadata": {},
   "source": [
    "# Create model data object"
   ]
  },
  {
   "cell_type": "code",
   "execution_count": 50,
   "metadata": {},
   "outputs": [],
   "source": [
    "def inv_y(a): return np.exp(a)\n",
    "def exp_rmspe(y_pred, targ):\n",
    "    targ = inv_y(targ)\n",
    "    pct_var = (targ - inv_y(y_pred))/targ\n",
    "    return math.sqrt((pct_var**2).mean())\n",
    "def mse(y_pred, targ):\n",
    "    targ = inv_y(targ)\n",
    "    y_pred = inv_y(y_pred)\n",
    "    return math.sqrt(((y_pred-targ)**2).mean())\n",
    "max_log_y = np.max(yl_trn_val)\n",
    "y_range = (0, max_log_y*1.2)"
   ]
  },
  {
   "cell_type": "code",
   "execution_count": 51,
   "metadata": {},
   "outputs": [],
   "source": [
    "md = ColumnarModelData.from_data_frame(PATH, val_idx, df_trn_val, yl_trn_val.astype(np.float32), cat_flds=cat_vars, bs=16, test_df = df_test)"
   ]
  },
  {
   "cell_type": "code",
   "execution_count": 73,
   "metadata": {},
   "outputs": [],
   "source": [
    "#get categorical sizes, make sure you convert columns in cat_vars to type category before you run this \n",
    "#make sure you include all the years! including the possibilities from your test set see the df not df_trn_val below\n",
    "# cat_sz = [(c, len(df_trn_val[c].cat.categories)+1) for c in cat_vars]\n",
    "cat_sz = [(c, len(df[c].cat.categories)+1) for c in cat_vars]\n",
    "\n",
    "emb_szs = [(c, min(50, (c+1)//2)) for _,c in cat_sz]"
   ]
  },
  {
   "cell_type": "code",
   "execution_count": 74,
   "metadata": {},
   "outputs": [
    {
     "data": {
      "text/plain": [
       "[('Year', 178),\n",
       " ('Month', 13),\n",
       " ('Dayofyear', 23),\n",
       " ('Is_quarter_end', 2),\n",
       " ('Is_quarter_start', 3),\n",
       " ('Is_year_end', 2),\n",
       " ('Is_year_start', 3)]"
      ]
     },
     "execution_count": 74,
     "metadata": {},
     "output_type": "execute_result"
    }
   ],
   "source": [
    "# cat_sz[0] = (191, 50)\n",
    "cat_sz"
   ]
  },
  {
   "cell_type": "code",
   "execution_count": 65,
   "metadata": {},
   "outputs": [
    {
     "data": {
      "text/plain": [
       "[(236, 50), (13, 7), (23, 12), (2, 1), (3, 2), (2, 1), (3, 2)]"
      ]
     },
     "execution_count": 65,
     "metadata": {},
     "output_type": "execute_result"
    }
   ],
   "source": [
    "emb_szs"
   ]
  },
  {
   "cell_type": "code",
   "execution_count": 66,
   "metadata": {},
   "outputs": [
    {
     "data": {
      "text/plain": [
       "[('Year', 236),\n",
       " ('Month', 13),\n",
       " ('Dayofyear', 23),\n",
       " ('Is_quarter_end', 2),\n",
       " ('Is_quarter_start', 3),\n",
       " ('Is_year_end', 2),\n",
       " ('Is_year_start', 3)]"
      ]
     },
     "execution_count": 66,
     "metadata": {},
     "output_type": "execute_result"
    }
   ],
   "source": [
    "cat_sz"
   ]
  },
  {
   "cell_type": "code",
   "execution_count": 67,
   "metadata": {},
   "outputs": [
    {
     "data": {
      "text/plain": [
       "[(236, 50), (13, 7), (23, 12), (2, 1), (3, 2), (2, 1), (3, 2)]"
      ]
     },
     "execution_count": 67,
     "metadata": {},
     "output_type": "execute_result"
    }
   ],
   "source": [
    "emb_szs"
   ]
  },
  {
   "cell_type": "code",
   "execution_count": 68,
   "metadata": {},
   "outputs": [
    {
     "data": {
      "application/vnd.jupyter.widget-view+json": {
       "model_id": "76a12e5c58144792a3f3ac20c95809ab",
       "version_major": 2,
       "version_minor": 0
      },
      "text/plain": [
       "HBox(children=(IntProgress(value=0, description='Epoch', max=1), HTML(value='')))"
      ]
     },
     "metadata": {},
     "output_type": "display_data"
    },
    {
     "name": "stdout",
     "output_type": "stream",
     "text": [
      "epoch      trn_loss   val_loss                              \n",
      "    0      7.827887   11.344112 \n",
      "\n"
     ]
    },
    {
     "data": {
      "image/png": "[encoded data removed]",
      "text/plain": [
       "<Figure size 432x288 with 1 Axes>"
      ]
     },
     "metadata": {},
     "output_type": "display_data"
    }
   ],
   "source": [
    "m = md.get_learner(emb_szs, len(df_trn_val.columns)-len(cat_vars),0.04, 1, [1000,500], [0.001,0.01], y_range=y_range)\n",
    "m.lr_find()\n",
    "m.sched.plot(1)"
   ]
  },
  {
   "cell_type": "code",
   "execution_count": 69,
   "metadata": {
    "scrolled": true
   },
   "outputs": [
    {
     "data": {
      "application/vnd.jupyter.widget-view+json": {
       "model_id": "12ce29e1c2874f5895226fe8f1f1bbf7",
       "version_major": 2,
       "version_minor": 0
      },
      "text/plain": [
       "HBox(children=(IntProgress(value=0, description='Epoch', max=14), HTML(value='')))"
      ]
     },
     "metadata": {},
     "output_type": "display_data"
    },
    {
     "name": "stdout",
     "output_type": "stream",
     "text": [
      "epoch      trn_loss   val_loss   exp_rmspe  mse             \n",
      "    0      1.884211   1.070309   13.969527  15.596442 \n",
      "    1      1.537871   1.093903   12.026483  15.369704       \n",
      "    2      1.421104   1.120002   10.10968   15.511403       \n",
      "    3      1.414237   1.057125   10.404155  15.093958       \n",
      "    4      1.408361   1.017487   11.040147  14.810769       \n",
      "    5      1.386295   1.001281   11.516381  14.618231       \n",
      "    6      1.323476   1.000189   11.319086  14.912874       \n",
      "    7      1.152384   0.970518   12.307002  14.449672       \n",
      "    8      1.258779   1.143809   9.167661   16.405707       \n",
      "    9      1.169537   1.073984   10.17004   15.624793       \n",
      "    10     1.151154   1.020657   10.780853  15.032033       \n",
      "    11     1.240495   1.067686   9.643145   15.017051        \n",
      "    12     1.045418   1.066821   9.664573   15.118957       \n",
      "    13     1.180384   1.07154    9.641837   15.209025       \n",
      "\n"
     ]
    },
    {
     "data": {
      "text/plain": [
       "[array([1.07154]), 9.64183662125031, 15.209025384938895]"
      ]
     },
     "execution_count": 69,
     "metadata": {},
     "output_type": "execute_result"
    }
   ],
   "source": [
    "lr = 20e-5\n",
    "\n",
    "# m.fit(lr, 2, metrics=[exp_rmspe,mse], cycle_len=1, cycle_mult=2)\n",
    "m.fit(lr, n_cycle = 3, metrics=[exp_rmspe,mse], cycle_len=2, cycle_mult=2)"
   ]
  },
  {
   "cell_type": "markdown",
   "metadata": {},
   "source": [
    "# Save model parameters"
   ]
  },
  {
   "cell_type": "code",
   "execution_count": 70,
   "metadata": {},
   "outputs": [],
   "source": [
    "#saves it to wherever PATH points in original model object\n",
    "m.save(f'val1')\n",
    "m.load(f'val1')"
   ]
  },
  {
   "cell_type": "markdown",
   "metadata": {},
   "source": [
    "# Lets run some predictions, first on the validation then on the test data\n"
   ]
  },
  {
   "cell_type": "code",
   "execution_count": 117,
   "metadata": {},
   "outputs": [],
   "source": [
    "#calling predict will return predictions from the validation set\n",
    "predictions_validation = m.predict()"
   ]
  },
  {
   "cell_type": "markdown",
   "metadata": {},
   "source": [
    "the learner has never seen df_test values"
   ]
  },
  {
   "cell_type": "code",
   "execution_count": 118,
   "metadata": {},
   "outputs": [],
   "source": [
    "#create ColumnarDataSet from DataFrame (df)\n",
    "ctest = ColumnarDataset.from_data_frame(df_test,cat_flds=cat_vars)\n",
    "\n",
    "# create DataLoader from ColumnarDataSet\n",
    "dl_test = DataLoader(ctest)\n",
    "\n",
    "# make predictions for DataLoader\n",
    "predictions_test = m.predict_dl(dl_test)"
   ]
  },
  {
   "cell_type": "markdown",
   "metadata": {},
   "source": [
    "## Calculate final values for display"
   ]
  },
  {
   "cell_type": "code",
   "execution_count": 119,
   "metadata": {},
   "outputs": [],
   "source": [
    "#actual\n",
    "actual = np.append([np.exp(yl_trn_val)],[np.exp(yl_test)])\n",
    "\n",
    "#validation(bunch of NaNs, val results, bunch of NaNs)\n",
    "validation = np.append([  np.append([np.full(val_start,np.nan)],[np.exp(predictions_validation)])  ],[np.full(len(predictions),np.nan)])\n",
    "\n",
    "#test(bunch of NaNs,bunch of NaNs, val results )\n",
    "test = np.append([np.full(len(df_trn_val),np.nan)],[np.exp(predictions_test)])"
   ]
  },
  {
   "cell_type": "code",
   "execution_count": 131,
   "metadata": {},
   "outputs": [
    {
     "data": {
      "image/png": "[encoded data removed]",
      "text/plain": [
       "<Figure size 1440x720 with 1 Axes>"
      ]
     },
     "metadata": {},
     "output_type": "display_data"
    }
   ],
   "source": [
    "import matplotlib.pyplot as plt\n",
    "plt.rcParams['figure.figsize'] = [20, 10]\n",
    "plt.plot(actual,label='Actual data')\n",
    "plt.plot(validation, label='Validation data (predicted)')\n",
    "plt.plot(test,label='Test data (predicted)')\n",
    "plt.legend(loc='upper center');\n",
    "plt.show()"
   ]
  }
 ],
 "metadata": {
  "kernelspec": {
   "display_name": "Python 3",
   "language": "python",
   "name": "python3"
  },
  "language_info": {
   "codemirror_mode": {
    "name": "ipython",
    "version": 3
   },
   "file_extension": ".py",
   "mimetype": "text/x-python",
   "name": "python",
   "nbconvert_exporter": "python",
   "pygments_lexer": "ipython3",
   "version": "3.6.5"
  }
 },
 "nbformat": 4,
 "nbformat_minor": 2
}
