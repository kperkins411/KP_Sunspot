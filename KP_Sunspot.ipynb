{
 "cells": [
  {
   "cell_type": "markdown",
   "metadata": {
    "heading_collapsed": true
   },
   "source": [
    "# Sunspot prediction using  time series structured data\n",
    "This notebook uses concepts from fastAIs DL1 course to estimate sunspot activity using a 2 layer fully connected neurel net. It demonstrates how to use time lags (or a sliding window) to feed series data into a neural ne to predict sunspot activity.  It shows how to predictions for 1 time step in the future as well as multiple steps in the future.<br>This notebook derives from this post https://medium.com/38th-street-studios/time-series-with-structured-deep-learning-e911c1ef9923"
   ]
  },
  {
   "cell_type": "markdown",
   "metadata": {},
   "source": [
    "#run this to get jupyter extensions\n",
    "!pip install https://github.com/ipython-contrib/jupyter_contrib_nbextensions/tarball/master\n",
    "!pip install jupyter_nbextensions_configurator\n",
    "!jupyter contrib nbextension install --user\n",
    "!jupyter nbextensions_configurator enable --user"
   ]
  },
  {
   "cell_type": "code",
   "execution_count": 183,
   "metadata": {},
   "outputs": [],
   "source": [
    "%reload_ext autoreload\n",
    "%autoreload 2\n",
    "%matplotlib inline"
   ]
  },
  {
   "cell_type": "markdown",
   "metadata": {},
   "source": [
    "# Get the data\n",
    "comes from https://datamarket.com/data/set/22ti/zuerich-monthly-sunspot-numbers-1749-1983#!ds=22ti&display=line<br>\n",
    "in ../data folder<br>"
   ]
  },
  {
   "cell_type": "code",
   "execution_count": 184,
   "metadata": {},
   "outputs": [],
   "source": [
    "# get the data, first row [0] is column names\n",
    "import pandas as pd\n",
    "df = pd.read_csv(\"./data/sunspot/zuerich-monthly-sunspot-numbers.csv\",header=0 )"
   ]
  },
  {
   "cell_type": "markdown",
   "metadata": {},
   "source": [
    "# Initialize ( Full or partial dataset?, num_lags)"
   ]
  },
  {
   "cell_type": "code",
   "execution_count": 185,
   "metadata": {},
   "outputs": [],
   "source": [
    "#uncomment below when using full dataset\n",
    "df = df[:]"
   ]
  },
  {
   "cell_type": "code",
   "execution_count": 186,
   "metadata": {},
   "outputs": [],
   "source": [
    "#create num_lags additional columns, for each row these columns will hold \n",
    "#SunspotNumbst-1, SunspotNumbst-2 etc\n",
    "#used to create a list of the num_lags past correct observations to feed into the model\n",
    "num_lags = 1"
   ]
  },
  {
   "cell_type": "markdown",
   "metadata": {},
   "source": [
    "# View dataset"
   ]
  },
  {
   "cell_type": "code",
   "execution_count": 187,
   "metadata": {},
   "outputs": [],
   "source": [
    "df.columns = ['Month', 'SunspotNumbs']"
   ]
  },
  {
   "cell_type": "code",
   "execution_count": 188,
   "metadata": {},
   "outputs": [
    {
     "data": {
      "text/html": [
       "<div>\n",
       "<style scoped>\n",
       "    .dataframe tbody tr th:only-of-type {\n",
       "        vertical-align: middle;\n",
       "    }\n",
       "\n",
       "    .dataframe tbody tr th {\n",
       "        vertical-align: top;\n",
       "    }\n",
       "\n",
       "    .dataframe thead th {\n",
       "        text-align: right;\n",
       "    }\n",
       "</style>\n",
       "<table border=\"1\" class=\"dataframe\">\n",
       "  <thead>\n",
       "    <tr style=\"text-align: right;\">\n",
       "      <th></th>\n",
       "      <th>Month</th>\n",
       "      <th>SunspotNumbs</th>\n",
       "    </tr>\n",
       "  </thead>\n",
       "  <tbody>\n",
       "    <tr>\n",
       "      <th>2815</th>\n",
       "      <td>1983-08</td>\n",
       "      <td>71.8</td>\n",
       "    </tr>\n",
       "    <tr>\n",
       "      <th>2816</th>\n",
       "      <td>1983-09</td>\n",
       "      <td>50.3</td>\n",
       "    </tr>\n",
       "    <tr>\n",
       "      <th>2817</th>\n",
       "      <td>1983-10</td>\n",
       "      <td>55.8</td>\n",
       "    </tr>\n",
       "    <tr>\n",
       "      <th>2818</th>\n",
       "      <td>1983-11</td>\n",
       "      <td>33.3</td>\n",
       "    </tr>\n",
       "    <tr>\n",
       "      <th>2819</th>\n",
       "      <td>1983-12</td>\n",
       "      <td>33.4</td>\n",
       "    </tr>\n",
       "  </tbody>\n",
       "</table>\n",
       "</div>"
      ],
      "text/plain": [
       "        Month  SunspotNumbs\n",
       "2815  1983-08          71.8\n",
       "2816  1983-09          50.3\n",
       "2817  1983-10          55.8\n",
       "2818  1983-11          33.3\n",
       "2819  1983-12          33.4"
      ]
     },
     "execution_count": 188,
     "metadata": {},
     "output_type": "execute_result"
    }
   ],
   "source": [
    "#view the data\n",
    "df.tail()"
   ]
  },
  {
   "cell_type": "code",
   "execution_count": 189,
   "metadata": {},
   "outputs": [
    {
     "data": {
      "text/plain": [
       "<matplotlib.axes._subplots.AxesSubplot at 0x7f3d327e94a8>"
      ]
     },
     "execution_count": 189,
     "metadata": {},
     "output_type": "execute_result"
    },
    {
     "data": {
      "image/png": "[encoded data removed]",
      "text/plain": [
       "<Figure size 432x288 with 1 Axes>"
      ]
     },
     "metadata": {},
     "output_type": "display_data"
    }
   ],
   "source": [
    "#view in a plot, looks like the cycle length is ~125 points (estimate by 500 points/4 peaks = 125 points use for num_lags)\n",
    "import matplotlib.pyplot as plt\n",
    "df.plot()"
   ]
  },
  {
   "cell_type": "markdown",
   "metadata": {},
   "source": [
    "# convert date time\n",
    "The last line in the csv file is a summary, please remove it before running this operation"
   ]
  },
  {
   "cell_type": "code",
   "execution_count": 190,
   "metadata": {},
   "outputs": [],
   "source": [
    "from fastai.structured import *\n",
    "from fastai.column_data import *\n",
    "#Convert our date column to a pandas datetime Series\n",
    "df[\"Date\"] = pd.to_datetime(df[\"Month\"], format='%Y-%m')\n",
    "#Create date features\n",
    "add_datepart(df,\"Date\")"
   ]
  },
  {
   "cell_type": "code",
   "execution_count": 191,
   "metadata": {},
   "outputs": [],
   "source": [
    "#df.describe()"
   ]
  },
  {
   "cell_type": "code",
   "execution_count": 192,
   "metadata": {},
   "outputs": [
    {
     "data": {
      "text/plain": [
       "array(['Month', 'SunspotNumbs', 'Year', 'Week', 'Day', 'Dayofweek', 'Dayofyear', 'Is_month_end',\n",
       "       'Is_month_start', 'Is_quarter_end', 'Is_quarter_start', 'Is_year_end', 'Is_year_start', 'Elapsed'],\n",
       "      dtype=object)"
      ]
     },
     "execution_count": 192,
     "metadata": {},
     "output_type": "execute_result"
    }
   ],
   "source": [
    "#see all the values, just need 2 year and month\n",
    "df.columns.values"
   ]
  },
  {
   "cell_type": "code",
   "execution_count": 193,
   "metadata": {},
   "outputs": [
    {
     "data": {
      "text/plain": [
       "Month                 int64\n",
       "SunspotNumbs        float64\n",
       "Year                  int64\n",
       "Week                  int64\n",
       "Day                   int64\n",
       "Dayofweek             int64\n",
       "Dayofyear             int64\n",
       "Is_month_end           bool\n",
       "Is_month_start         bool\n",
       "Is_quarter_end         bool\n",
       "Is_quarter_start       bool\n",
       "Is_year_end            bool\n",
       "Is_year_start          bool\n",
       "Elapsed               int64\n",
       "dtype: object"
      ]
     },
     "execution_count": 193,
     "metadata": {},
     "output_type": "execute_result"
    }
   ],
   "source": [
    "df.dtypes"
   ]
  },
  {
   "cell_type": "code",
   "execution_count": 194,
   "metadata": {},
   "outputs": [],
   "source": [
    "# get rid of useless columns\n",
    "df=df.drop(['Week', 'Day', 'Dayofweek', 'Is_month_end', 'Is_month_start', 'Elapsed'],axis=1)"
   ]
  },
  {
   "cell_type": "markdown",
   "metadata": {},
   "source": [
    "## These 2 cells do the same thing\n",
    "Ones a bit easier to read and a bit slower"
   ]
  },
  {
   "cell_type": "code",
   "execution_count": 195,
   "metadata": {},
   "outputs": [],
   "source": [
    "# %%timeit\n",
    "# for i in range(1,num_lags+1):\n",
    "#     df[f'lag_{i}'] = np.append([np.nan for j in range(0,i)],df['SunspotNumbs'])[:-i]\n",
    "\n",
    "#for each row, convert all NANs to either Sunspot val or last lag_n that is not a NaN"
   ]
  },
  {
   "cell_type": "code",
   "execution_count": 196,
   "metadata": {},
   "outputs": [
    {
     "name": "stdout",
     "output_type": "stream",
     "text": [
      "152 µs ± 2.95 µs per loop (mean ± std. dev. of 7 runs, 10000 loops each)\n"
     ]
    }
   ],
   "source": [
    "%%timeit\n",
    "df[f'lag_1'] =  df['SunspotNumbs'].shift(1)\n",
    "for i in range(2,num_lags+1):\n",
    "    df[f'lag_{i}'] = df[f'lag_{i-1}'].shift(1)\n",
    "\n",
    "#for each row, convert all NANs to either Sunspot val or last lag_n that is not a NaN"
   ]
  },
  {
   "cell_type": "code",
   "execution_count": 197,
   "metadata": {},
   "outputs": [],
   "source": [
    "#what does it look like? (uncomment below)\n",
    "#df[0:300].T"
   ]
  },
  {
   "cell_type": "code",
   "execution_count": 198,
   "metadata": {},
   "outputs": [],
   "source": [
    "#df.tail().T"
   ]
  },
  {
   "cell_type": "markdown",
   "metadata": {},
   "source": [
    "# Convert column types to category and float32"
   ]
  },
  {
   "cell_type": "code",
   "execution_count": 199,
   "metadata": {},
   "outputs": [],
   "source": [
    "contin_vars = [f\"lag_{i}\" for i in range(1,num_lags+1)]\n",
    "cat_vars = [\"Year\",\"Month\",\"Dayofyear\",\"Is_quarter_end\",\"Is_quarter_start\",\"Is_year_end\",\"Is_year_start\"]\n",
    "dep = \"SunspotNumbs\"\n",
    "\n",
    "#convert categorical to category type\n",
    "for v in cat_vars: df[v] = df[v].astype('category').cat.as_ordered()\n",
    "    \n",
    "#make float32 since thats what pyTorch expects\n",
    "for v in contin_vars: df[v] = df[v].astype('float32')"
   ]
  },
  {
   "cell_type": "code",
   "execution_count": 200,
   "metadata": {},
   "outputs": [],
   "source": [
    "#df.dtypes"
   ]
  },
  {
   "cell_type": "markdown",
   "metadata": {},
   "source": [
    "# Split dataframe to train, val, test"
   ]
  },
  {
   "cell_type": "code",
   "execution_count": 201,
   "metadata": {},
   "outputs": [],
   "source": [
    "train_ratio = 0.8\n",
    "val_ratio = 0.10\n",
    "test_ratio = 0.1\n",
    "\n",
    "#lets get a list of the indices of the entries I want in validation set\n",
    "#its time series so make it at the end\n",
    "numb_rows = len(df)\n",
    "\n",
    "#get the validation portion of df\n",
    "val_start = int(train_ratio*(float(numb_rows)))\n",
    "val_end = int((train_ratio+ val_ratio)*(float(numb_rows)))\n",
    "val_idx = list(range(val_start,val_end ))\n",
    "\n",
    "#split out train-val df\n",
    "df_trn_val = df[:val_end].copy()\n",
    "\n",
    "#split out test df\n",
    "df_test = df[val_end:].copy()"
   ]
  },
  {
   "cell_type": "code",
   "execution_count": 202,
   "metadata": {},
   "outputs": [
    {
     "data": {
      "text/plain": [
       "2538"
      ]
     },
     "execution_count": 202,
     "metadata": {},
     "output_type": "execute_result"
    }
   ],
   "source": [
    "val_end"
   ]
  },
  {
   "cell_type": "code",
   "execution_count": 203,
   "metadata": {},
   "outputs": [
    {
     "data": {
      "text/html": [
       "<div>\n",
       "<style scoped>\n",
       "    .dataframe tbody tr th:only-of-type {\n",
       "        vertical-align: middle;\n",
       "    }\n",
       "\n",
       "    .dataframe tbody tr th {\n",
       "        vertical-align: top;\n",
       "    }\n",
       "\n",
       "    .dataframe thead th {\n",
       "        text-align: right;\n",
       "    }\n",
       "</style>\n",
       "<table border=\"1\" class=\"dataframe\">\n",
       "  <thead>\n",
       "    <tr style=\"text-align: right;\">\n",
       "      <th></th>\n",
       "      <th>Month</th>\n",
       "      <th>SunspotNumbs</th>\n",
       "      <th>Year</th>\n",
       "      <th>Dayofyear</th>\n",
       "      <th>Is_quarter_end</th>\n",
       "      <th>Is_quarter_start</th>\n",
       "      <th>Is_year_end</th>\n",
       "      <th>Is_year_start</th>\n",
       "      <th>lag_1</th>\n",
       "    </tr>\n",
       "  </thead>\n",
       "  <tbody>\n",
       "    <tr>\n",
       "      <th>2538</th>\n",
       "      <td>7</td>\n",
       "      <td>121.7</td>\n",
       "      <td>1960</td>\n",
       "      <td>183</td>\n",
       "      <td>False</td>\n",
       "      <td>True</td>\n",
       "      <td>False</td>\n",
       "      <td>False</td>\n",
       "      <td>110.199997</td>\n",
       "    </tr>\n",
       "    <tr>\n",
       "      <th>2539</th>\n",
       "      <td>8</td>\n",
       "      <td>134.1</td>\n",
       "      <td>1960</td>\n",
       "      <td>214</td>\n",
       "      <td>False</td>\n",
       "      <td>False</td>\n",
       "      <td>False</td>\n",
       "      <td>False</td>\n",
       "      <td>121.699997</td>\n",
       "    </tr>\n",
       "    <tr>\n",
       "      <th>2540</th>\n",
       "      <td>9</td>\n",
       "      <td>127.2</td>\n",
       "      <td>1960</td>\n",
       "      <td>245</td>\n",
       "      <td>False</td>\n",
       "      <td>False</td>\n",
       "      <td>False</td>\n",
       "      <td>False</td>\n",
       "      <td>134.100006</td>\n",
       "    </tr>\n",
       "    <tr>\n",
       "      <th>2541</th>\n",
       "      <td>10</td>\n",
       "      <td>82.8</td>\n",
       "      <td>1960</td>\n",
       "      <td>275</td>\n",
       "      <td>False</td>\n",
       "      <td>True</td>\n",
       "      <td>False</td>\n",
       "      <td>False</td>\n",
       "      <td>127.199997</td>\n",
       "    </tr>\n",
       "    <tr>\n",
       "      <th>2542</th>\n",
       "      <td>11</td>\n",
       "      <td>89.6</td>\n",
       "      <td>1960</td>\n",
       "      <td>306</td>\n",
       "      <td>False</td>\n",
       "      <td>False</td>\n",
       "      <td>False</td>\n",
       "      <td>False</td>\n",
       "      <td>82.800003</td>\n",
       "    </tr>\n",
       "  </tbody>\n",
       "</table>\n",
       "</div>"
      ],
      "text/plain": [
       "     Month  SunspotNumbs  Year Dayofyear Is_quarter_end Is_quarter_start  \\\n",
       "2538     7         121.7  1960       183          False             True   \n",
       "2539     8         134.1  1960       214          False            False   \n",
       "2540     9         127.2  1960       245          False            False   \n",
       "2541    10          82.8  1960       275          False             True   \n",
       "2542    11          89.6  1960       306          False            False   \n",
       "\n",
       "     Is_year_end Is_year_start       lag_1  \n",
       "2538       False         False  110.199997  \n",
       "2539       False         False  121.699997  \n",
       "2540       False         False  134.100006  \n",
       "2541       False         False  127.199997  \n",
       "2542       False         False   82.800003  "
      ]
     },
     "execution_count": 203,
     "metadata": {},
     "output_type": "execute_result"
    }
   ],
   "source": [
    "df_test.head()"
   ]
  },
  {
   "cell_type": "raw",
   "metadata": {},
   "source": []
  },
  {
   "cell_type": "markdown",
   "metadata": {},
   "source": [
    "## operate on train and test sets\n",
    "note that Im using the mapper and nas_trn_val from first proc_df to get the appropriate mean and std_dev and nas columns from trn_val set to use on test set "
   ]
  },
  {
   "cell_type": "code",
   "execution_count": 204,
   "metadata": {},
   "outputs": [],
   "source": [
    "#df, y, nas, mapper = proc_df(df_samp, 'SunspotNumbs', do_scale=True)\n",
    "df_trn_val, yl_trn_val, nas_trn_val, mapper = proc_df(df=df_trn_val, y_fld='SunspotNumbs',do_scale=True)\n",
    "\n",
    "#use the above mapper and nas_trn_val for normalization\n",
    "df_test, yl_test, nas_test, _ = proc_df(df=df_test, y_fld='SunspotNumbs',do_scale=True, mapper =mapper, na_dict=nas_trn_val )\n",
    "\n",
    "#first lets make sure we never take ln of 0 (-infinity) by adding a small value to y\n",
    "yl_trn_val = np.log(yl_trn_val + 0.01)\n",
    "yl_test = np.log(yl_test + 0.01)"
   ]
  },
  {
   "cell_type": "code",
   "execution_count": 205,
   "metadata": {},
   "outputs": [
    {
     "data": {
      "text/plain": [
       "array([4.06062, 4.13693, 4.24864, 4.02016, 4.44277])"
      ]
     },
     "execution_count": 205,
     "metadata": {},
     "output_type": "execute_result"
    }
   ],
   "source": [
    "yl_trn_val[0:5]"
   ]
  },
  {
   "cell_type": "code",
   "execution_count": 206,
   "metadata": {},
   "outputs": [],
   "source": [
    "#nas will tell you the median value that is used to replace NaN's for every column with a NaN\n",
    "# you can run the following command on column lag_1 to verify\n",
    "#df_trn_val.lag_1.median()  (uncomment below to see median per lag column)\n",
    "\n",
    "#nas_trn_val \n",
    "#df.lag_1.median()\n",
    "#nas_test "
   ]
  },
  {
   "cell_type": "code",
   "execution_count": 207,
   "metadata": {},
   "outputs": [],
   "source": [
    "#note all the lag_i_na columns\n",
    "#df_trn_val.head().T"
   ]
  },
  {
   "cell_type": "code",
   "execution_count": 208,
   "metadata": {},
   "outputs": [],
   "source": [
    "#what does target look like\n",
    "#len(y)\n",
    "#yl_trn_val"
   ]
  },
  {
   "cell_type": "code",
   "execution_count": 209,
   "metadata": {},
   "outputs": [
    {
     "data": {
      "text/plain": [
       "Index(['Month', 'Year', 'Dayofyear', 'Is_quarter_end', 'Is_quarter_start',\n",
       "       'Is_year_end', 'Is_year_start', 'lag_1', 'lag_1_na'],\n",
       "      dtype='object')"
      ]
     },
     "execution_count": 209,
     "metadata": {},
     "output_type": "execute_result"
    }
   ],
   "source": [
    "#columns in test set\n",
    "df_test.columns"
   ]
  },
  {
   "cell_type": "markdown",
   "metadata": {},
   "source": [
    "## Dataframe cleanup"
   ]
  },
  {
   "cell_type": "code",
   "execution_count": 210,
   "metadata": {},
   "outputs": [],
   "source": [
    "#get rid of the lag_n_na fields\n",
    "def dump_na_columns(df1):   \n",
    "    for i in range(1,num_lags+1):\n",
    "        try:\n",
    "            df1.drop(f'lag_{i}_na',axis=1,inplace=True)\n",
    "        except ValueError as e:\n",
    "            print('ValueError:{0}'.format(e))\n",
    "dump_na_columns(df_trn_val)\n",
    "dump_na_columns(df_test)"
   ]
  },
  {
   "cell_type": "code",
   "execution_count": 211,
   "metadata": {},
   "outputs": [
    {
     "name": "stdout",
     "output_type": "stream",
     "text": [
      "Rows in df_trn_val=2538\n",
      "Rows in df_test   =282\n"
     ]
    }
   ],
   "source": [
    "print( \"Rows in df_trn_val=\" + str(len(df_trn_val)))\n",
    "print( \"Rows in df_test   =\" + str(len(df_test)))"
   ]
  },
  {
   "cell_type": "markdown",
   "metadata": {},
   "source": [
    "## Adjust column types\n",
    "Convert all categorical columns to 'category' and continuous variables to 'float32' (for pytorch)"
   ]
  },
  {
   "cell_type": "code",
   "execution_count": 212,
   "metadata": {},
   "outputs": [],
   "source": [
    "#what kind are they now?\n",
    "\n",
    "#df_trn_val.dtypes\n",
    "#df_test.dtypes"
   ]
  },
  {
   "cell_type": "code",
   "execution_count": 213,
   "metadata": {},
   "outputs": [],
   "source": [
    "for v in cat_vars: \n",
    "    df_trn_val[v] = df_trn_val[v].astype('category').cat.as_ordered()\n",
    "    df_test[v] = df_test[v].astype('category').cat.as_ordered()\n",
    "\n",
    "for v in contin_vars: \n",
    "    df_trn_val[v] = df_trn_val[v].astype('float32')\n",
    "    df_test[v] = df_test[v].astype('float32')"
   ]
  },
  {
   "cell_type": "markdown",
   "metadata": {},
   "source": [
    "## Verify no nulls"
   ]
  },
  {
   "cell_type": "code",
   "execution_count": 214,
   "metadata": {},
   "outputs": [
    {
     "name": "stdout",
     "output_type": "stream",
     "text": [
      "Nulls in df_trn_val=0\n",
      "Nulls in df_test   =0\n",
      "Rows in df_trn_val=2538\n",
      "Rows in df_test   =282\n",
      "Rows in yl_trn_val=2538\n",
      "Rows in yl_test   =282\n"
     ]
    }
   ],
   "source": [
    "print( \"Nulls in df_trn_val=\" + str(df_trn_val.isnull().sum().sum()))\n",
    "print( \"Nulls in df_test   =\" + str(df_test.isnull().sum().sum()))\n",
    "\n",
    "print( \"Rows in df_trn_val=\" + str(len(df_trn_val)))\n",
    "print( \"Rows in df_test   =\" + str(len(df_test)))\n",
    "\n",
    "print( \"Rows in yl_trn_val=\" + str(len(yl_trn_val)))\n",
    "print( \"Rows in yl_test   =\" + str(len(yl_test)))"
   ]
  },
  {
   "cell_type": "markdown",
   "metadata": {},
   "source": [
    "# Save the data\n",
    "side effect: df_test starts at index ~2300, the following will reset its index to 0 "
   ]
  },
  {
   "cell_type": "code",
   "execution_count": 215,
   "metadata": {},
   "outputs": [
    {
     "data": {
      "text/plain": [
       "DataFrameMapper(default=False, df_out=False,\n",
       "        features=[(['lag_1'], StandardScaler(copy=True, with_mean=True, with_std=True)), (['lag_1_na'], StandardScaler(copy=True, with_mean=True, with_std=True))],\n",
       "        input_df=False, sparse=False)"
      ]
     },
     "execution_count": 215,
     "metadata": {},
     "output_type": "execute_result"
    }
   ],
   "source": [
    "PATH = \"./data/SS_Data\"\n",
    "\n",
    "#needed for feather, do not add index column\n",
    "df_trn_val.reset_index(drop = True,inplace = True)\n",
    "df_test.reset_index(drop = True,inplace = True)\n",
    "\n",
    "#save train and test dataframes\n",
    "df_trn_val.to_feather(f'{PATH}/df_trn_val')\n",
    "df_test.to_feather(f'{PATH}/df_test')\n",
    "\n",
    "#save tran and test dependant nparray\n",
    "np.save(f'{PATH}/yl_trn_val', yl_trn_val)    # .npy extension is added if not given\n",
    "np.save(f'{PATH}/yl_test', yl_test)    \n",
    "\n",
    "#save original\n",
    "df.to_feather(f'{PATH}/df')\n",
    "\n",
    "import pickle\n",
    "output = open(f'{PATH}/mapper','wb')\n",
    "pickle.dump(mapper, output)\n",
    "output.close()\n",
    "mapper\n",
    "# np.save(f'{PATH}/mapper',mapper)\n",
    "# mapper"
   ]
  },
  {
   "cell_type": "markdown",
   "metadata": {},
   "source": [
    "# Reload the processed dataframes and the numpy target arrays"
   ]
  },
  {
   "cell_type": "code",
   "execution_count": 216,
   "metadata": {},
   "outputs": [
    {
     "data": {
      "text/plain": [
       "DataFrameMapper(default=False, df_out=False,\n",
       "        features=[(['lag_1'], StandardScaler(copy=True, with_mean=True, with_std=True), {}), (['lag_1_na'], StandardScaler(copy=True, with_mean=True, with_std=True), {})],\n",
       "        input_df=False, sparse=False)"
      ]
     },
     "execution_count": 216,
     "metadata": {},
     "output_type": "execute_result"
    }
   ],
   "source": [
    "#reload\n",
    "df_trn_val = pd.read_feather(f'{PATH}/df_trn_val')\n",
    "df_test = pd.read_feather(f'{PATH}/df_test')\n",
    "\n",
    "yl_trn_val  = np.load(f'{PATH}/yl_trn_val.npy')\n",
    "yl_test  = np.load(f'{PATH}/yl_test.npy')\n",
    "\n",
    "import pickle\n",
    "input = open(f'{PATH}/mapper','rb')\n",
    "mapper1 = pickle.load(input)\n",
    "input.close()\n",
    "mapper1"
   ]
  },
  {
   "cell_type": "code",
   "execution_count": 217,
   "metadata": {},
   "outputs": [
    {
     "data": {
      "text/plain": [
       "array([49.16016], dtype=float32)"
      ]
     },
     "execution_count": 217,
     "metadata": {},
     "output_type": "execute_result"
    }
   ],
   "source": [
    "mapper.features[0][1].mean_"
   ]
  },
  {
   "cell_type": "code",
   "execution_count": 218,
   "metadata": {},
   "outputs": [
    {
     "data": {
      "text/plain": [
       "array([49.16016], dtype=float32)"
      ]
     },
     "execution_count": 218,
     "metadata": {},
     "output_type": "execute_result"
    }
   ],
   "source": [
    "mapper1.features[0][1].mean_"
   ]
  },
  {
   "cell_type": "markdown",
   "metadata": {},
   "source": [
    "# Create model data object"
   ]
  },
  {
   "cell_type": "code",
   "execution_count": 219,
   "metadata": {},
   "outputs": [],
   "source": [
    "def inv_y(a): return np.exp(a)\n",
    "def exp_rmspe(y_pred, targ):\n",
    "    targ = inv_y(targ)\n",
    "    pct_var = (targ - inv_y(y_pred))/targ\n",
    "    return math.sqrt((pct_var**2).mean())\n",
    "def mse(y_pred, targ):\n",
    "    targ = inv_y(targ)\n",
    "    y_pred = inv_y(y_pred)\n",
    "    return math.sqrt(((y_pred-targ)**2).mean())\n",
    "max_log_y = np.max(yl_trn_val)\n",
    "y_range = (0, max_log_y*1.2)"
   ]
  },
  {
   "cell_type": "code",
   "execution_count": 220,
   "metadata": {},
   "outputs": [],
   "source": [
    "md = ColumnarModelData.from_data_frame(PATH, val_idx, df_trn_val, yl_trn_val.astype(np.float32), cat_flds=cat_vars, bs=16, test_df = df_test)\n",
    "# md = ColumnarModelData.from_data_frame(PATH, val_idx, df_trn_val, yl_trn_val.astype(np.float32), cat_flds=cat_vars, bs=16)"
   ]
  },
  {
   "cell_type": "code",
   "execution_count": 221,
   "metadata": {},
   "outputs": [],
   "source": [
    "#get categorical sizes, make sure you convert columns in cat_vars to type category before you run this \n",
    "#make sure you include all the years! including the possibilities from your test set see the df not df_trn_val below\n",
    "# cat_sz = [(c, len(df_trn_val[c].cat.categories)+1) for c in cat_vars]\n",
    "cat_sz = [(c, len(df[c].cat.categories)+1) for c in cat_vars]\n",
    "\n",
    "emb_szs = [(c, min(50, (c+1)//2)) for _,c in cat_sz]"
   ]
  },
  {
   "cell_type": "code",
   "execution_count": 222,
   "metadata": {},
   "outputs": [
    {
     "data": {
      "text/plain": [
       "[1, 32, 60, 91, 121, ..., 214, 245, 275, 306, 336]\n",
       "Length: 22\n",
       "Categories (22, int64): [1 < 32 < 60 < 61 ... 305 < 306 < 335 < 336]"
      ]
     },
     "execution_count": 222,
     "metadata": {},
     "output_type": "execute_result"
    }
   ],
   "source": [
    "#len(df)\n",
    "df.Dayofyear.unique()"
   ]
  },
  {
   "cell_type": "code",
   "execution_count": 223,
   "metadata": {},
   "outputs": [
    {
     "data": {
      "text/plain": [
       "[('Year', 236),\n",
       " ('Month', 13),\n",
       " ('Dayofyear', 23),\n",
       " ('Is_quarter_end', 2),\n",
       " ('Is_quarter_start', 3),\n",
       " ('Is_year_end', 2),\n",
       " ('Is_year_start', 3)]"
      ]
     },
     "execution_count": 223,
     "metadata": {},
     "output_type": "execute_result"
    }
   ],
   "source": [
    "# cat_sz[0] = (191, 50)\n",
    "cat_sz"
   ]
  },
  {
   "cell_type": "code",
   "execution_count": 224,
   "metadata": {},
   "outputs": [
    {
     "data": {
      "text/plain": [
       "[(236, 50), (13, 7), (23, 12), (2, 1), (3, 2), (2, 1), (3, 2)]"
      ]
     },
     "execution_count": 224,
     "metadata": {},
     "output_type": "execute_result"
    }
   ],
   "source": [
    "emb_szs"
   ]
  },
  {
   "cell_type": "code",
   "execution_count": 225,
   "metadata": {},
   "outputs": [
    {
     "data": {
      "text/plain": [
       "[('Year', 236),\n",
       " ('Month', 13),\n",
       " ('Dayofyear', 23),\n",
       " ('Is_quarter_end', 2),\n",
       " ('Is_quarter_start', 3),\n",
       " ('Is_year_end', 2),\n",
       " ('Is_year_start', 3)]"
      ]
     },
     "execution_count": 225,
     "metadata": {},
     "output_type": "execute_result"
    }
   ],
   "source": [
    "cat_sz"
   ]
  },
  {
   "cell_type": "code",
   "execution_count": 226,
   "metadata": {},
   "outputs": [
    {
     "name": "stderr",
     "output_type": "stream",
     "text": [
      "/home/keith/fastai2/fastai/courses/ml1/fastai/column_data.py:101: UserWarning: nn.init.kaiming_normal is now deprecated in favor of nn.init.kaiming_normal_.\n",
      "  for o in self.lins: kaiming_normal(o.weight.data)\n",
      "/home/keith/fastai2/fastai/courses/ml1/fastai/column_data.py:101: UserWarning: nn.init.kaiming_normal is now deprecated in favor of nn.init.kaiming_normal_.\n",
      "  for o in self.lins: kaiming_normal(o.weight.data)\n",
      "/home/keith/fastai2/fastai/courses/ml1/fastai/column_data.py:103: UserWarning: nn.init.kaiming_normal is now deprecated in favor of nn.init.kaiming_normal_.\n",
      "  kaiming_normal(self.outp.weight.data)\n"
     ]
    },
    {
     "data": {
      "application/vnd.jupyter.widget-view+json": {
       "model_id": "a1537255126c4de5a9fe555bf68fa2d4",
       "version_major": 2,
       "version_minor": 0
      },
      "text/plain": [
       "HBox(children=(IntProgress(value=0, description='Epoch', max=1), HTML(value='')))"
      ]
     },
     "metadata": {},
     "output_type": "display_data"
    },
    {
     "name": "stdout",
     "output_type": "stream",
     "text": [
      "epoch      trn_loss   val_loss                               \n",
      "    0      9.05883    17.444158 \n",
      "\n"
     ]
    },
    {
     "data": {
      "image/png": "[encoded data removed]",
      "text/plain": [
       "<Figure size 432x288 with 1 Axes>"
      ]
     },
     "metadata": {},
     "output_type": "display_data"
    }
   ],
   "source": [
    "numb_continuous_columns = len(df_trn_val.columns)-len(cat_vars)\n",
    "fully_connected_layers_sizes = [50,600]\n",
    "fully_connected_layers_dropout = [0.001,0.01]\n",
    "m = md.get_learner(emb_szs,numb_continuous_columns ,emb_drop = 0.04,out_sz= 1, szs = fully_connected_layers_sizes,\n",
    "                   drops = fully_connected_layers_dropout, y_range=y_range)\n",
    "m.lr_find()\n",
    "m.sched.plot(1)"
   ]
  },
  {
   "cell_type": "code",
   "execution_count": 227,
   "metadata": {
    "scrolled": true
   },
   "outputs": [
    {
     "data": {
      "application/vnd.jupyter.widget-view+json": {
       "model_id": "400903345079453d9a06725ade8be720",
       "version_major": 2,
       "version_minor": 0
      },
      "text/plain": [
       "HBox(children=(IntProgress(value=0, description='Epoch', max=14), HTML(value='')))"
      ]
     },
     "metadata": {},
     "output_type": "display_data"
    },
    {
     "name": "stdout",
     "output_type": "stream",
     "text": [
      "epoch      trn_loss   val_loss   exp_rmspe  mse              \n",
      "    0      2.939024   1.884329   4.670566   69.282082 \n",
      "    1      2.749359   1.65286    4.597995   66.494278        \n",
      "    2      2.370109   0.939841   2.972398   48.659183        \n",
      "    3      1.522478   0.81396    2.459739   41.498853        \n",
      "    4      1.461147   0.870777   2.241899   42.953378        \n",
      "    5      1.281077   0.876284   2.222797   43.036866        \n",
      "    6      1.236519   0.957154   2.08822    45.81744         \n",
      "    7      1.164145   1.097204   1.950416   50.28327         \n",
      "    8      1.169971   1.128329   1.940888   51.761902        \n",
      "    9      1.055577   1.273686   1.886731   55.280219        \n",
      "    10     1.166181   1.211744   1.925334   54.39231          \n",
      "    11     0.965185   1.182077   1.948846   53.800432         \n",
      "    12     1.055397   1.214636   1.929927   54.576045        \n",
      "    13     1.120056   1.215879   1.93175    54.622204        \n",
      "\n"
     ]
    },
    {
     "data": {
      "text/plain": [
       "[1.215878502274236, 1.931749569666852, 54.622203672800026]"
      ]
     },
     "execution_count": 227,
     "metadata": {},
     "output_type": "execute_result"
    }
   ],
   "source": [
    "lr = 20e-5\n",
    "\n",
    "# m.fit(lr, 2, metrics=[exp_rmspe,mse], cycle_len=1, cycle_mult=2)\n",
    "m.fit(lr, n_cycle = 3, metrics=[exp_rmspe,mse], cycle_len=2, cycle_mult=2)"
   ]
  },
  {
   "cell_type": "markdown",
   "metadata": {},
   "source": [
    "# Save model parameters"
   ]
  },
  {
   "cell_type": "code",
   "execution_count": 228,
   "metadata": {},
   "outputs": [],
   "source": [
    "#saves it to wherever PATH points in original model object\n",
    "m.save(f'val1')\n",
    "m.load(f'val1')"
   ]
  },
  {
   "cell_type": "code",
   "execution_count": 229,
   "metadata": {},
   "outputs": [
    {
     "name": "stdout",
     "output_type": "stream",
     "text": [
      "print torch.cuda.is_available()=True\n"
     ]
    }
   ],
   "source": [
    "\n",
    "is_cuda = torch.cuda.is_available()\n",
    "print(\"print torch.cuda.is_available()=\" + str(is_cuda))     "
   ]
  },
  {
   "cell_type": "markdown",
   "metadata": {},
   "source": [
    "# Run some predictions, first on the validation then on the test data\n"
   ]
  },
  {
   "cell_type": "code",
   "execution_count": 230,
   "metadata": {},
   "outputs": [],
   "source": [
    "#calling predict will return predictions from the validation set\n",
    "predictions_validation = m.predict()"
   ]
  },
  {
   "cell_type": "markdown",
   "metadata": {},
   "source": [
    "The learner has never seen df_test values, so create a dataloader with these values to feed into the model for prediction.  The following will predict 1 step in the future based on the normalized dataset and the n (default 12) previous predictions."
   ]
  },
  {
   "cell_type": "code",
   "execution_count": 231,
   "metadata": {},
   "outputs": [],
   "source": [
    "#can do the below 3 if have seperate test set\n",
    "#create ColumnarDataSet from DataFrame (df)\n",
    "ctest = ColumnarDataset.from_data_frame(df_test,cat_flds=cat_vars)\n",
    "\n",
    "# create DataLoader from ColumnarDataSet\n",
    "dl_test = DataLoader(ctest)\n",
    "\n",
    "# make predictions for DataLoader\n",
    "predictions_test = m.predict_dl(dl_test)\n",
    "\n",
    "#or this one for the built in one\n",
    "# predictions_test = m.predict(is_test=True)"
   ]
  },
  {
   "cell_type": "markdown",
   "metadata": {},
   "source": [
    "## Calculate final values for display"
   ]
  },
  {
   "cell_type": "code",
   "execution_count": 232,
   "metadata": {},
   "outputs": [],
   "source": [
    "import matplotlib.pyplot as plt\n",
    "def plot_data(val1=None,val2=None,val3=None,val4=None ):\n",
    "    plt.rcParams['figure.figsize'] = [20, 10]\n",
    "    if (val1 is not None):\n",
    "        plt.plot(val1[0],label=val1[1])\n",
    "    if (val2 is not None):\n",
    "        plt.plot(val2[0],label=val2[1])\n",
    "    if (val3 is not None):\n",
    "        plt.plot(val3[0],label=val3[1])\n",
    "    if (val4 is not None):\n",
    "        plt.plot(val4[0],label=val4[1])\n",
    "    plt.legend(loc='upper center');\n",
    "    plt.show()"
   ]
  },
  {
   "cell_type": "code",
   "execution_count": 233,
   "metadata": {},
   "outputs": [],
   "source": [
    "#actual\n",
    "actual = np.append([np.exp(yl_trn_val)],[np.exp(yl_test)])\n",
    "\n",
    "#validation(bunch of NaNs, val results, bunch of NaNs)\n",
    "validation = np.append([  np.append([np.full(val_start,np.nan)],[np.exp(predictions_validation)])  ],[np.full(len(predictions_validation),np.nan)])\n",
    "\n",
    "#test(bunch of NaNs,bunch of NaNs, val results )\n",
    "test = np.append([np.full(len(df_trn_val),np.nan)],[np.exp(predictions_test)])"
   ]
  },
  {
   "cell_type": "code",
   "execution_count": 234,
   "metadata": {},
   "outputs": [
    {
     "data": {
      "image/png": "[encoded data removed]",
      "text/plain": [
       "<Figure size 1440x720 with 1 Axes>"
      ]
     },
     "metadata": {},
     "output_type": "display_data"
    }
   ],
   "source": [
    "#lets see it\n",
    "plot_data((actual, \"actual\"),(validation,'Validation data (predicted)'),(test,'Test data (predicted)'))"
   ]
  },
  {
   "cell_type": "code",
   "execution_count": 235,
   "metadata": {},
   "outputs": [
    {
     "data": {
      "text/plain": [
       "0"
      ]
     },
     "execution_count": 235,
     "metadata": {},
     "output_type": "execute_result"
    }
   ],
   "source": [
    "torch.cuda.is_available()\n",
    "torch.cuda.current_device()"
   ]
  },
  {
   "cell_type": "markdown",
   "metadata": {},
   "source": [
    "## Try long term predictions\n",
    "What this means is that the lags in the dataset are replaced with what the model actually predicts, use this method to predict more than one datapoint in the future\n",
    "This complicated the data as you must predict then scale, then add the scaled value to the lags for future predictions after every prediction."
   ]
  },
  {
   "cell_type": "code",
   "execution_count": 246,
   "metadata": {
    "scrolled": true
   },
   "outputs": [
    {
     "data": {
      "text/html": [
       "<div>\n",
       "<style scoped>\n",
       "    .dataframe tbody tr th:only-of-type {\n",
       "        vertical-align: middle;\n",
       "    }\n",
       "\n",
       "    .dataframe tbody tr th {\n",
       "        vertical-align: top;\n",
       "    }\n",
       "\n",
       "    .dataframe thead th {\n",
       "        text-align: right;\n",
       "    }\n",
       "</style>\n",
       "<table border=\"1\" class=\"dataframe\">\n",
       "  <thead>\n",
       "    <tr style=\"text-align: right;\">\n",
       "      <th></th>\n",
       "      <th>Month</th>\n",
       "      <th>Year</th>\n",
       "      <th>Dayofyear</th>\n",
       "      <th>Is_quarter_end</th>\n",
       "      <th>Is_quarter_start</th>\n",
       "      <th>Is_year_end</th>\n",
       "      <th>Is_year_start</th>\n",
       "      <th>lag_1</th>\n",
       "    </tr>\n",
       "  </thead>\n",
       "  <tbody>\n",
       "    <tr>\n",
       "      <th>2815</th>\n",
       "      <td>8</td>\n",
       "      <td>235</td>\n",
       "      <td>13</td>\n",
       "      <td>1</td>\n",
       "      <td>1</td>\n",
       "      <td>1</td>\n",
       "      <td>1</td>\n",
       "      <td>82.199997</td>\n",
       "    </tr>\n",
       "    <tr>\n",
       "      <th>2816</th>\n",
       "      <td>9</td>\n",
       "      <td>235</td>\n",
       "      <td>15</td>\n",
       "      <td>1</td>\n",
       "      <td>1</td>\n",
       "      <td>1</td>\n",
       "      <td>1</td>\n",
       "      <td>71.800003</td>\n",
       "    </tr>\n",
       "    <tr>\n",
       "      <th>2817</th>\n",
       "      <td>10</td>\n",
       "      <td>235</td>\n",
       "      <td>17</td>\n",
       "      <td>1</td>\n",
       "      <td>2</td>\n",
       "      <td>1</td>\n",
       "      <td>1</td>\n",
       "      <td>50.299999</td>\n",
       "    </tr>\n",
       "    <tr>\n",
       "      <th>2818</th>\n",
       "      <td>11</td>\n",
       "      <td>235</td>\n",
       "      <td>19</td>\n",
       "      <td>1</td>\n",
       "      <td>1</td>\n",
       "      <td>1</td>\n",
       "      <td>1</td>\n",
       "      <td>55.799999</td>\n",
       "    </tr>\n",
       "    <tr>\n",
       "      <th>2819</th>\n",
       "      <td>12</td>\n",
       "      <td>235</td>\n",
       "      <td>21</td>\n",
       "      <td>1</td>\n",
       "      <td>1</td>\n",
       "      <td>1</td>\n",
       "      <td>1</td>\n",
       "      <td>33.299999</td>\n",
       "    </tr>\n",
       "  </tbody>\n",
       "</table>\n",
       "</div>"
      ],
      "text/plain": [
       "      Month  Year  Dayofyear  Is_quarter_end  Is_quarter_start  Is_year_end  \\\n",
       "2815      8   235         13               1                 1            1   \n",
       "2816      9   235         15               1                 1            1   \n",
       "2817     10   235         17               1                 2            1   \n",
       "2818     11   235         19               1                 1            1   \n",
       "2819     12   235         21               1                 1            1   \n",
       "\n",
       "      Is_year_start      lag_1  \n",
       "2815              1  82.199997  \n",
       "2816              1  71.800003  \n",
       "2817              1  50.299999  \n",
       "2818              1  55.799999  \n",
       "2819              1  33.299999  "
      ]
     },
     "execution_count": 246,
     "metadata": {},
     "output_type": "execute_result"
    }
   ],
   "source": [
    "#get a second test set for continuous testing\n",
    "# df_test_cont = df[val_end:].copy()\n",
    "starting_address = len(df)-100   #save this for later when resetting the prediction indeces\n",
    "df_test_cont = df[starting_address:].copy()\n",
    "\n",
    "starting_address = 0   #save this for later when resetting the prediction indeces\n",
    "df_test_cont = df[:].copy()\n",
    "\n",
    "# #this line is key, not sure why, but it is\n",
    "df_test_cont.reset_index(drop = True,inplace = True)\n",
    "\n",
    "# use the above mapper and nas_trn_val for normalization, do not scale though\n",
    "df_test_cont, yl_test_cont,_ = proc_df(df=df_test_cont, y_fld='SunspotNumbs',do_scale=False, na_dict=nas_trn_val)\n",
    "\n",
    "#get rid of the na columns in df test\n",
    "dump_na_columns(df_test_cont)\n",
    "\n",
    "#first lets make sure we never take ln of 0 (-infinity) by adding a small value to y\n",
    "yl_test_cont = np.log(yl_test_cont + 0.01)\n",
    "\n",
    "#notice the lag values are not normalized\n",
    "df_test_cont.tail()"
   ]
  },
  {
   "cell_type": "markdown",
   "metadata": {},
   "source": [
    "## Create a prediction tracker object"
   ]
  },
  {
   "cell_type": "code",
   "execution_count": 247,
   "metadata": {},
   "outputs": [],
   "source": [
    "from KP_lags import track_preds\n",
    "continuous_preds = track_preds(df = df_test_cont, mapper=mapper, model = m, cat_vars=cat_vars, num_lags = num_lags)"
   ]
  },
  {
   "cell_type": "code",
   "execution_count": 248,
   "metadata": {},
   "outputs": [
    {
     "name": "stdout",
     "output_type": "stream",
     "text": [
      "Nulls in continuous_preds.df=0\n"
     ]
    },
    {
     "data": {
      "text/plain": [
       "Month               False\n",
       "Year                False\n",
       "Dayofyear           False\n",
       "Is_quarter_end      False\n",
       "Is_quarter_start    False\n",
       "Is_year_end         False\n",
       "Is_year_start       False\n",
       "lag_1               False\n",
       "dtype: bool"
      ]
     },
     "execution_count": 248,
     "metadata": {},
     "output_type": "execute_result"
    }
   ],
   "source": [
    "print( \"Nulls in continuous_preds.df=\" + str(continuous_preds.df.isnull().sum().sum()))\n",
    "continuous_preds.df.isna().any()"
   ]
  },
  {
   "cell_type": "code",
   "execution_count": 249,
   "metadata": {},
   "outputs": [],
   "source": [
    "values = {'lag_1': nas_trn_val['lag_1']}\n",
    "continuous_preds.df.fillna(value = values,inplace =True)"
   ]
  },
  {
   "cell_type": "code",
   "execution_count": 250,
   "metadata": {},
   "outputs": [],
   "source": [
    "#run it, it will loop, updating the lags in the dataset with the new predicted values for all rows\n",
    "continuous_preds.run()"
   ]
  },
  {
   "cell_type": "code",
   "execution_count": 251,
   "metadata": {},
   "outputs": [
    {
     "data": {
      "text/html": [
       "<div>\n",
       "<style scoped>\n",
       "    .dataframe tbody tr th:only-of-type {\n",
       "        vertical-align: middle;\n",
       "    }\n",
       "\n",
       "    .dataframe tbody tr th {\n",
       "        vertical-align: top;\n",
       "    }\n",
       "\n",
       "    .dataframe thead th {\n",
       "        text-align: right;\n",
       "    }\n",
       "</style>\n",
       "<table border=\"1\" class=\"dataframe\">\n",
       "  <thead>\n",
       "    <tr style=\"text-align: right;\">\n",
       "      <th></th>\n",
       "      <th>Month</th>\n",
       "      <th>Year</th>\n",
       "      <th>Dayofyear</th>\n",
       "      <th>Is_quarter_end</th>\n",
       "      <th>Is_quarter_start</th>\n",
       "      <th>Is_year_end</th>\n",
       "      <th>Is_year_start</th>\n",
       "      <th>lag_1</th>\n",
       "    </tr>\n",
       "  </thead>\n",
       "  <tbody>\n",
       "    <tr>\n",
       "      <th>0</th>\n",
       "      <td>1.0</td>\n",
       "      <td>1.0</td>\n",
       "      <td>1.0</td>\n",
       "      <td>1.0</td>\n",
       "      <td>2.0</td>\n",
       "      <td>1.0</td>\n",
       "      <td>2.0</td>\n",
       "      <td>-0.218198</td>\n",
       "    </tr>\n",
       "    <tr>\n",
       "      <th>1</th>\n",
       "      <td>2.0</td>\n",
       "      <td>1.0</td>\n",
       "      <td>2.0</td>\n",
       "      <td>1.0</td>\n",
       "      <td>1.0</td>\n",
       "      <td>1.0</td>\n",
       "      <td>1.0</td>\n",
       "      <td>-0.144890</td>\n",
       "    </tr>\n",
       "    <tr>\n",
       "      <th>2</th>\n",
       "      <td>3.0</td>\n",
       "      <td>1.0</td>\n",
       "      <td>3.0</td>\n",
       "      <td>1.0</td>\n",
       "      <td>1.0</td>\n",
       "      <td>1.0</td>\n",
       "      <td>1.0</td>\n",
       "      <td>0.373329</td>\n",
       "    </tr>\n",
       "    <tr>\n",
       "      <th>3</th>\n",
       "      <td>4.0</td>\n",
       "      <td>1.0</td>\n",
       "      <td>5.0</td>\n",
       "      <td>1.0</td>\n",
       "      <td>2.0</td>\n",
       "      <td>1.0</td>\n",
       "      <td>1.0</td>\n",
       "      <td>0.748686</td>\n",
       "    </tr>\n",
       "    <tr>\n",
       "      <th>4</th>\n",
       "      <td>5.0</td>\n",
       "      <td>1.0</td>\n",
       "      <td>7.0</td>\n",
       "      <td>1.0</td>\n",
       "      <td>1.0</td>\n",
       "      <td>1.0</td>\n",
       "      <td>1.0</td>\n",
       "      <td>0.865708</td>\n",
       "    </tr>\n",
       "  </tbody>\n",
       "</table>\n",
       "</div>"
      ],
      "text/plain": [
       "   Month  Year  Dayofyear  Is_quarter_end  Is_quarter_start  Is_year_end  \\\n",
       "0    1.0   1.0        1.0             1.0               2.0          1.0   \n",
       "1    2.0   1.0        2.0             1.0               1.0          1.0   \n",
       "2    3.0   1.0        3.0             1.0               1.0          1.0   \n",
       "3    4.0   1.0        5.0             1.0               2.0          1.0   \n",
       "4    5.0   1.0        7.0             1.0               1.0          1.0   \n",
       "\n",
       "   Is_year_start     lag_1  \n",
       "0            2.0 -0.218198  \n",
       "1            1.0 -0.144890  \n",
       "2            1.0  0.373329  \n",
       "3            1.0  0.748686  \n",
       "4            1.0  0.865708  "
      ]
     },
     "execution_count": 251,
     "metadata": {},
     "output_type": "execute_result"
    }
   ],
   "source": [
    "continuous_preds.df.head() #notice that the lags are now all normalized"
   ]
  },
  {
   "cell_type": "code",
   "execution_count": 252,
   "metadata": {},
   "outputs": [],
   "source": [
    "#reset index to original for dataset\n",
    "i=list(range(len(df_test_cont)))    #how many?\n",
    "i= [x+starting_address for x in i]  #reset to original index\n",
    "\n",
    "#reset index to start at old value\n",
    "df_test_cont.index = i"
   ]
  },
  {
   "cell_type": "code",
   "execution_count": 253,
   "metadata": {},
   "outputs": [
    {
     "data": {
      "text/plain": [
       "Month               float32\n",
       "Year                float32\n",
       "Dayofyear           float32\n",
       "Is_quarter_end      float32\n",
       "Is_quarter_start    float32\n",
       "Is_year_end         float32\n",
       "Is_year_start       float32\n",
       "lag_1               float32\n",
       "dtype: object"
      ]
     },
     "execution_count": 253,
     "metadata": {},
     "output_type": "execute_result"
    }
   ],
   "source": [
    "#cont preds makes em all floats\n",
    "#they are categorical, fix it\n",
    "continuous_preds.df.dtypes"
   ]
  },
  {
   "cell_type": "code",
   "execution_count": 244,
   "metadata": {},
   "outputs": [
    {
     "data": {
      "text/html": [
       "<div>\n",
       "<style scoped>\n",
       "    .dataframe tbody tr th:only-of-type {\n",
       "        vertical-align: middle;\n",
       "    }\n",
       "\n",
       "    .dataframe tbody tr th {\n",
       "        vertical-align: top;\n",
       "    }\n",
       "\n",
       "    .dataframe thead th {\n",
       "        text-align: right;\n",
       "    }\n",
       "</style>\n",
       "<table border=\"1\" class=\"dataframe\">\n",
       "  <thead>\n",
       "    <tr style=\"text-align: right;\">\n",
       "      <th></th>\n",
       "      <th>Month</th>\n",
       "      <th>Year</th>\n",
       "      <th>Dayofyear</th>\n",
       "      <th>Is_quarter_end</th>\n",
       "      <th>Is_quarter_start</th>\n",
       "      <th>Is_year_end</th>\n",
       "      <th>Is_year_start</th>\n",
       "      <th>lag_1</th>\n",
       "    </tr>\n",
       "  </thead>\n",
       "  <tbody>\n",
       "    <tr>\n",
       "      <th>0</th>\n",
       "      <td>1</td>\n",
       "      <td>1</td>\n",
       "      <td>1</td>\n",
       "      <td>1</td>\n",
       "      <td>2</td>\n",
       "      <td>1</td>\n",
       "      <td>2</td>\n",
       "      <td>-0.218198</td>\n",
       "    </tr>\n",
       "  </tbody>\n",
       "</table>\n",
       "</div>"
      ],
      "text/plain": [
       "  Month Year Dayofyear Is_quarter_end Is_quarter_start Is_year_end  \\\n",
       "0     1    1         1              1                2           1   \n",
       "\n",
       "  Is_year_start     lag_1  \n",
       "0             2 -0.218198  "
      ]
     },
     "execution_count": 244,
     "metadata": {},
     "output_type": "execute_result"
    }
   ],
   "source": [
    "df_trn_val.iloc[[0]]"
   ]
  },
  {
   "cell_type": "markdown",
   "metadata": {},
   "source": [
    "## Plot"
   ]
  },
  {
   "cell_type": "code",
   "execution_count": 256,
   "metadata": {
    "code_folding": []
   },
   "outputs": [
    {
     "name": "stdout",
     "output_type": "stream",
     "text": [
      "(2818,)\n"
     ]
    },
    {
     "data": {
      "image/png": "[encoded data removed]",
      "text/plain": [
       "<Figure size 1440x720 with 1 Axes>"
      ]
     },
     "metadata": {},
     "output_type": "display_data"
    }
   ],
   "source": [
    "#expand these\n",
    "test_cont = np.exp(continuous_preds.preds)\n",
    "\n",
    "#reshape for plotting\n",
    "test_cont = test_cont.reshape(len(test_cont))\n",
    "print(test_cont.shape)\n",
    "\n",
    "test_cont = np.append([np.full((starting_address),np.nan)],test_cont)\n",
    "\n",
    "#lets see it actual verses calculated\n",
    "plot_data((actual, \"actual\"),(test_cont,'Continuous test'))\n",
    "\n",
    "# #lets see what the lags look like (make sure they match roughly the training data)\n",
    "# plot_data((np.exp(continuous_preds.df.lag_1), \"continuous_preds.df.lag_1\"),(df_test_cont.lag_1,'df_test_cont.lag_1'))"
   ]
  },
  {
   "cell_type": "markdown",
   "metadata": {},
   "source": [
    "## The mapper contains mean and standard deviation for each column.  The nas_trn_val contains the median for each column\n",
    "Columns of interest begin with lag_  "
   ]
  },
  {
   "cell_type": "code",
   "execution_count": null,
   "metadata": {},
   "outputs": [],
   "source": [
    "#each lag has its own mean and std deviation, the following is lag_1 mean and variance\n",
    "mapper.features[0][1].mean_\n",
    "mapper.features[0][1].var_"
   ]
  },
  {
   "cell_type": "code",
   "execution_count": null,
   "metadata": {},
   "outputs": [],
   "source": [
    "def scale_by_lag(lag,val):\n",
    "    #lags start at 1 but are 0 indexed, so sub 1 from lag number\n",
    "    #the 1 is the location of the StandardScaler in the tuple\n",
    "    return (val - mapper.features[lag-1][1].mean_)/np.sqrt(mapper.features[lag-1][1].var_)"
   ]
  },
  {
   "cell_type": "code",
   "execution_count": null,
   "metadata": {},
   "outputs": [],
   "source": [
    "mapper.features[0][0][0]"
   ]
  },
  {
   "cell_type": "code",
   "execution_count": null,
   "metadata": {},
   "outputs": [],
   "source": [
    "#lets verify that it all works, 2nd row lag_1 is 58 from above when we scale it, it should be .3524\n",
    "val_ = scale_by_lag(lag = 1,val=58)\n",
    "val_"
   ]
  },
  {
   "cell_type": "code",
   "execution_count": null,
   "metadata": {},
   "outputs": [],
   "source": [
    "# ilen = len(df_test)\n",
    "# ilen\n",
    "# df_test.iloc[ilen-1]\n",
    "df_trn_val.iloc[0]"
   ]
  },
  {
   "cell_type": "markdown",
   "metadata": {},
   "source": [
    "## Playground"
   ]
  },
  {
   "cell_type": "code",
   "execution_count": null,
   "metadata": {},
   "outputs": [],
   "source": [
    "#get a single row from the test dataframe\n",
    "type(df_test.iloc[[0]])\n",
    "# df_test.iloc[[0]]"
   ]
  },
  {
   "cell_type": "code",
   "execution_count": null,
   "metadata": {},
   "outputs": [],
   "source": [
    "df_test.iloc[0:2,:].head()"
   ]
  },
  {
   "cell_type": "code",
   "execution_count": 112,
   "metadata": {},
   "outputs": [
    {
     "data": {
      "text/plain": [
       "4.4242854"
      ]
     },
     "execution_count": 112,
     "metadata": {},
     "output_type": "execute_result"
    }
   ],
   "source": [
    "one_row = ColumnarDataset.from_data_frame(df_test.iloc[0:2,:],cat_flds=cat_vars)\n",
    "one_row_test = DataLoader(one_row)\n",
    "one_row_test\n",
    "one_row_test = m.predict_dl(one_row_test)\n",
    "one_row_test[0][0]"
   ]
  },
  {
   "cell_type": "code",
   "execution_count": 115,
   "metadata": {},
   "outputs": [
    {
     "data": {
      "text/plain": [
       "282"
      ]
     },
     "execution_count": 115,
     "metadata": {},
     "output_type": "execute_result"
    }
   ],
   "source": [
    "len(df_test)"
   ]
  },
  {
   "cell_type": "code",
   "execution_count": 65,
   "metadata": {
    "collapsed": true
   },
   "outputs": [
    {
     "data": {
      "text/plain": [
       "[4.2431326,\n",
       " 4.210855,\n",
       " 4.4789796,\n",
       " 4.467159,\n",
       " 3.7513456,\n",
       " 4.114904,\n",
       " 3.9222827,\n",
       " 3.4928966,\n",
       " 3.123862,\n",
       " 3.2035136,\n",
       " 3.5914564,\n",
       " 3.2173588,\n",
       " 3.8609328,\n",
       " 3.7055078,\n",
       " 3.4060948,\n",
       " 3.664295,\n",
       " 2.8568437,\n",
       " 2.467074,\n",
       " 3.3048353,\n",
       " 3.374864,\n",
       " 3.6794102,\n",
       " 3.4078453,\n",
       " 3.632019,\n",
       " 3.4238977,\n",
       " 3.4092417,\n",
       " 2.46891,\n",
       " 2.6584158,\n",
       " 3.6109657,\n",
       " 3.479065,\n",
       " 2.8285959,\n",
       " 2.4018958,\n",
       " 2.5096967,\n",
       " 2.6174939,\n",
       " 2.1585684,\n",
       " 2.9972398,\n",
       " 3.3504498,\n",
       " 3.1067982,\n",
       " 2.1838062,\n",
       " 3.0999868,\n",
       " 3.3390243,\n",
       " 3.271018,\n",
       " 2.5326312,\n",
       " 1.3419535,\n",
       " 1.6831312,\n",
       " 1.5062736,\n",
       " 1.7247689,\n",
       " 1.2798694,\n",
       " 1.5283003,\n",
       " 1.4810898,\n",
       " 1.0614864,\n",
       " 1.4745169,\n",
       " 1.55732,\n",
       " 1.2769549,\n",
       " 1.3846895,\n",
       " 2.0683706,\n",
       " 2.5934422,\n",
       " 2.2704353,\n",
       " 2.1174054,\n",
       " 1.943042,\n",
       " 2.6833112,\n",
       " 2.4401503,\n",
       " 2.0059836,\n",
       " 1.9938053,\n",
       " 2.735383,\n",
       " 2.678425,\n",
       " 2.2270682,\n",
       " 1.6621495,\n",
       " 2.5829055,\n",
       " 2.32908,\n",
       " 2.2543163,\n",
       " 3.4775696,\n",
       " 3.1622083,\n",
       " 3.319984,\n",
       " 3.6328952,\n",
       " 3.3997386,\n",
       " 3.4807308,\n",
       " 3.7384002,\n",
       " 3.5625827,\n",
       " 3.8975596,\n",
       " 4.436427,\n",
       " 4.068811,\n",
       " 4.300201,\n",
       " 3.8663595,\n",
       " 4.1124587,\n",
       " 3.8269808,\n",
       " 4.1647043,\n",
       " 4.2363753,\n",
       " 4.007092,\n",
       " 4.1310787,\n",
       " 4.154302,\n",
       " 4.4438496,\n",
       " 4.3926334,\n",
       " 4.2064314,\n",
       " 3.9430926,\n",
       " 3.89095,\n",
       " 4.3374953,\n",
       " 4.2436614,\n",
       " 3.9971247,\n",
       " 4.284915,\n",
       " 4.2911115,\n",
       " 4.051822,\n",
       " 4.1005497,\n",
       " 4.39493,\n",
       " 4.46866,\n",
       " 4.4528937,\n",
       " 4.5517845,\n",
       " 4.4037757,\n",
       " 4.49453,\n",
       " 4.2917743,\n",
       " 4.258993,\n",
       " 4.1951923,\n",
       " 4.149774,\n",
       " 4.324772,\n",
       " 4.246423,\n",
       " 4.1484175,\n",
       " 4.396754,\n",
       " 4.4318013,\n",
       " 4.1344476,\n",
       " 4.352435,\n",
       " 4.4939146,\n",
       " 4.273741,\n",
       " 4.31031,\n",
       " 4.0874977,\n",
       " 4.172678,\n",
       " 4.1600804,\n",
       " 4.182343,\n",
       " 3.8209088,\n",
       " 4.0648737,\n",
       " 3.775365,\n",
       " 3.2760296,\n",
       " 3.6816468,\n",
       " 3.3187773,\n",
       " 3.0698092,\n",
       " 3.7566218,\n",
       " 3.4478626,\n",
       " 3.194381,\n",
       " 3.357653,\n",
       " 3.4617703,\n",
       " 3.7987394,\n",
       " 3.4613035,\n",
       " 3.7817996,\n",
       " 3.7469323,\n",
       " 3.3984194,\n",
       " 3.686579,\n",
       " 3.9285116,\n",
       " 3.5754158,\n",
       " 3.7794518,\n",
       " 3.4495695,\n",
       " 3.275922,\n",
       " 2.7741184,\n",
       " 3.33481,\n",
       " 3.446787,\n",
       " 3.409723,\n",
       " 3.263453,\n",
       " 3.8457832,\n",
       " 3.196601,\n",
       " 3.237577,\n",
       " 2.3634102,\n",
       " 2.6398373,\n",
       " 3.7695677,\n",
       " 2.9420562,\n",
       " 2.5015795,\n",
       " 2.3378305,\n",
       " 2.8942034,\n",
       " 2.725978,\n",
       " 2.3677344,\n",
       " 3.4377146,\n",
       " 3.163691,\n",
       " 3.1400528,\n",
       " 3.7268777,\n",
       " 3.1487863,\n",
       " 3.2576618,\n",
       " 3.69512,\n",
       " 2.6303856,\n",
       " 2.009546,\n",
       " 2.2851732,\n",
       " 1.7552911,\n",
       " 1.6873026,\n",
       " 1.4327594,\n",
       " 1.5175359,\n",
       " 1.7904385,\n",
       " 2.4561312,\n",
       " 3.1819773,\n",
       " 2.179565,\n",
       " 1.6740148,\n",
       " 2.0038946,\n",
       " 1.6009068,\n",
       " 1.86834,\n",
       " 1.3312689,\n",
       " 2.4789553,\n",
       " 2.3177617,\n",
       " 2.1065183,\n",
       " 2.0509007,\n",
       " 1.4318038,\n",
       " 2.3496454,\n",
       " 2.4352517,\n",
       " 2.4850426,\n",
       " 1.7854921,\n",
       " 1.1427954,\n",
       " 1.4302728,\n",
       " 1.7614015,\n",
       " 1.0368546,\n",
       " 1.2784451,\n",
       " 1.3835101,\n",
       " 2.5424557,\n",
       " 1.4655846,\n",
       " 2.2367904,\n",
       " 2.9896603,\n",
       " 2.9486754,\n",
       " 1.928045,\n",
       " 3.2857034,\n",
       " 3.6335738,\n",
       " 4.1053886,\n",
       " 3.939332,\n",
       " 4.239085,\n",
       " 4.140958,\n",
       " 4.172313,\n",
       " 3.9126067,\n",
       " 3.672413,\n",
       " 4.6041636,\n",
       " 4.543268,\n",
       " 4.25774,\n",
       " 4.524307,\n",
       " 4.735863,\n",
       " 4.47599,\n",
       " 4.540222,\n",
       " 4.206842,\n",
       " 4.5564303,\n",
       " 4.61245,\n",
       " 4.759119,\n",
       " 4.5328,\n",
       " 5.002609,\n",
       " 4.7846274,\n",
       " 4.7252297,\n",
       " 4.960008,\n",
       " 4.6588254,\n",
       " 4.615862,\n",
       " 4.3456626,\n",
       " 4.7970176,\n",
       " 4.6645937,\n",
       " 4.635838,\n",
       " 4.417316,\n",
       " 4.491647,\n",
       " 4.7089863,\n",
       " 4.5691977,\n",
       " 4.5269985,\n",
       " 4.919689,\n",
       " 4.3160415,\n",
       " 4.499133,\n",
       " 4.365637,\n",
       " 4.715621,\n",
       " 4.3699956,\n",
       " 3.9385974,\n",
       " 4.5549893,\n",
       " 4.590328,\n",
       " 4.74727,\n",
       " 4.6887193,\n",
       " 4.4495106,\n",
       " 4.7579045,\n",
       " 4.447765,\n",
       " 4.7002473,\n",
       " 4.652477,\n",
       " 4.4541426,\n",
       " 4.075495,\n",
       " 4.3072624,\n",
       " 4.305084,\n",
       " 4.2471504,\n",
       " 4.4148035,\n",
       " 4.286118,\n",
       " 4.2076063,\n",
       " 4.3989444,\n",
       " 4.0136337,\n",
       " 3.1041126,\n",
       " 3.4783814,\n",
       " 3.8103054,\n",
       " 4.0881457,\n",
       " 4.0063534,\n",
       " 3.7911406,\n",
       " 3.600155,\n",
       " 3.2369099]"
      ]
     },
     "execution_count": 65,
     "metadata": {},
     "output_type": "execute_result"
    }
   ],
   "source": [
    "#run predictions on that row\n",
    "from KP_lags import m_lag\n",
    "# m1 = mc(df = df_test_cont, mapper=mapper, model = m, cat_vars=cat_vars, num_lags = num_lags)\n",
    "m1 = m_lag(df_test,mapper,m,cat_vars,num_lags)\n",
    "m1.run1()\n",
    "m1.preds\n"
   ]
  },
  {
   "cell_type": "code",
   "execution_count": 70,
   "metadata": {
    "code_folding": [],
    "collapsed": true
   },
   "outputs": [
    {
     "ename": "RuntimeError",
     "evalue": "cuda runtime error (59) : device-side assert triggered at /opt/conda/conda-bld/pytorch_1525909934016/work/aten/src/THC/generic/THCTensorCopy.c:70",
     "output_type": "error",
     "traceback": [
      "\u001b[0;31m---------------------------------------------------------------------------\u001b[0m",
      "\u001b[0;31mRuntimeError\u001b[0m                              Traceback (most recent call last)",
      "\u001b[0;32m<ipython-input-70-2a2bff5cd2ab>\u001b[0m in \u001b[0;36m<module>\u001b[0;34m()\u001b[0m\n\u001b[1;32m      5\u001b[0m \u001b[0;34m\u001b[0m\u001b[0m\n\u001b[1;32m      6\u001b[0m \u001b[0;31m# m2 = track_preds(df_test,mapper,m,cat_vars,num_lags)\u001b[0m\u001b[0;34m\u001b[0m\u001b[0;34m\u001b[0m\u001b[0m\n\u001b[0;32m----> 7\u001b[0;31m \u001b[0mm2\u001b[0m\u001b[0;34m.\u001b[0m\u001b[0mrun\u001b[0m\u001b[0;34m(\u001b[0m\u001b[0;34m)\u001b[0m\u001b[0;34m\u001b[0m\u001b[0m\n\u001b[0m\u001b[1;32m      8\u001b[0m \u001b[0mm2\u001b[0m\u001b[0;34m.\u001b[0m\u001b[0mpreds\u001b[0m\u001b[0;34m\u001b[0m\u001b[0m\n",
      "\u001b[0;32m~/fastai2/fastai/courses/ml1/KP_lags.py\u001b[0m in \u001b[0;36mrun\u001b[0;34m(self)\u001b[0m\n\u001b[1;32m     89\u001b[0m             \u001b[0mone_row\u001b[0m \u001b[0;34m=\u001b[0m \u001b[0mColumnarDataset\u001b[0m\u001b[0;34m.\u001b[0m\u001b[0mfrom_data_frame\u001b[0m\u001b[0;34m(\u001b[0m\u001b[0mself\u001b[0m\u001b[0;34m.\u001b[0m\u001b[0mdf\u001b[0m\u001b[0;34m.\u001b[0m\u001b[0miloc\u001b[0m\u001b[0;34m[\u001b[0m\u001b[0;36m0\u001b[0m\u001b[0;34m:\u001b[0m\u001b[0;36m2\u001b[0m\u001b[0;34m,\u001b[0m\u001b[0;34m:\u001b[0m\u001b[0;34m]\u001b[0m\u001b[0;34m,\u001b[0m\u001b[0mcat_flds\u001b[0m\u001b[0;34m=\u001b[0m\u001b[0mself\u001b[0m\u001b[0;34m.\u001b[0m\u001b[0mcat_vars\u001b[0m\u001b[0;34m)\u001b[0m\u001b[0;34m\u001b[0m\u001b[0m\n\u001b[1;32m     90\u001b[0m             \u001b[0mone_row_test\u001b[0m \u001b[0;34m=\u001b[0m \u001b[0mDataLoader\u001b[0m\u001b[0;34m(\u001b[0m\u001b[0mone_row\u001b[0m\u001b[0;34m)\u001b[0m\u001b[0;34m\u001b[0m\u001b[0m\n\u001b[0;32m---> 91\u001b[0;31m             \u001b[0mprediction\u001b[0m \u001b[0;34m=\u001b[0m \u001b[0mself\u001b[0m\u001b[0;34m.\u001b[0m\u001b[0mmodel\u001b[0m\u001b[0;34m.\u001b[0m\u001b[0mpredict_dl\u001b[0m\u001b[0;34m(\u001b[0m\u001b[0mone_row_test\u001b[0m\u001b[0;34m)\u001b[0m\u001b[0;34m\u001b[0m\u001b[0m\n\u001b[0m\u001b[1;32m     92\u001b[0m \u001b[0;34m\u001b[0m\u001b[0m\n\u001b[1;32m     93\u001b[0m \u001b[0;31m#             # update the lags with the latest predictions\u001b[0m\u001b[0;34m\u001b[0m\u001b[0;34m\u001b[0m\u001b[0m\n",
      "\u001b[0;32m~/fastai2/fastai/courses/ml1/fastai/learner.py\u001b[0m in \u001b[0;36mpredict_dl\u001b[0;34m(self, dl)\u001b[0m\n\u001b[1;32m    362\u001b[0m         \u001b[0;32mreturn\u001b[0m \u001b[0mpredict_with_targs\u001b[0m\u001b[0;34m(\u001b[0m\u001b[0mm\u001b[0m\u001b[0;34m,\u001b[0m \u001b[0mdl\u001b[0m\u001b[0;34m)\u001b[0m\u001b[0;34m\u001b[0m\u001b[0m\n\u001b[1;32m    363\u001b[0m \u001b[0;34m\u001b[0m\u001b[0m\n\u001b[0;32m--> 364\u001b[0;31m     \u001b[0;32mdef\u001b[0m \u001b[0mpredict_dl\u001b[0m\u001b[0;34m(\u001b[0m\u001b[0mself\u001b[0m\u001b[0;34m,\u001b[0m \u001b[0mdl\u001b[0m\u001b[0;34m)\u001b[0m\u001b[0;34m:\u001b[0m \u001b[0;32mreturn\u001b[0m \u001b[0mpredict_with_targs\u001b[0m\u001b[0;34m(\u001b[0m\u001b[0mself\u001b[0m\u001b[0;34m.\u001b[0m\u001b[0mmodel\u001b[0m\u001b[0;34m,\u001b[0m \u001b[0mdl\u001b[0m\u001b[0;34m)\u001b[0m\u001b[0;34m[\u001b[0m\u001b[0;36m0\u001b[0m\u001b[0;34m]\u001b[0m\u001b[0;34m\u001b[0m\u001b[0m\n\u001b[0m\u001b[1;32m    365\u001b[0m \u001b[0;34m\u001b[0m\u001b[0m\n\u001b[1;32m    366\u001b[0m     \u001b[0;32mdef\u001b[0m \u001b[0mpredict_array\u001b[0m\u001b[0;34m(\u001b[0m\u001b[0mself\u001b[0m\u001b[0;34m,\u001b[0m \u001b[0marr\u001b[0m\u001b[0;34m)\u001b[0m\u001b[0;34m:\u001b[0m\u001b[0;34m\u001b[0m\u001b[0m\n",
      "\u001b[0;32m~/fastai2/fastai/courses/ml1/fastai/model.py\u001b[0m in \u001b[0;36mpredict_with_targs\u001b[0;34m(m, dl)\u001b[0m\n\u001b[1;32m    243\u001b[0m \u001b[0;34m\u001b[0m\u001b[0m\n\u001b[1;32m    244\u001b[0m \u001b[0;32mdef\u001b[0m \u001b[0mpredict_with_targs\u001b[0m\u001b[0;34m(\u001b[0m\u001b[0mm\u001b[0m\u001b[0;34m,\u001b[0m \u001b[0mdl\u001b[0m\u001b[0;34m)\u001b[0m\u001b[0;34m:\u001b[0m\u001b[0;34m\u001b[0m\u001b[0m\n\u001b[0;32m--> 245\u001b[0;31m     \u001b[0mpreda\u001b[0m\u001b[0;34m,\u001b[0m\u001b[0mtarga\u001b[0m \u001b[0;34m=\u001b[0m \u001b[0mpredict_with_targs_\u001b[0m\u001b[0;34m(\u001b[0m\u001b[0mm\u001b[0m\u001b[0;34m,\u001b[0m \u001b[0mdl\u001b[0m\u001b[0;34m)\u001b[0m\u001b[0;34m\u001b[0m\u001b[0m\n\u001b[0m\u001b[1;32m    246\u001b[0m     \u001b[0;32mreturn\u001b[0m \u001b[0mnp\u001b[0m\u001b[0;34m.\u001b[0m\u001b[0mconcatenate\u001b[0m\u001b[0;34m(\u001b[0m\u001b[0mpreda\u001b[0m\u001b[0;34m)\u001b[0m\u001b[0;34m,\u001b[0m \u001b[0mnp\u001b[0m\u001b[0;34m.\u001b[0m\u001b[0mconcatenate\u001b[0m\u001b[0;34m(\u001b[0m\u001b[0mtarga\u001b[0m\u001b[0;34m)\u001b[0m\u001b[0;34m\u001b[0m\u001b[0m\n\u001b[1;32m    247\u001b[0m \u001b[0;34m\u001b[0m\u001b[0m\n",
      "\u001b[0;32m~/fastai2/fastai/courses/ml1/fastai/model.py\u001b[0m in \u001b[0;36mpredict_with_targs_\u001b[0;34m(m, dl)\u001b[0m\n\u001b[1;32m    239\u001b[0m     \u001b[0;32mif\u001b[0m \u001b[0mhasattr\u001b[0m\u001b[0;34m(\u001b[0m\u001b[0mm\u001b[0m\u001b[0;34m,\u001b[0m \u001b[0;34m'reset'\u001b[0m\u001b[0;34m)\u001b[0m\u001b[0;34m:\u001b[0m \u001b[0mm\u001b[0m\u001b[0;34m.\u001b[0m\u001b[0mreset\u001b[0m\u001b[0;34m(\u001b[0m\u001b[0;34m)\u001b[0m\u001b[0;34m\u001b[0m\u001b[0m\n\u001b[1;32m    240\u001b[0m     \u001b[0mres\u001b[0m \u001b[0;34m=\u001b[0m \u001b[0;34m[\u001b[0m\u001b[0;34m]\u001b[0m\u001b[0;34m\u001b[0m\u001b[0m\n\u001b[0;32m--> 241\u001b[0;31m     \u001b[0;32mfor\u001b[0m \u001b[0;34m*\u001b[0m\u001b[0mx\u001b[0m\u001b[0;34m,\u001b[0m\u001b[0my\u001b[0m \u001b[0;32min\u001b[0m \u001b[0miter\u001b[0m\u001b[0;34m(\u001b[0m\u001b[0mdl\u001b[0m\u001b[0;34m)\u001b[0m\u001b[0;34m:\u001b[0m \u001b[0mres\u001b[0m\u001b[0;34m.\u001b[0m\u001b[0mappend\u001b[0m\u001b[0;34m(\u001b[0m\u001b[0;34m[\u001b[0m\u001b[0mget_prediction\u001b[0m\u001b[0;34m(\u001b[0m\u001b[0mto_np\u001b[0m\u001b[0;34m(\u001b[0m\u001b[0mm\u001b[0m\u001b[0;34m(\u001b[0m\u001b[0;34m*\u001b[0m\u001b[0mVV\u001b[0m\u001b[0;34m(\u001b[0m\u001b[0mx\u001b[0m\u001b[0;34m)\u001b[0m\u001b[0;34m)\u001b[0m\u001b[0;34m)\u001b[0m\u001b[0;34m)\u001b[0m\u001b[0;34m,\u001b[0m\u001b[0mto_np\u001b[0m\u001b[0;34m(\u001b[0m\u001b[0my\u001b[0m\u001b[0;34m)\u001b[0m\u001b[0;34m]\u001b[0m\u001b[0;34m)\u001b[0m\u001b[0;34m\u001b[0m\u001b[0m\n\u001b[0m\u001b[1;32m    242\u001b[0m     \u001b[0;32mreturn\u001b[0m \u001b[0mzip\u001b[0m\u001b[0;34m(\u001b[0m\u001b[0;34m*\u001b[0m\u001b[0mres\u001b[0m\u001b[0;34m)\u001b[0m\u001b[0;34m\u001b[0m\u001b[0m\n\u001b[1;32m    243\u001b[0m \u001b[0;34m\u001b[0m\u001b[0m\n",
      "\u001b[0;32m~/fastai2/fastai/courses/ml1/fastai/core.py\u001b[0m in \u001b[0;36mto_np\u001b[0;34m(v)\u001b[0m\n\u001b[1;32m     60\u001b[0m     \u001b[0;32mif\u001b[0m \u001b[0misinstance\u001b[0m\u001b[0;34m(\u001b[0m\u001b[0mv\u001b[0m\u001b[0;34m,\u001b[0m \u001b[0mtorch\u001b[0m\u001b[0;34m.\u001b[0m\u001b[0mcuda\u001b[0m\u001b[0;34m.\u001b[0m\u001b[0mHalfTensor\u001b[0m\u001b[0;34m)\u001b[0m\u001b[0;34m:\u001b[0m \u001b[0mv\u001b[0m\u001b[0;34m=\u001b[0m\u001b[0mv\u001b[0m\u001b[0;34m.\u001b[0m\u001b[0mfloat\u001b[0m\u001b[0;34m(\u001b[0m\u001b[0;34m)\u001b[0m\u001b[0;34m\u001b[0m\u001b[0m\n\u001b[1;32m     61\u001b[0m \u001b[0;31m#     print(\"This is v:\" + str(v))\u001b[0m\u001b[0;34m\u001b[0m\u001b[0;34m\u001b[0m\u001b[0m\n\u001b[0;32m---> 62\u001b[0;31m     \u001b[0;32mreturn\u001b[0m \u001b[0mv\u001b[0m\u001b[0;34m.\u001b[0m\u001b[0mcpu\u001b[0m\u001b[0;34m(\u001b[0m\u001b[0;34m)\u001b[0m\u001b[0;34m.\u001b[0m\u001b[0mnumpy\u001b[0m\u001b[0;34m(\u001b[0m\u001b[0;34m)\u001b[0m\u001b[0;34m\u001b[0m\u001b[0m\n\u001b[0m\u001b[1;32m     63\u001b[0m \u001b[0;34m\u001b[0m\u001b[0m\n\u001b[1;32m     64\u001b[0m \u001b[0mIS_TORCH_04\u001b[0m \u001b[0;34m=\u001b[0m \u001b[0mLooseVersion\u001b[0m\u001b[0;34m(\u001b[0m\u001b[0mtorch\u001b[0m\u001b[0;34m.\u001b[0m\u001b[0m__version__\u001b[0m\u001b[0;34m)\u001b[0m \u001b[0;34m>=\u001b[0m \u001b[0mLooseVersion\u001b[0m\u001b[0;34m(\u001b[0m\u001b[0;34m'0.4'\u001b[0m\u001b[0;34m)\u001b[0m\u001b[0;34m\u001b[0m\u001b[0m\n",
      "\u001b[0;31mRuntimeError\u001b[0m: cuda runtime error (59) : device-side assert triggered at /opt/conda/conda-bld/pytorch_1525909934016/work/aten/src/THC/generic/THCTensorCopy.c:70"
     ]
    }
   ],
   "source": [
    "\n",
    "from KP_lags import track_preds\n",
    "m2 = track_preds(df_test_cont,mapper,m,cat_vars,num_lags)\n",
    "\n",
    "\n",
    "# m2 = track_preds(df_test,mapper,m,cat_vars,num_lags)\n",
    "m2.run()\n",
    "m2.preds\n"
   ]
  },
  {
   "cell_type": "code",
   "execution_count": null,
   "metadata": {},
   "outputs": [],
   "source": [
    "one_row.head"
   ]
  },
  {
   "cell_type": "code",
   "execution_count": null,
   "metadata": {},
   "outputs": [],
   "source": [
    "yl_trn_val[0]\n",
    "np.exp(yl_trn_val[0])"
   ]
  }
 ],
 "metadata": {
  "kernelspec": {
   "display_name": "Python 3",
   "language": "python",
   "name": "python3"
  },
  "language_info": {
   "codemirror_mode": {
    "name": "ipython",
    "version": 3
   },
   "file_extension": ".py",
   "mimetype": "text/x-python",
   "name": "python",
   "nbconvert_exporter": "python",
   "pygments_lexer": "ipython3",
   "version": "3.6.5"
  }
 },
 "nbformat": 4,
 "nbformat_minor": 2
}
