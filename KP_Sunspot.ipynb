{
 "cells": [
  {
   "cell_type": "markdown",
   "metadata": {
    "heading_collapsed": true
   },
   "source": [
    "# Sunspot prediction using  time series structured data\n",
    "This notebook uses concepts from fastAIs DL1 course to estimate sunspot activity using a 2 layer fully connected neurel net. It demonstrates how to use time lags (or a sliding window) to feed series data into a neural ne to predict sunspot activity.  It shows how to predictions for 1 time step in the future as well as multiple steps in the future.<br>This notebook derives from this post https://medium.com/38th-street-studios/time-series-with-structured-deep-learning-e911c1ef9923"
   ]
  },
  {
   "cell_type": "markdown",
   "metadata": {},
   "source": [
    "#run this to get jupyter extensions\n",
    "!pip install https://github.com/ipython-contrib/jupyter_contrib_nbextensions/tarball/master\n",
    "!pip install jupyter_nbextensions_configurator\n",
    "!jupyter contrib nbextension install --user\n",
    "!jupyter nbextensions_configurator enable --user"
   ]
  },
  {
   "cell_type": "code",
   "execution_count": 258,
   "metadata": {},
   "outputs": [],
   "source": [
    "%reload_ext autoreload\n",
    "%autoreload 2\n",
    "%matplotlib inline"
   ]
  },
  {
   "cell_type": "markdown",
   "metadata": {},
   "source": [
    "# Get the data\n",
    "comes from https://datamarket.com/data/set/22ti/zuerich-monthly-sunspot-numbers-1749-1983#!ds=22ti&display=line<br>\n",
    "in ../data folder<br>"
   ]
  },
  {
   "cell_type": "code",
   "execution_count": 259,
   "metadata": {},
   "outputs": [],
   "source": [
    "# get the data, first row [0] is column names\n",
    "import pandas as pd\n",
    "df = pd.read_csv(\"./data/sunspot/zuerich-monthly-sunspot-numbers.csv\",header=0 )"
   ]
  },
  {
   "cell_type": "markdown",
   "metadata": {},
   "source": [
    "# Initialize ( Full or partial dataset?, num_lags)"
   ]
  },
  {
   "cell_type": "code",
   "execution_count": 260,
   "metadata": {},
   "outputs": [],
   "source": [
    "#uncomment below when using full dataset\n",
    "df = df[:]"
   ]
  },
  {
   "cell_type": "code",
   "execution_count": 261,
   "metadata": {},
   "outputs": [],
   "source": [
    "#create num_lags additional columns, for each row these columns will hold \n",
    "#SunspotNumbst-1, SunspotNumbst-2 etc\n",
    "#used to create a list of the num_lags past correct observations to feed into the model\n",
    "num_lags = 1"
   ]
  },
  {
   "cell_type": "markdown",
   "metadata": {},
   "source": [
    "# View dataset"
   ]
  },
  {
   "cell_type": "code",
   "execution_count": 262,
   "metadata": {},
   "outputs": [],
   "source": [
    "df.columns = ['Month', 'SunspotNumbs']"
   ]
  },
  {
   "cell_type": "code",
   "execution_count": 263,
   "metadata": {},
   "outputs": [
    {
     "data": {
      "text/html": [
       "<div>\n",
       "<style scoped>\n",
       "    .dataframe tbody tr th:only-of-type {\n",
       "        vertical-align: middle;\n",
       "    }\n",
       "\n",
       "    .dataframe tbody tr th {\n",
       "        vertical-align: top;\n",
       "    }\n",
       "\n",
       "    .dataframe thead th {\n",
       "        text-align: right;\n",
       "    }\n",
       "</style>\n",
       "<table border=\"1\" class=\"dataframe\">\n",
       "  <thead>\n",
       "    <tr style=\"text-align: right;\">\n",
       "      <th></th>\n",
       "      <th>Month</th>\n",
       "      <th>SunspotNumbs</th>\n",
       "    </tr>\n",
       "  </thead>\n",
       "  <tbody>\n",
       "    <tr>\n",
       "      <th>2815</th>\n",
       "      <td>1983-08</td>\n",
       "      <td>71.8</td>\n",
       "    </tr>\n",
       "    <tr>\n",
       "      <th>2816</th>\n",
       "      <td>1983-09</td>\n",
       "      <td>50.3</td>\n",
       "    </tr>\n",
       "    <tr>\n",
       "      <th>2817</th>\n",
       "      <td>1983-10</td>\n",
       "      <td>55.8</td>\n",
       "    </tr>\n",
       "    <tr>\n",
       "      <th>2818</th>\n",
       "      <td>1983-11</td>\n",
       "      <td>33.3</td>\n",
       "    </tr>\n",
       "    <tr>\n",
       "      <th>2819</th>\n",
       "      <td>1983-12</td>\n",
       "      <td>33.4</td>\n",
       "    </tr>\n",
       "  </tbody>\n",
       "</table>\n",
       "</div>"
      ],
      "text/plain": [
       "        Month  SunspotNumbs\n",
       "2815  1983-08          71.8\n",
       "2816  1983-09          50.3\n",
       "2817  1983-10          55.8\n",
       "2818  1983-11          33.3\n",
       "2819  1983-12          33.4"
      ]
     },
     "execution_count": 263,
     "metadata": {},
     "output_type": "execute_result"
    }
   ],
   "source": [
    "#view the data\n",
    "df.tail()"
   ]
  },
  {
   "cell_type": "code",
   "execution_count": 264,
   "metadata": {},
   "outputs": [
    {
     "data": {
      "text/plain": [
       "<matplotlib.axes._subplots.AxesSubplot at 0x7f3d32aced68>"
      ]
     },
     "execution_count": 264,
     "metadata": {},
     "output_type": "execute_result"
    },
    {
     "data": {
      "image/png": "[encoded data removed]",
      "text/plain": [
       "<Figure size 432x288 with 1 Axes>"
      ]
     },
     "metadata": {},
     "output_type": "display_data"
    }
   ],
   "source": [
    "#view in a plot, looks like the cycle length is ~125 points (estimate by 500 points/4 peaks = 125 points use for num_lags)\n",
    "import matplotlib.pyplot as plt\n",
    "df.plot()"
   ]
  },
  {
   "cell_type": "markdown",
   "metadata": {},
   "source": [
    "# convert date time\n",
    "The last line in the csv file is a summary, please remove it before running this operation"
   ]
  },
  {
   "cell_type": "code",
   "execution_count": 265,
   "metadata": {},
   "outputs": [],
   "source": [
    "from fastai.structured import *\n",
    "from fastai.column_data import *\n",
    "#Convert our date column to a pandas datetime Series\n",
    "df[\"Date\"] = pd.to_datetime(df[\"Month\"], format='%Y-%m')\n",
    "#Create date features\n",
    "add_datepart(df,\"Date\")"
   ]
  },
  {
   "cell_type": "code",
   "execution_count": 266,
   "metadata": {},
   "outputs": [],
   "source": [
    "#df.describe()"
   ]
  },
  {
   "cell_type": "code",
   "execution_count": 267,
   "metadata": {},
   "outputs": [
    {
     "data": {
      "text/plain": [
       "array(['Month', 'SunspotNumbs', 'Year', 'Week', 'Day', 'Dayofweek', 'Dayofyear', 'Is_month_end',\n",
       "       'Is_month_start', 'Is_quarter_end', 'Is_quarter_start', 'Is_year_end', 'Is_year_start', 'Elapsed'],\n",
       "      dtype=object)"
      ]
     },
     "execution_count": 267,
     "metadata": {},
     "output_type": "execute_result"
    }
   ],
   "source": [
    "#see all the values, just need 2 year and month\n",
    "df.columns.values"
   ]
  },
  {
   "cell_type": "code",
   "execution_count": 268,
   "metadata": {},
   "outputs": [
    {
     "data": {
      "text/plain": [
       "Month                 int64\n",
       "SunspotNumbs        float64\n",
       "Year                  int64\n",
       "Week                  int64\n",
       "Day                   int64\n",
       "Dayofweek             int64\n",
       "Dayofyear             int64\n",
       "Is_month_end           bool\n",
       "Is_month_start         bool\n",
       "Is_quarter_end         bool\n",
       "Is_quarter_start       bool\n",
       "Is_year_end            bool\n",
       "Is_year_start          bool\n",
       "Elapsed               int64\n",
       "dtype: object"
      ]
     },
     "execution_count": 268,
     "metadata": {},
     "output_type": "execute_result"
    }
   ],
   "source": [
    "df.dtypes"
   ]
  },
  {
   "cell_type": "code",
   "execution_count": 269,
   "metadata": {},
   "outputs": [],
   "source": [
    "# get rid of useless columns\n",
    "df=df.drop(['Week', 'Day', 'Dayofweek', 'Is_month_end', 'Is_month_start', 'Elapsed'],axis=1)"
   ]
  },
  {
   "cell_type": "markdown",
   "metadata": {},
   "source": [
    "## These 2 cells do the same thing\n",
    "Ones a bit easier to read and a bit slower"
   ]
  },
  {
   "cell_type": "code",
   "execution_count": 270,
   "metadata": {},
   "outputs": [],
   "source": [
    "# %%timeit\n",
    "# for i in range(1,num_lags+1):\n",
    "#     df[f'lag_{i}'] = np.append([np.nan for j in range(0,i)],df['SunspotNumbs'])[:-i]\n",
    "\n",
    "#for each row, convert all NANs to either Sunspot val or last lag_n that is not a NaN"
   ]
  },
  {
   "cell_type": "code",
   "execution_count": 271,
   "metadata": {},
   "outputs": [
    {
     "name": "stdout",
     "output_type": "stream",
     "text": [
      "154 µs ± 4.63 µs per loop (mean ± std. dev. of 7 runs, 10000 loops each)\n"
     ]
    }
   ],
   "source": [
    "%%timeit\n",
    "df[f'lag_1'] =  df['SunspotNumbs'].shift(1)\n",
    "for i in range(2,num_lags+1):\n",
    "    df[f'lag_{i}'] = df[f'lag_{i-1}'].shift(1)\n",
    "\n",
    "#for each row, convert all NANs to either Sunspot val or last lag_n that is not a NaN"
   ]
  },
  {
   "cell_type": "markdown",
   "metadata": {},
   "source": [
    "# Convert column types to category and float32"
   ]
  },
  {
   "cell_type": "code",
   "execution_count": 272,
   "metadata": {},
   "outputs": [],
   "source": [
    "contin_vars = [f\"lag_{i}\" for i in range(1,num_lags+1)]\n",
    "cat_vars = [\"Year\",\"Month\",\"Dayofyear\",\"Is_quarter_end\",\"Is_quarter_start\",\"Is_year_end\",\"Is_year_start\"]\n",
    "dep = \"SunspotNumbs\"\n",
    "\n",
    "#convert categorical to category type\n",
    "for v in cat_vars: df[v] = df[v].astype('category').cat.as_ordered()\n",
    "    \n",
    "#make float32 since thats what pyTorch expects\n",
    "for v in contin_vars: df[v] = df[v].astype('float32')"
   ]
  },
  {
   "cell_type": "code",
   "execution_count": 273,
   "metadata": {},
   "outputs": [],
   "source": [
    "#df.dtypes"
   ]
  },
  {
   "cell_type": "markdown",
   "metadata": {},
   "source": [
    "# Split dataframe to train, val, test"
   ]
  },
  {
   "cell_type": "code",
   "execution_count": 274,
   "metadata": {},
   "outputs": [],
   "source": [
    "train_ratio = 0.8\n",
    "val_ratio = 0.10\n",
    "test_ratio = 0.1\n",
    "\n",
    "#lets get a list of the indices of the entries I want in validation set\n",
    "#its time series so make it at the end\n",
    "numb_rows = len(df)\n",
    "\n",
    "#get the validation portion of df\n",
    "val_start = int(train_ratio*(float(numb_rows)))\n",
    "val_end = int((train_ratio+ val_ratio)*(float(numb_rows)))\n",
    "val_idx = list(range(val_start,val_end ))\n",
    "\n",
    "#split out train-val df\n",
    "df_trn_val = df[:val_end].copy()\n",
    "\n",
    "#split out test df\n",
    "df_test = df[val_end:].copy()"
   ]
  },
  {
   "cell_type": "markdown",
   "metadata": {},
   "source": [
    "## operate on train and test sets\n",
    "note that Im using the mapper and nas_trn_val from first proc_df to get the appropriate mean and std_dev and nas columns from trn_val set to use on test set "
   ]
  },
  {
   "cell_type": "code",
   "execution_count": 275,
   "metadata": {},
   "outputs": [],
   "source": [
    "#df, y, nas, mapper = proc_df(df_samp, 'SunspotNumbs', do_scale=True)\n",
    "df_trn_val, yl_trn_val, nas_trn_val, mapper = proc_df(df=df_trn_val, y_fld='SunspotNumbs',do_scale=True)\n",
    "\n",
    "#use the above mapper and nas_trn_val for normalization\n",
    "df_test, yl_test, nas_test, _ = proc_df(df=df_test, y_fld='SunspotNumbs',do_scale=True, mapper =mapper, na_dict=nas_trn_val )\n",
    "\n",
    "#first lets make sure we never take ln of 0 (-infinity) by adding a small value to y\n",
    "yl_trn_val = np.log(yl_trn_val + 0.01)\n",
    "yl_test = np.log(yl_test + 0.01)"
   ]
  },
  {
   "cell_type": "code",
   "execution_count": 276,
   "metadata": {},
   "outputs": [
    {
     "data": {
      "text/plain": [
       "array([4.06062, 4.13693, 4.24864, 4.02016, 4.44277])"
      ]
     },
     "execution_count": 276,
     "metadata": {},
     "output_type": "execute_result"
    }
   ],
   "source": [
    "yl_trn_val[0:5]"
   ]
  },
  {
   "cell_type": "code",
   "execution_count": 277,
   "metadata": {},
   "outputs": [],
   "source": [
    "#nas will tell you the median value that is used to replace NaN's for every column with a NaN\n",
    "# you can run the following command on column lag_1 to verify\n",
    "#df_trn_val.lag_1.median()  (uncomment below to see median per lag column)\n",
    "\n",
    "#nas_trn_val \n",
    "#df.lag_1.median()\n",
    "#nas_test \n",
    "\n",
    "#note all the lag_i_na columns\n",
    "#df_trn_val.head().T\n",
    "\n",
    "#what does target look like\n",
    "#len(y)\n",
    "#yl_trn_val"
   ]
  },
  {
   "cell_type": "code",
   "execution_count": 278,
   "metadata": {},
   "outputs": [
    {
     "data": {
      "text/plain": [
       "Index(['Month', 'Year', 'Dayofyear', 'Is_quarter_end', 'Is_quarter_start',\n",
       "       'Is_year_end', 'Is_year_start', 'lag_1', 'lag_1_na'],\n",
       "      dtype='object')"
      ]
     },
     "execution_count": 278,
     "metadata": {},
     "output_type": "execute_result"
    }
   ],
   "source": [
    "#columns in test set\n",
    "df_test.columns"
   ]
  },
  {
   "cell_type": "markdown",
   "metadata": {},
   "source": [
    "## Dataframe cleanup"
   ]
  },
  {
   "cell_type": "code",
   "execution_count": 279,
   "metadata": {},
   "outputs": [],
   "source": [
    "#get rid of the lag_n_na fields\n",
    "def dump_na_columns(df1):   \n",
    "    for i in range(1,num_lags+1):\n",
    "        try:\n",
    "            df1.drop(f'lag_{i}_na',axis=1,inplace=True)\n",
    "        except ValueError as e:\n",
    "            print('ValueError:{0}'.format(e))\n",
    "dump_na_columns(df_trn_val)\n",
    "dump_na_columns(df_test)"
   ]
  },
  {
   "cell_type": "code",
   "execution_count": 280,
   "metadata": {},
   "outputs": [
    {
     "name": "stdout",
     "output_type": "stream",
     "text": [
      "Rows in df_trn_val=2538\n",
      "Rows in df_test   =282\n"
     ]
    }
   ],
   "source": [
    "print( \"Rows in df_trn_val=\" + str(len(df_trn_val)))\n",
    "print( \"Rows in df_test   =\" + str(len(df_test)))"
   ]
  },
  {
   "cell_type": "markdown",
   "metadata": {},
   "source": [
    "## Adjust column types\n",
    "Convert all categorical columns to 'category' and continuous variables to 'float32' (for pytorch)"
   ]
  },
  {
   "cell_type": "code",
   "execution_count": 281,
   "metadata": {},
   "outputs": [],
   "source": [
    "#what kind are they now?\n",
    "\n",
    "#df_trn_val.dtypes\n",
    "#df_test.dtypes"
   ]
  },
  {
   "cell_type": "code",
   "execution_count": 282,
   "metadata": {},
   "outputs": [],
   "source": [
    "for v in cat_vars: \n",
    "    df_trn_val[v] = df_trn_val[v].astype('category').cat.as_ordered()\n",
    "    df_test[v] = df_test[v].astype('category').cat.as_ordered()\n",
    "\n",
    "for v in contin_vars: \n",
    "    df_trn_val[v] = df_trn_val[v].astype('float32')\n",
    "    df_test[v] = df_test[v].astype('float32')"
   ]
  },
  {
   "cell_type": "markdown",
   "metadata": {},
   "source": [
    "## Verify no nulls"
   ]
  },
  {
   "cell_type": "code",
   "execution_count": 283,
   "metadata": {},
   "outputs": [
    {
     "name": "stdout",
     "output_type": "stream",
     "text": [
      "Nulls in df_trn_val=0\n",
      "Nulls in df_test   =0\n",
      "Rows in df_trn_val=2538\n",
      "Rows in df_test   =282\n",
      "Rows in yl_trn_val=2538\n",
      "Rows in yl_test   =282\n"
     ]
    }
   ],
   "source": [
    "print( \"Nulls in df_trn_val=\" + str(df_trn_val.isnull().sum().sum()))\n",
    "print( \"Nulls in df_test   =\" + str(df_test.isnull().sum().sum()))\n",
    "\n",
    "print( \"Rows in df_trn_val=\" + str(len(df_trn_val)))\n",
    "print( \"Rows in df_test   =\" + str(len(df_test)))\n",
    "\n",
    "print( \"Rows in yl_trn_val=\" + str(len(yl_trn_val)))\n",
    "print( \"Rows in yl_test   =\" + str(len(yl_test)))"
   ]
  },
  {
   "cell_type": "markdown",
   "metadata": {},
   "source": [
    "# Save the data\n",
    "side effect: df_test starts at index ~2300, the following will reset its index to 0 "
   ]
  },
  {
   "cell_type": "code",
   "execution_count": 284,
   "metadata": {},
   "outputs": [
    {
     "data": {
      "text/plain": [
       "DataFrameMapper(default=False, df_out=False,\n",
       "        features=[(['lag_1'], StandardScaler(copy=True, with_mean=True, with_std=True)), (['lag_1_na'], StandardScaler(copy=True, with_mean=True, with_std=True))],\n",
       "        input_df=False, sparse=False)"
      ]
     },
     "execution_count": 284,
     "metadata": {},
     "output_type": "execute_result"
    }
   ],
   "source": [
    "PATH = \"./data/SS_Data\"\n",
    "\n",
    "#needed for feather, do not add index column\n",
    "df_trn_val.reset_index(drop = True,inplace = True)\n",
    "df_test.reset_index(drop = True,inplace = True)\n",
    "\n",
    "#save train and test dataframes\n",
    "df_trn_val.to_feather(f'{PATH}/df_trn_val')\n",
    "df_test.to_feather(f'{PATH}/df_test')\n",
    "\n",
    "#save tran and test dependant nparray\n",
    "np.save(f'{PATH}/yl_trn_val', yl_trn_val)    # .npy extension is added if not given\n",
    "np.save(f'{PATH}/yl_test', yl_test)    \n",
    "\n",
    "#save original\n",
    "df.to_feather(f'{PATH}/df')\n",
    "\n",
    "import pickle\n",
    "output = open(f'{PATH}/mapper','wb')\n",
    "pickle.dump(mapper, output)\n",
    "output.close()\n",
    "mapper\n",
    "# np.save(f'{PATH}/mapper',mapper)\n",
    "# mapper"
   ]
  },
  {
   "cell_type": "markdown",
   "metadata": {},
   "source": [
    "# Reload the processed dataframes and the numpy target arrays"
   ]
  },
  {
   "cell_type": "code",
   "execution_count": 285,
   "metadata": {},
   "outputs": [
    {
     "data": {
      "text/plain": [
       "DataFrameMapper(default=False, df_out=False,\n",
       "        features=[(['lag_1'], StandardScaler(copy=True, with_mean=True, with_std=True), {}), (['lag_1_na'], StandardScaler(copy=True, with_mean=True, with_std=True), {})],\n",
       "        input_df=False, sparse=False)"
      ]
     },
     "execution_count": 285,
     "metadata": {},
     "output_type": "execute_result"
    }
   ],
   "source": [
    "#reload\n",
    "df_trn_val = pd.read_feather(f'{PATH}/df_trn_val')\n",
    "df_test = pd.read_feather(f'{PATH}/df_test')\n",
    "\n",
    "yl_trn_val  = np.load(f'{PATH}/yl_trn_val.npy')\n",
    "yl_test  = np.load(f'{PATH}/yl_test.npy')\n",
    "\n",
    "import pickle\n",
    "input = open(f'{PATH}/mapper','rb')\n",
    "mapper1 = pickle.load(input)\n",
    "input.close()\n",
    "mapper1"
   ]
  },
  {
   "cell_type": "code",
   "execution_count": 286,
   "metadata": {},
   "outputs": [
    {
     "data": {
      "text/plain": [
       "array([49.16016], dtype=float32)"
      ]
     },
     "execution_count": 286,
     "metadata": {},
     "output_type": "execute_result"
    }
   ],
   "source": [
    "#here is how you check the mean for a column\n",
    "mapper.features[0][1].mean_"
   ]
  },
  {
   "cell_type": "markdown",
   "metadata": {},
   "source": [
    "# Create model data object"
   ]
  },
  {
   "cell_type": "code",
   "execution_count": 287,
   "metadata": {},
   "outputs": [],
   "source": [
    "def inv_y(a): return np.exp(a)\n",
    "def exp_rmspe(y_pred, targ):\n",
    "    targ = inv_y(targ)\n",
    "    pct_var = (targ - inv_y(y_pred))/targ\n",
    "    return math.sqrt((pct_var**2).mean())\n",
    "def mse(y_pred, targ):\n",
    "    targ = inv_y(targ)\n",
    "    y_pred = inv_y(y_pred)\n",
    "    return math.sqrt(((y_pred-targ)**2).mean())\n",
    "max_log_y = np.max(yl_trn_val)\n",
    "y_range = (0, max_log_y*1.2)"
   ]
  },
  {
   "cell_type": "code",
   "execution_count": 288,
   "metadata": {},
   "outputs": [],
   "source": [
    "md = ColumnarModelData.from_data_frame(PATH, val_idx, df_trn_val, yl_trn_val.astype(np.float32), cat_flds=cat_vars, bs=16, test_df = df_test)\n",
    "# md = ColumnarModelData.from_data_frame(PATH, val_idx, df_trn_val, yl_trn_val.astype(np.float32), cat_flds=cat_vars, bs=16)"
   ]
  },
  {
   "cell_type": "code",
   "execution_count": 289,
   "metadata": {},
   "outputs": [],
   "source": [
    "#get categorical sizes, make sure you convert columns in cat_vars to type category before you run this \n",
    "#make sure you include all the years! including the possibilities from your test set see the df not df_trn_val below\n",
    "# cat_sz = [(c, len(df_trn_val[c].cat.categories)+1) for c in cat_vars]\n",
    "cat_sz = [(c, len(df[c].cat.categories)+1) for c in cat_vars]\n",
    "\n",
    "emb_szs = [(c, min(50, (c+1)//2)) for _,c in cat_sz]"
   ]
  },
  {
   "cell_type": "code",
   "execution_count": 290,
   "metadata": {},
   "outputs": [
    {
     "data": {
      "text/plain": [
       "[1, 32, 60, 91, 121, ..., 214, 245, 275, 306, 336]\n",
       "Length: 22\n",
       "Categories (22, int64): [1 < 32 < 60 < 61 ... 305 < 306 < 335 < 336]"
      ]
     },
     "execution_count": 290,
     "metadata": {},
     "output_type": "execute_result"
    }
   ],
   "source": [
    "#len(df)\n",
    "df.Dayofyear.unique()"
   ]
  },
  {
   "cell_type": "code",
   "execution_count": 291,
   "metadata": {},
   "outputs": [
    {
     "data": {
      "text/plain": [
       "[('Year', 236),\n",
       " ('Month', 13),\n",
       " ('Dayofyear', 23),\n",
       " ('Is_quarter_end', 2),\n",
       " ('Is_quarter_start', 3),\n",
       " ('Is_year_end', 2),\n",
       " ('Is_year_start', 3)]"
      ]
     },
     "execution_count": 291,
     "metadata": {},
     "output_type": "execute_result"
    }
   ],
   "source": [
    "# cat_sz[0] = (191, 50)\n",
    "cat_sz"
   ]
  },
  {
   "cell_type": "code",
   "execution_count": 292,
   "metadata": {},
   "outputs": [
    {
     "data": {
      "text/plain": [
       "[(236, 50), (13, 7), (23, 12), (2, 1), (3, 2), (2, 1), (3, 2)]"
      ]
     },
     "execution_count": 292,
     "metadata": {},
     "output_type": "execute_result"
    }
   ],
   "source": [
    "emb_szs"
   ]
  },
  {
   "cell_type": "code",
   "execution_count": 293,
   "metadata": {},
   "outputs": [
    {
     "name": "stderr",
     "output_type": "stream",
     "text": [
      "/home/keith/fastai2/fastai/courses/ml1/fastai/column_data.py:101: UserWarning: nn.init.kaiming_normal is now deprecated in favor of nn.init.kaiming_normal_.\n",
      "  for o in self.lins: kaiming_normal(o.weight.data)\n",
      "/home/keith/fastai2/fastai/courses/ml1/fastai/column_data.py:101: UserWarning: nn.init.kaiming_normal is now deprecated in favor of nn.init.kaiming_normal_.\n",
      "  for o in self.lins: kaiming_normal(o.weight.data)\n",
      "/home/keith/fastai2/fastai/courses/ml1/fastai/column_data.py:103: UserWarning: nn.init.kaiming_normal is now deprecated in favor of nn.init.kaiming_normal_.\n",
      "  kaiming_normal(self.outp.weight.data)\n"
     ]
    },
    {
     "data": {
      "application/vnd.jupyter.widget-view+json": {
       "model_id": "8a0e4b35dcdd4420b6566e0f48f3bf6a",
       "version_major": 2,
       "version_minor": 0
      },
      "text/plain": [
       "HBox(children=(IntProgress(value=0, description='Epoch', max=1), HTML(value='')))"
      ]
     },
     "metadata": {},
     "output_type": "display_data"
    },
    {
     "name": "stdout",
     "output_type": "stream",
     "text": [
      "epoch      trn_loss   val_loss                               \n",
      "    0      8.759023   17.444158 \n",
      "\n"
     ]
    },
    {
     "data": {
      "image/png": "[encoded data removed]",
      "text/plain": [
       "<Figure size 432x288 with 1 Axes>"
      ]
     },
     "metadata": {},
     "output_type": "display_data"
    }
   ],
   "source": [
    "numb_continuous_columns = len(df_trn_val.columns)-len(cat_vars)\n",
    "fully_connected_layers_sizes = [50,600]\n",
    "fully_connected_layers_dropout = [0.001,0.01]\n",
    "m = md.get_learner(emb_szs,numb_continuous_columns ,emb_drop = 0.04,out_sz= 1, szs = fully_connected_layers_sizes,\n",
    "                   drops = fully_connected_layers_dropout, y_range=y_range)\n",
    "m.lr_find()\n",
    "m.sched.plot(1)"
   ]
  },
  {
   "cell_type": "code",
   "execution_count": 294,
   "metadata": {
    "scrolled": true
   },
   "outputs": [
    {
     "data": {
      "application/vnd.jupyter.widget-view+json": {
       "model_id": "d00f480b1a2f4b3cbc10e2de253b6a8e",
       "version_major": 2,
       "version_minor": 0
      },
      "text/plain": [
       "HBox(children=(IntProgress(value=0, description='Epoch', max=14), HTML(value='')))"
      ]
     },
     "metadata": {},
     "output_type": "display_data"
    },
    {
     "name": "stdout",
     "output_type": "stream",
     "text": [
      "epoch      trn_loss   val_loss   exp_rmspe  mse              \n",
      "    0      2.707482   0.838541   2.841596   48.531688 \n",
      "    1      1.852458   0.622615   2.571395   37.1128          \n",
      "    2      1.67839    0.48386    1.742885   41.60896         \n",
      "    3      1.348968   0.479228   1.470705   36.646807        \n",
      "    4      1.475219   0.513624   1.312477   31.148531        \n",
      "    5      1.308113   0.494559   1.345398   31.675555        \n",
      "    6      1.278507   0.531257   1.218969   28.623275        \n",
      "    7      1.212257   0.525682   1.191674   29.563912        \n",
      "    8      1.163363   0.617553   1.183467   36.163161        \n",
      "    9      1.178669   0.64234    1.1739     37.307868        \n",
      "    10     1.171325   0.660954   1.163674   38.197461        \n",
      "    11     1.163776   0.638011   1.172649   37.587937        \n",
      "    12     1.126402   0.630851   1.176533   37.612171        \n",
      "    13     1.136137   0.630104   1.176448   37.560597        \n",
      "\n"
     ]
    },
    {
     "data": {
      "text/plain": [
       "[0.630103847976272, 1.1764479066532147, 37.56059736708637]"
      ]
     },
     "execution_count": 294,
     "metadata": {},
     "output_type": "execute_result"
    }
   ],
   "source": [
    "lr = 20e-5\n",
    "\n",
    "# m.fit(lr, 2, metrics=[exp_rmspe,mse], cycle_len=1, cycle_mult=2)\n",
    "m.fit(lr, n_cycle = 3, metrics=[exp_rmspe,mse], cycle_len=2, cycle_mult=2)"
   ]
  },
  {
   "cell_type": "markdown",
   "metadata": {},
   "source": [
    "# Save model parameters"
   ]
  },
  {
   "cell_type": "code",
   "execution_count": 295,
   "metadata": {},
   "outputs": [],
   "source": [
    "#saves it to wherever PATH points in original model object\n",
    "m.save(f'val1')\n",
    "m.load(f'val1')"
   ]
  },
  {
   "cell_type": "markdown",
   "metadata": {},
   "source": [
    "# Run some predictions, first on the validation then on the test data\n"
   ]
  },
  {
   "cell_type": "code",
   "execution_count": 296,
   "metadata": {},
   "outputs": [],
   "source": [
    "#calling predict will return predictions from the validation set\n",
    "predictions_validation = m.predict()"
   ]
  },
  {
   "cell_type": "markdown",
   "metadata": {},
   "source": [
    "The learner has never seen df_test values, so create a dataloader with these values to feed into the model for prediction.  The following will predict 1 step in the future based on the normalized dataset and the n (default 12) previous predictions."
   ]
  },
  {
   "cell_type": "code",
   "execution_count": 297,
   "metadata": {},
   "outputs": [],
   "source": [
    "#can do the below 3 if have seperate test set\n",
    "#create ColumnarDataSet from DataFrame (df)\n",
    "ctest = ColumnarDataset.from_data_frame(df_test,cat_flds=cat_vars)\n",
    "\n",
    "# create DataLoader from ColumnarDataSet\n",
    "dl_test = DataLoader(ctest)\n",
    "\n",
    "# make predictions for DataLoader\n",
    "predictions_test = m.predict_dl(dl_test)\n",
    "\n",
    "#or this one for the built in one\n",
    "# predictions_test = m.predict(is_test=True)"
   ]
  },
  {
   "cell_type": "markdown",
   "metadata": {},
   "source": [
    "## Calculate final values for display"
   ]
  },
  {
   "cell_type": "code",
   "execution_count": 298,
   "metadata": {},
   "outputs": [],
   "source": [
    "import matplotlib.pyplot as plt\n",
    "def plot_data(val1=None,val2=None,val3=None,val4=None ):\n",
    "    plt.rcParams['figure.figsize'] = [20, 10]\n",
    "    if (val1 is not None):\n",
    "        plt.plot(val1[0],label=val1[1])\n",
    "    if (val2 is not None):\n",
    "        plt.plot(val2[0],label=val2[1])\n",
    "    if (val3 is not None):\n",
    "        plt.plot(val3[0],label=val3[1])\n",
    "    if (val4 is not None):\n",
    "        plt.plot(val4[0],label=val4[1])\n",
    "    plt.legend(loc='upper center');\n",
    "    plt.show()"
   ]
  },
  {
   "cell_type": "code",
   "execution_count": 299,
   "metadata": {},
   "outputs": [],
   "source": [
    "#actual\n",
    "actual = np.append([np.exp(yl_trn_val)],[np.exp(yl_test)])\n",
    "\n",
    "#validation(bunch of NaNs, val results, bunch of NaNs)\n",
    "validation = np.append([  np.append([np.full(val_start,np.nan)],[np.exp(predictions_validation)])  ],[np.full(len(predictions_validation),np.nan)])\n",
    "\n",
    "#test(bunch of NaNs,bunch of NaNs, val results )\n",
    "test = np.append([np.full(len(df_trn_val),np.nan)],[np.exp(predictions_test)])"
   ]
  },
  {
   "cell_type": "code",
   "execution_count": 300,
   "metadata": {},
   "outputs": [
    {
     "data": {
      "image/png": "[encoded data removed]",
      "text/plain": [
       "<Figure size 1440x720 with 1 Axes>"
      ]
     },
     "metadata": {},
     "output_type": "display_data"
    }
   ],
   "source": [
    "#lets see it\n",
    "plot_data((actual, \"actual\"),(validation,'Validation data (predicted)'),(test,'Test data (predicted)'))"
   ]
  },
  {
   "cell_type": "markdown",
   "metadata": {},
   "source": [
    "## Try long term predictions\n",
    "What this means is that the lags in the dataset are replaced with what the model actually predicts, use this method to predict more than one datapoint in the future\n",
    "This complicated the data as you must predict then scale, then add the scaled value to the lags for future predictions after every prediction."
   ]
  },
  {
   "cell_type": "code",
   "execution_count": 327,
   "metadata": {
    "scrolled": true
   },
   "outputs": [
    {
     "data": {
      "text/html": [
       "<div>\n",
       "<style scoped>\n",
       "    .dataframe tbody tr th:only-of-type {\n",
       "        vertical-align: middle;\n",
       "    }\n",
       "\n",
       "    .dataframe tbody tr th {\n",
       "        vertical-align: top;\n",
       "    }\n",
       "\n",
       "    .dataframe thead th {\n",
       "        text-align: right;\n",
       "    }\n",
       "</style>\n",
       "<table border=\"1\" class=\"dataframe\">\n",
       "  <thead>\n",
       "    <tr style=\"text-align: right;\">\n",
       "      <th></th>\n",
       "      <th>Month</th>\n",
       "      <th>Year</th>\n",
       "      <th>Dayofyear</th>\n",
       "      <th>Is_quarter_end</th>\n",
       "      <th>Is_quarter_start</th>\n",
       "      <th>Is_year_end</th>\n",
       "      <th>Is_year_start</th>\n",
       "      <th>lag_1</th>\n",
       "    </tr>\n",
       "  </thead>\n",
       "  <tbody>\n",
       "    <tr>\n",
       "      <th>2815</th>\n",
       "      <td>8</td>\n",
       "      <td>235</td>\n",
       "      <td>13</td>\n",
       "      <td>1</td>\n",
       "      <td>1</td>\n",
       "      <td>1</td>\n",
       "      <td>1</td>\n",
       "      <td>82.199997</td>\n",
       "    </tr>\n",
       "    <tr>\n",
       "      <th>2816</th>\n",
       "      <td>9</td>\n",
       "      <td>235</td>\n",
       "      <td>15</td>\n",
       "      <td>1</td>\n",
       "      <td>1</td>\n",
       "      <td>1</td>\n",
       "      <td>1</td>\n",
       "      <td>71.800003</td>\n",
       "    </tr>\n",
       "    <tr>\n",
       "      <th>2817</th>\n",
       "      <td>10</td>\n",
       "      <td>235</td>\n",
       "      <td>17</td>\n",
       "      <td>1</td>\n",
       "      <td>2</td>\n",
       "      <td>1</td>\n",
       "      <td>1</td>\n",
       "      <td>50.299999</td>\n",
       "    </tr>\n",
       "    <tr>\n",
       "      <th>2818</th>\n",
       "      <td>11</td>\n",
       "      <td>235</td>\n",
       "      <td>19</td>\n",
       "      <td>1</td>\n",
       "      <td>1</td>\n",
       "      <td>1</td>\n",
       "      <td>1</td>\n",
       "      <td>55.799999</td>\n",
       "    </tr>\n",
       "    <tr>\n",
       "      <th>2819</th>\n",
       "      <td>12</td>\n",
       "      <td>235</td>\n",
       "      <td>21</td>\n",
       "      <td>1</td>\n",
       "      <td>1</td>\n",
       "      <td>1</td>\n",
       "      <td>1</td>\n",
       "      <td>33.299999</td>\n",
       "    </tr>\n",
       "  </tbody>\n",
       "</table>\n",
       "</div>"
      ],
      "text/plain": [
       "      Month  Year  Dayofyear  Is_quarter_end  Is_quarter_start  Is_year_end  \\\n",
       "2815      8   235         13               1                 1            1   \n",
       "2816      9   235         15               1                 1            1   \n",
       "2817     10   235         17               1                 2            1   \n",
       "2818     11   235         19               1                 1            1   \n",
       "2819     12   235         21               1                 1            1   \n",
       "\n",
       "      Is_year_start      lag_1  \n",
       "2815              1  82.199997  \n",
       "2816              1  71.800003  \n",
       "2817              1  50.299999  \n",
       "2818              1  55.799999  \n",
       "2819              1  33.299999  "
      ]
     },
     "execution_count": 327,
     "metadata": {},
     "output_type": "execute_result"
    }
   ],
   "source": [
    "#get a second test set for continuous testing\n",
    "# df_test_cont = df[val_end:].copy()\n",
    "starting_address = len(df)-100   #save this for later when resetting the prediction indeces\n",
    "df_test_cont = df[starting_address:].copy()\n",
    "\n",
    "starting_address = 0   #save this for later when resetting the prediction indeces\n",
    "df_test_cont = df[:].copy()\n",
    "\n",
    "# #this line is key, not sure why, but it is\n",
    "df_test_cont.reset_index(drop = True,inplace = True)\n",
    "\n",
    "# use the above mapper and nas_trn_val for normalization, do not scale though\n",
    "df_test_cont, yl_test_cont,_ = proc_df(df=df_test_cont, y_fld='SunspotNumbs',do_scale=False, na_dict=nas_trn_val)\n",
    "\n",
    "#get rid of the na columns in df test\n",
    "dump_na_columns(df_test_cont)\n",
    "\n",
    "#first lets make sure we never take ln of 0 (-infinity) by adding a small value to y\n",
    "yl_test_cont = np.log(yl_test_cont + 0.01)\n",
    "\n",
    "#notice the lag values are not normalized\n",
    "df_test_cont.tail()"
   ]
  },
  {
   "cell_type": "markdown",
   "metadata": {},
   "source": [
    "## Create a prediction tracker object"
   ]
  },
  {
   "cell_type": "code",
   "execution_count": 334,
   "metadata": {},
   "outputs": [],
   "source": [
    "from KP_lags import track_preds\n",
    "continuous_preds = track_preds(df = df_test_cont, mapper=mapper, model = m, cat_vars=cat_vars, num_lags = num_lags)"
   ]
  },
  {
   "cell_type": "code",
   "execution_count": 335,
   "metadata": {},
   "outputs": [
    {
     "name": "stdout",
     "output_type": "stream",
     "text": [
      "Nulls in continuous_preds.df=0\n"
     ]
    },
    {
     "data": {
      "text/plain": [
       "Month               False\n",
       "Year                False\n",
       "Dayofyear           False\n",
       "Is_quarter_end      False\n",
       "Is_quarter_start    False\n",
       "Is_year_end         False\n",
       "Is_year_start       False\n",
       "lag_1               False\n",
       "dtype: bool"
      ]
     },
     "execution_count": 335,
     "metadata": {},
     "output_type": "execute_result"
    }
   ],
   "source": [
    "print( \"Nulls in continuous_preds.df=\" + str(continuous_preds.df.isnull().sum().sum()))\n",
    "continuous_preds.df.isna().any()"
   ]
  },
  {
   "cell_type": "code",
   "execution_count": 336,
   "metadata": {},
   "outputs": [],
   "source": [
    "values = {'lag_1': nas_trn_val['lag_1']}\n",
    "continuous_preds.df.fillna(value = values,inplace =True)"
   ]
  },
  {
   "cell_type": "code",
   "execution_count": 337,
   "metadata": {},
   "outputs": [],
   "source": [
    "#run it, it will loop, updating the lags in the dataset with the new predicted values for all rows\n",
    "continuous_preds.run()"
   ]
  },
  {
   "cell_type": "code",
   "execution_count": 338,
   "metadata": {
    "collapsed": true
   },
   "outputs": [
    {
     "data": {
      "text/html": [
       "<div>\n",
       "<style scoped>\n",
       "    .dataframe tbody tr th:only-of-type {\n",
       "        vertical-align: middle;\n",
       "    }\n",
       "\n",
       "    .dataframe tbody tr th {\n",
       "        vertical-align: top;\n",
       "    }\n",
       "\n",
       "    .dataframe thead th {\n",
       "        text-align: right;\n",
       "    }\n",
       "</style>\n",
       "<table border=\"1\" class=\"dataframe\">\n",
       "  <thead>\n",
       "    <tr style=\"text-align: right;\">\n",
       "      <th></th>\n",
       "      <th>Month</th>\n",
       "      <th>Year</th>\n",
       "      <th>Dayofyear</th>\n",
       "      <th>Is_quarter_end</th>\n",
       "      <th>Is_quarter_start</th>\n",
       "      <th>Is_year_end</th>\n",
       "      <th>Is_year_start</th>\n",
       "      <th>lag_1</th>\n",
       "    </tr>\n",
       "  </thead>\n",
       "  <tbody>\n",
       "    <tr>\n",
       "      <th>0</th>\n",
       "      <td>1.0</td>\n",
       "      <td>1.0</td>\n",
       "      <td>1.0</td>\n",
       "      <td>1.0</td>\n",
       "      <td>2.0</td>\n",
       "      <td>1.0</td>\n",
       "      <td>2.0</td>\n",
       "      <td>-0.218198</td>\n",
       "    </tr>\n",
       "    <tr>\n",
       "      <th>1</th>\n",
       "      <td>2.0</td>\n",
       "      <td>1.0</td>\n",
       "      <td>2.0</td>\n",
       "      <td>1.0</td>\n",
       "      <td>1.0</td>\n",
       "      <td>1.0</td>\n",
       "      <td>1.0</td>\n",
       "      <td>-0.038433</td>\n",
       "    </tr>\n",
       "    <tr>\n",
       "      <th>2</th>\n",
       "      <td>3.0</td>\n",
       "      <td>1.0</td>\n",
       "      <td>3.0</td>\n",
       "      <td>1.0</td>\n",
       "      <td>1.0</td>\n",
       "      <td>1.0</td>\n",
       "      <td>1.0</td>\n",
       "      <td>0.104117</td>\n",
       "    </tr>\n",
       "    <tr>\n",
       "      <th>3</th>\n",
       "      <td>4.0</td>\n",
       "      <td>1.0</td>\n",
       "      <td>5.0</td>\n",
       "      <td>1.0</td>\n",
       "      <td>2.0</td>\n",
       "      <td>1.0</td>\n",
       "      <td>1.0</td>\n",
       "      <td>0.190745</td>\n",
       "    </tr>\n",
       "    <tr>\n",
       "      <th>4</th>\n",
       "      <td>5.0</td>\n",
       "      <td>1.0</td>\n",
       "      <td>7.0</td>\n",
       "      <td>1.0</td>\n",
       "      <td>1.0</td>\n",
       "      <td>1.0</td>\n",
       "      <td>1.0</td>\n",
       "      <td>0.361685</td>\n",
       "    </tr>\n",
       "    <tr>\n",
       "      <th>5</th>\n",
       "      <td>6.0</td>\n",
       "      <td>1.0</td>\n",
       "      <td>9.0</td>\n",
       "      <td>1.0</td>\n",
       "      <td>1.0</td>\n",
       "      <td>1.0</td>\n",
       "      <td>1.0</td>\n",
       "      <td>0.445647</td>\n",
       "    </tr>\n",
       "    <tr>\n",
       "      <th>6</th>\n",
       "      <td>7.0</td>\n",
       "      <td>1.0</td>\n",
       "      <td>11.0</td>\n",
       "      <td>1.0</td>\n",
       "      <td>2.0</td>\n",
       "      <td>1.0</td>\n",
       "      <td>1.0</td>\n",
       "      <td>0.407566</td>\n",
       "    </tr>\n",
       "    <tr>\n",
       "      <th>7</th>\n",
       "      <td>8.0</td>\n",
       "      <td>1.0</td>\n",
       "      <td>13.0</td>\n",
       "      <td>1.0</td>\n",
       "      <td>1.0</td>\n",
       "      <td>1.0</td>\n",
       "      <td>1.0</td>\n",
       "      <td>0.623746</td>\n",
       "    </tr>\n",
       "    <tr>\n",
       "      <th>8</th>\n",
       "      <td>9.0</td>\n",
       "      <td>1.0</td>\n",
       "      <td>15.0</td>\n",
       "      <td>1.0</td>\n",
       "      <td>1.0</td>\n",
       "      <td>1.0</td>\n",
       "      <td>1.0</td>\n",
       "      <td>0.530503</td>\n",
       "    </tr>\n",
       "    <tr>\n",
       "      <th>9</th>\n",
       "      <td>10.0</td>\n",
       "      <td>1.0</td>\n",
       "      <td>17.0</td>\n",
       "      <td>1.0</td>\n",
       "      <td>2.0</td>\n",
       "      <td>1.0</td>\n",
       "      <td>1.0</td>\n",
       "      <td>0.756278</td>\n",
       "    </tr>\n",
       "    <tr>\n",
       "      <th>10</th>\n",
       "      <td>11.0</td>\n",
       "      <td>1.0</td>\n",
       "      <td>19.0</td>\n",
       "      <td>1.0</td>\n",
       "      <td>1.0</td>\n",
       "      <td>1.0</td>\n",
       "      <td>1.0</td>\n",
       "      <td>0.793128</td>\n",
       "    </tr>\n",
       "    <tr>\n",
       "      <th>11</th>\n",
       "      <td>12.0</td>\n",
       "      <td>1.0</td>\n",
       "      <td>21.0</td>\n",
       "      <td>1.0</td>\n",
       "      <td>1.0</td>\n",
       "      <td>1.0</td>\n",
       "      <td>1.0</td>\n",
       "      <td>0.914856</td>\n",
       "    </tr>\n",
       "    <tr>\n",
       "      <th>12</th>\n",
       "      <td>1.0</td>\n",
       "      <td>2.0</td>\n",
       "      <td>1.0</td>\n",
       "      <td>1.0</td>\n",
       "      <td>2.0</td>\n",
       "      <td>1.0</td>\n",
       "      <td>2.0</td>\n",
       "      <td>0.803106</td>\n",
       "    </tr>\n",
       "    <tr>\n",
       "      <th>13</th>\n",
       "      <td>2.0</td>\n",
       "      <td>2.0</td>\n",
       "      <td>2.0</td>\n",
       "      <td>1.0</td>\n",
       "      <td>1.0</td>\n",
       "      <td>1.0</td>\n",
       "      <td>1.0</td>\n",
       "      <td>0.494117</td>\n",
       "    </tr>\n",
       "    <tr>\n",
       "      <th>14</th>\n",
       "      <td>3.0</td>\n",
       "      <td>2.0</td>\n",
       "      <td>3.0</td>\n",
       "      <td>1.0</td>\n",
       "      <td>1.0</td>\n",
       "      <td>1.0</td>\n",
       "      <td>1.0</td>\n",
       "      <td>0.632775</td>\n",
       "    </tr>\n",
       "    <tr>\n",
       "      <th>15</th>\n",
       "      <td>4.0</td>\n",
       "      <td>2.0</td>\n",
       "      <td>5.0</td>\n",
       "      <td>1.0</td>\n",
       "      <td>2.0</td>\n",
       "      <td>1.0</td>\n",
       "      <td>1.0</td>\n",
       "      <td>0.608145</td>\n",
       "    </tr>\n",
       "    <tr>\n",
       "      <th>16</th>\n",
       "      <td>5.0</td>\n",
       "      <td>2.0</td>\n",
       "      <td>7.0</td>\n",
       "      <td>1.0</td>\n",
       "      <td>1.0</td>\n",
       "      <td>1.0</td>\n",
       "      <td>1.0</td>\n",
       "      <td>0.469463</td>\n",
       "    </tr>\n",
       "    <tr>\n",
       "      <th>17</th>\n",
       "      <td>6.0</td>\n",
       "      <td>2.0</td>\n",
       "      <td>9.0</td>\n",
       "      <td>1.0</td>\n",
       "      <td>1.0</td>\n",
       "      <td>1.0</td>\n",
       "      <td>1.0</td>\n",
       "      <td>0.507845</td>\n",
       "    </tr>\n",
       "    <tr>\n",
       "      <th>18</th>\n",
       "      <td>7.0</td>\n",
       "      <td>2.0</td>\n",
       "      <td>11.0</td>\n",
       "      <td>1.0</td>\n",
       "      <td>2.0</td>\n",
       "      <td>1.0</td>\n",
       "      <td>1.0</td>\n",
       "      <td>0.549479</td>\n",
       "    </tr>\n",
       "    <tr>\n",
       "      <th>19</th>\n",
       "      <td>8.0</td>\n",
       "      <td>2.0</td>\n",
       "      <td>13.0</td>\n",
       "      <td>1.0</td>\n",
       "      <td>1.0</td>\n",
       "      <td>1.0</td>\n",
       "      <td>1.0</td>\n",
       "      <td>0.492042</td>\n",
       "    </tr>\n",
       "    <tr>\n",
       "      <th>20</th>\n",
       "      <td>9.0</td>\n",
       "      <td>2.0</td>\n",
       "      <td>15.0</td>\n",
       "      <td>1.0</td>\n",
       "      <td>1.0</td>\n",
       "      <td>1.0</td>\n",
       "      <td>1.0</td>\n",
       "      <td>0.428760</td>\n",
       "    </tr>\n",
       "    <tr>\n",
       "      <th>21</th>\n",
       "      <td>10.0</td>\n",
       "      <td>2.0</td>\n",
       "      <td>17.0</td>\n",
       "      <td>1.0</td>\n",
       "      <td>2.0</td>\n",
       "      <td>1.0</td>\n",
       "      <td>1.0</td>\n",
       "      <td>0.457262</td>\n",
       "    </tr>\n",
       "    <tr>\n",
       "      <th>22</th>\n",
       "      <td>11.0</td>\n",
       "      <td>2.0</td>\n",
       "      <td>19.0</td>\n",
       "      <td>1.0</td>\n",
       "      <td>1.0</td>\n",
       "      <td>1.0</td>\n",
       "      <td>1.0</td>\n",
       "      <td>0.310398</td>\n",
       "    </tr>\n",
       "    <tr>\n",
       "      <th>23</th>\n",
       "      <td>12.0</td>\n",
       "      <td>2.0</td>\n",
       "      <td>21.0</td>\n",
       "      <td>1.0</td>\n",
       "      <td>1.0</td>\n",
       "      <td>1.0</td>\n",
       "      <td>1.0</td>\n",
       "      <td>0.399403</td>\n",
       "    </tr>\n",
       "    <tr>\n",
       "      <th>24</th>\n",
       "      <td>1.0</td>\n",
       "      <td>3.0</td>\n",
       "      <td>1.0</td>\n",
       "      <td>1.0</td>\n",
       "      <td>2.0</td>\n",
       "      <td>1.0</td>\n",
       "      <td>2.0</td>\n",
       "      <td>0.378715</td>\n",
       "    </tr>\n",
       "    <tr>\n",
       "      <th>25</th>\n",
       "      <td>2.0</td>\n",
       "      <td>3.0</td>\n",
       "      <td>2.0</td>\n",
       "      <td>1.0</td>\n",
       "      <td>1.0</td>\n",
       "      <td>1.0</td>\n",
       "      <td>1.0</td>\n",
       "      <td>0.337196</td>\n",
       "    </tr>\n",
       "    <tr>\n",
       "      <th>26</th>\n",
       "      <td>3.0</td>\n",
       "      <td>3.0</td>\n",
       "      <td>3.0</td>\n",
       "      <td>1.0</td>\n",
       "      <td>1.0</td>\n",
       "      <td>1.0</td>\n",
       "      <td>1.0</td>\n",
       "      <td>0.329095</td>\n",
       "    </tr>\n",
       "    <tr>\n",
       "      <th>27</th>\n",
       "      <td>4.0</td>\n",
       "      <td>3.0</td>\n",
       "      <td>5.0</td>\n",
       "      <td>1.0</td>\n",
       "      <td>2.0</td>\n",
       "      <td>1.0</td>\n",
       "      <td>1.0</td>\n",
       "      <td>0.244895</td>\n",
       "    </tr>\n",
       "    <tr>\n",
       "      <th>28</th>\n",
       "      <td>5.0</td>\n",
       "      <td>3.0</td>\n",
       "      <td>7.0</td>\n",
       "      <td>1.0</td>\n",
       "      <td>1.0</td>\n",
       "      <td>1.0</td>\n",
       "      <td>1.0</td>\n",
       "      <td>0.185422</td>\n",
       "    </tr>\n",
       "    <tr>\n",
       "      <th>29</th>\n",
       "      <td>6.0</td>\n",
       "      <td>3.0</td>\n",
       "      <td>9.0</td>\n",
       "      <td>1.0</td>\n",
       "      <td>1.0</td>\n",
       "      <td>1.0</td>\n",
       "      <td>1.0</td>\n",
       "      <td>0.208909</td>\n",
       "    </tr>\n",
       "    <tr>\n",
       "      <th>...</th>\n",
       "      <td>...</td>\n",
       "      <td>...</td>\n",
       "      <td>...</td>\n",
       "      <td>...</td>\n",
       "      <td>...</td>\n",
       "      <td>...</td>\n",
       "      <td>...</td>\n",
       "      <td>...</td>\n",
       "    </tr>\n",
       "    <tr>\n",
       "      <th>2790</th>\n",
       "      <td>7.0</td>\n",
       "      <td>233.0</td>\n",
       "      <td>11.0</td>\n",
       "      <td>1.0</td>\n",
       "      <td>2.0</td>\n",
       "      <td>1.0</td>\n",
       "      <td>1.0</td>\n",
       "      <td>-1.047242</td>\n",
       "    </tr>\n",
       "    <tr>\n",
       "      <th>2791</th>\n",
       "      <td>8.0</td>\n",
       "      <td>233.0</td>\n",
       "      <td>13.0</td>\n",
       "      <td>1.0</td>\n",
       "      <td>1.0</td>\n",
       "      <td>1.0</td>\n",
       "      <td>1.0</td>\n",
       "      <td>-1.044761</td>\n",
       "    </tr>\n",
       "    <tr>\n",
       "      <th>2792</th>\n",
       "      <td>9.0</td>\n",
       "      <td>233.0</td>\n",
       "      <td>15.0</td>\n",
       "      <td>1.0</td>\n",
       "      <td>1.0</td>\n",
       "      <td>1.0</td>\n",
       "      <td>1.0</td>\n",
       "      <td>-1.064120</td>\n",
       "    </tr>\n",
       "    <tr>\n",
       "      <th>2793</th>\n",
       "      <td>10.0</td>\n",
       "      <td>233.0</td>\n",
       "      <td>17.0</td>\n",
       "      <td>1.0</td>\n",
       "      <td>2.0</td>\n",
       "      <td>1.0</td>\n",
       "      <td>1.0</td>\n",
       "      <td>-1.063732</td>\n",
       "    </tr>\n",
       "    <tr>\n",
       "      <th>2794</th>\n",
       "      <td>11.0</td>\n",
       "      <td>233.0</td>\n",
       "      <td>19.0</td>\n",
       "      <td>1.0</td>\n",
       "      <td>1.0</td>\n",
       "      <td>1.0</td>\n",
       "      <td>1.0</td>\n",
       "      <td>-1.026597</td>\n",
       "    </tr>\n",
       "    <tr>\n",
       "      <th>2795</th>\n",
       "      <td>12.0</td>\n",
       "      <td>233.0</td>\n",
       "      <td>21.0</td>\n",
       "      <td>1.0</td>\n",
       "      <td>1.0</td>\n",
       "      <td>1.0</td>\n",
       "      <td>1.0</td>\n",
       "      <td>-1.043593</td>\n",
       "    </tr>\n",
       "    <tr>\n",
       "      <th>2796</th>\n",
       "      <td>1.0</td>\n",
       "      <td>234.0</td>\n",
       "      <td>1.0</td>\n",
       "      <td>1.0</td>\n",
       "      <td>2.0</td>\n",
       "      <td>1.0</td>\n",
       "      <td>2.0</td>\n",
       "      <td>-1.066518</td>\n",
       "    </tr>\n",
       "    <tr>\n",
       "      <th>2797</th>\n",
       "      <td>2.0</td>\n",
       "      <td>234.0</td>\n",
       "      <td>2.0</td>\n",
       "      <td>1.0</td>\n",
       "      <td>1.0</td>\n",
       "      <td>1.0</td>\n",
       "      <td>1.0</td>\n",
       "      <td>-1.097708</td>\n",
       "    </tr>\n",
       "    <tr>\n",
       "      <th>2798</th>\n",
       "      <td>3.0</td>\n",
       "      <td>234.0</td>\n",
       "      <td>3.0</td>\n",
       "      <td>1.0</td>\n",
       "      <td>1.0</td>\n",
       "      <td>1.0</td>\n",
       "      <td>1.0</td>\n",
       "      <td>-1.092695</td>\n",
       "    </tr>\n",
       "    <tr>\n",
       "      <th>2799</th>\n",
       "      <td>4.0</td>\n",
       "      <td>234.0</td>\n",
       "      <td>5.0</td>\n",
       "      <td>1.0</td>\n",
       "      <td>2.0</td>\n",
       "      <td>1.0</td>\n",
       "      <td>1.0</td>\n",
       "      <td>-1.090038</td>\n",
       "    </tr>\n",
       "    <tr>\n",
       "      <th>2800</th>\n",
       "      <td>5.0</td>\n",
       "      <td>234.0</td>\n",
       "      <td>7.0</td>\n",
       "      <td>1.0</td>\n",
       "      <td>1.0</td>\n",
       "      <td>1.0</td>\n",
       "      <td>1.0</td>\n",
       "      <td>-1.091760</td>\n",
       "    </tr>\n",
       "    <tr>\n",
       "      <th>2801</th>\n",
       "      <td>6.0</td>\n",
       "      <td>234.0</td>\n",
       "      <td>9.0</td>\n",
       "      <td>1.0</td>\n",
       "      <td>1.0</td>\n",
       "      <td>1.0</td>\n",
       "      <td>1.0</td>\n",
       "      <td>-1.093489</td>\n",
       "    </tr>\n",
       "    <tr>\n",
       "      <th>2802</th>\n",
       "      <td>7.0</td>\n",
       "      <td>234.0</td>\n",
       "      <td>11.0</td>\n",
       "      <td>1.0</td>\n",
       "      <td>2.0</td>\n",
       "      <td>1.0</td>\n",
       "      <td>1.0</td>\n",
       "      <td>-1.093946</td>\n",
       "    </tr>\n",
       "    <tr>\n",
       "      <th>2803</th>\n",
       "      <td>8.0</td>\n",
       "      <td>234.0</td>\n",
       "      <td>13.0</td>\n",
       "      <td>1.0</td>\n",
       "      <td>1.0</td>\n",
       "      <td>1.0</td>\n",
       "      <td>1.0</td>\n",
       "      <td>-1.088019</td>\n",
       "    </tr>\n",
       "    <tr>\n",
       "      <th>2804</th>\n",
       "      <td>9.0</td>\n",
       "      <td>234.0</td>\n",
       "      <td>15.0</td>\n",
       "      <td>1.0</td>\n",
       "      <td>1.0</td>\n",
       "      <td>1.0</td>\n",
       "      <td>1.0</td>\n",
       "      <td>-1.099545</td>\n",
       "    </tr>\n",
       "    <tr>\n",
       "      <th>2805</th>\n",
       "      <td>10.0</td>\n",
       "      <td>234.0</td>\n",
       "      <td>17.0</td>\n",
       "      <td>1.0</td>\n",
       "      <td>2.0</td>\n",
       "      <td>1.0</td>\n",
       "      <td>1.0</td>\n",
       "      <td>-1.098827</td>\n",
       "    </tr>\n",
       "    <tr>\n",
       "      <th>2806</th>\n",
       "      <td>11.0</td>\n",
       "      <td>234.0</td>\n",
       "      <td>19.0</td>\n",
       "      <td>1.0</td>\n",
       "      <td>1.0</td>\n",
       "      <td>1.0</td>\n",
       "      <td>1.0</td>\n",
       "      <td>-1.070696</td>\n",
       "    </tr>\n",
       "    <tr>\n",
       "      <th>2807</th>\n",
       "      <td>12.0</td>\n",
       "      <td>234.0</td>\n",
       "      <td>21.0</td>\n",
       "      <td>1.0</td>\n",
       "      <td>1.0</td>\n",
       "      <td>1.0</td>\n",
       "      <td>1.0</td>\n",
       "      <td>-1.092091</td>\n",
       "    </tr>\n",
       "    <tr>\n",
       "      <th>2808</th>\n",
       "      <td>1.0</td>\n",
       "      <td>235.0</td>\n",
       "      <td>1.0</td>\n",
       "      <td>1.0</td>\n",
       "      <td>2.0</td>\n",
       "      <td>1.0</td>\n",
       "      <td>2.0</td>\n",
       "      <td>-1.098665</td>\n",
       "    </tr>\n",
       "    <tr>\n",
       "      <th>2809</th>\n",
       "      <td>2.0</td>\n",
       "      <td>235.0</td>\n",
       "      <td>2.0</td>\n",
       "      <td>1.0</td>\n",
       "      <td>1.0</td>\n",
       "      <td>1.0</td>\n",
       "      <td>1.0</td>\n",
       "      <td>-1.087412</td>\n",
       "    </tr>\n",
       "    <tr>\n",
       "      <th>2810</th>\n",
       "      <td>3.0</td>\n",
       "      <td>235.0</td>\n",
       "      <td>3.0</td>\n",
       "      <td>1.0</td>\n",
       "      <td>1.0</td>\n",
       "      <td>1.0</td>\n",
       "      <td>1.0</td>\n",
       "      <td>-1.070743</td>\n",
       "    </tr>\n",
       "    <tr>\n",
       "      <th>2811</th>\n",
       "      <td>4.0</td>\n",
       "      <td>235.0</td>\n",
       "      <td>5.0</td>\n",
       "      <td>1.0</td>\n",
       "      <td>2.0</td>\n",
       "      <td>1.0</td>\n",
       "      <td>1.0</td>\n",
       "      <td>-1.066320</td>\n",
       "    </tr>\n",
       "    <tr>\n",
       "      <th>2812</th>\n",
       "      <td>5.0</td>\n",
       "      <td>235.0</td>\n",
       "      <td>7.0</td>\n",
       "      <td>1.0</td>\n",
       "      <td>1.0</td>\n",
       "      <td>1.0</td>\n",
       "      <td>1.0</td>\n",
       "      <td>-1.068708</td>\n",
       "    </tr>\n",
       "    <tr>\n",
       "      <th>2813</th>\n",
       "      <td>6.0</td>\n",
       "      <td>235.0</td>\n",
       "      <td>9.0</td>\n",
       "      <td>1.0</td>\n",
       "      <td>1.0</td>\n",
       "      <td>1.0</td>\n",
       "      <td>1.0</td>\n",
       "      <td>-1.069539</td>\n",
       "    </tr>\n",
       "    <tr>\n",
       "      <th>2814</th>\n",
       "      <td>7.0</td>\n",
       "      <td>235.0</td>\n",
       "      <td>11.0</td>\n",
       "      <td>1.0</td>\n",
       "      <td>2.0</td>\n",
       "      <td>1.0</td>\n",
       "      <td>1.0</td>\n",
       "      <td>-1.071196</td>\n",
       "    </tr>\n",
       "    <tr>\n",
       "      <th>2815</th>\n",
       "      <td>8.0</td>\n",
       "      <td>235.0</td>\n",
       "      <td>13.0</td>\n",
       "      <td>1.0</td>\n",
       "      <td>1.0</td>\n",
       "      <td>1.0</td>\n",
       "      <td>1.0</td>\n",
       "      <td>-1.062935</td>\n",
       "    </tr>\n",
       "    <tr>\n",
       "      <th>2816</th>\n",
       "      <td>9.0</td>\n",
       "      <td>235.0</td>\n",
       "      <td>15.0</td>\n",
       "      <td>1.0</td>\n",
       "      <td>1.0</td>\n",
       "      <td>1.0</td>\n",
       "      <td>1.0</td>\n",
       "      <td>-1.080474</td>\n",
       "    </tr>\n",
       "    <tr>\n",
       "      <th>2817</th>\n",
       "      <td>10.0</td>\n",
       "      <td>235.0</td>\n",
       "      <td>17.0</td>\n",
       "      <td>1.0</td>\n",
       "      <td>2.0</td>\n",
       "      <td>1.0</td>\n",
       "      <td>1.0</td>\n",
       "      <td>-1.079592</td>\n",
       "    </tr>\n",
       "    <tr>\n",
       "      <th>2818</th>\n",
       "      <td>11.0</td>\n",
       "      <td>235.0</td>\n",
       "      <td>19.0</td>\n",
       "      <td>1.0</td>\n",
       "      <td>1.0</td>\n",
       "      <td>1.0</td>\n",
       "      <td>1.0</td>\n",
       "      <td>55.799999</td>\n",
       "    </tr>\n",
       "    <tr>\n",
       "      <th>2819</th>\n",
       "      <td>12.0</td>\n",
       "      <td>235.0</td>\n",
       "      <td>21.0</td>\n",
       "      <td>1.0</td>\n",
       "      <td>1.0</td>\n",
       "      <td>1.0</td>\n",
       "      <td>1.0</td>\n",
       "      <td>33.299999</td>\n",
       "    </tr>\n",
       "  </tbody>\n",
       "</table>\n",
       "<p>2820 rows × 8 columns</p>\n",
       "</div>"
      ],
      "text/plain": [
       "      Month   Year  Dayofyear  Is_quarter_end  Is_quarter_start  Is_year_end  \\\n",
       "0       1.0    1.0        1.0             1.0               2.0          1.0   \n",
       "1       2.0    1.0        2.0             1.0               1.0          1.0   \n",
       "2       3.0    1.0        3.0             1.0               1.0          1.0   \n",
       "3       4.0    1.0        5.0             1.0               2.0          1.0   \n",
       "4       5.0    1.0        7.0             1.0               1.0          1.0   \n",
       "5       6.0    1.0        9.0             1.0               1.0          1.0   \n",
       "6       7.0    1.0       11.0             1.0               2.0          1.0   \n",
       "7       8.0    1.0       13.0             1.0               1.0          1.0   \n",
       "8       9.0    1.0       15.0             1.0               1.0          1.0   \n",
       "9      10.0    1.0       17.0             1.0               2.0          1.0   \n",
       "10     11.0    1.0       19.0             1.0               1.0          1.0   \n",
       "11     12.0    1.0       21.0             1.0               1.0          1.0   \n",
       "12      1.0    2.0        1.0             1.0               2.0          1.0   \n",
       "13      2.0    2.0        2.0             1.0               1.0          1.0   \n",
       "14      3.0    2.0        3.0             1.0               1.0          1.0   \n",
       "15      4.0    2.0        5.0             1.0               2.0          1.0   \n",
       "16      5.0    2.0        7.0             1.0               1.0          1.0   \n",
       "17      6.0    2.0        9.0             1.0               1.0          1.0   \n",
       "18      7.0    2.0       11.0             1.0               2.0          1.0   \n",
       "19      8.0    2.0       13.0             1.0               1.0          1.0   \n",
       "20      9.0    2.0       15.0             1.0               1.0          1.0   \n",
       "21     10.0    2.0       17.0             1.0               2.0          1.0   \n",
       "22     11.0    2.0       19.0             1.0               1.0          1.0   \n",
       "23     12.0    2.0       21.0             1.0               1.0          1.0   \n",
       "24      1.0    3.0        1.0             1.0               2.0          1.0   \n",
       "25      2.0    3.0        2.0             1.0               1.0          1.0   \n",
       "26      3.0    3.0        3.0             1.0               1.0          1.0   \n",
       "27      4.0    3.0        5.0             1.0               2.0          1.0   \n",
       "28      5.0    3.0        7.0             1.0               1.0          1.0   \n",
       "29      6.0    3.0        9.0             1.0               1.0          1.0   \n",
       "...     ...    ...        ...             ...               ...          ...   \n",
       "2790    7.0  233.0       11.0             1.0               2.0          1.0   \n",
       "2791    8.0  233.0       13.0             1.0               1.0          1.0   \n",
       "2792    9.0  233.0       15.0             1.0               1.0          1.0   \n",
       "2793   10.0  233.0       17.0             1.0               2.0          1.0   \n",
       "2794   11.0  233.0       19.0             1.0               1.0          1.0   \n",
       "2795   12.0  233.0       21.0             1.0               1.0          1.0   \n",
       "2796    1.0  234.0        1.0             1.0               2.0          1.0   \n",
       "2797    2.0  234.0        2.0             1.0               1.0          1.0   \n",
       "2798    3.0  234.0        3.0             1.0               1.0          1.0   \n",
       "2799    4.0  234.0        5.0             1.0               2.0          1.0   \n",
       "2800    5.0  234.0        7.0             1.0               1.0          1.0   \n",
       "2801    6.0  234.0        9.0             1.0               1.0          1.0   \n",
       "2802    7.0  234.0       11.0             1.0               2.0          1.0   \n",
       "2803    8.0  234.0       13.0             1.0               1.0          1.0   \n",
       "2804    9.0  234.0       15.0             1.0               1.0          1.0   \n",
       "2805   10.0  234.0       17.0             1.0               2.0          1.0   \n",
       "2806   11.0  234.0       19.0             1.0               1.0          1.0   \n",
       "2807   12.0  234.0       21.0             1.0               1.0          1.0   \n",
       "2808    1.0  235.0        1.0             1.0               2.0          1.0   \n",
       "2809    2.0  235.0        2.0             1.0               1.0          1.0   \n",
       "2810    3.0  235.0        3.0             1.0               1.0          1.0   \n",
       "2811    4.0  235.0        5.0             1.0               2.0          1.0   \n",
       "2812    5.0  235.0        7.0             1.0               1.0          1.0   \n",
       "2813    6.0  235.0        9.0             1.0               1.0          1.0   \n",
       "2814    7.0  235.0       11.0             1.0               2.0          1.0   \n",
       "2815    8.0  235.0       13.0             1.0               1.0          1.0   \n",
       "2816    9.0  235.0       15.0             1.0               1.0          1.0   \n",
       "2817   10.0  235.0       17.0             1.0               2.0          1.0   \n",
       "2818   11.0  235.0       19.0             1.0               1.0          1.0   \n",
       "2819   12.0  235.0       21.0             1.0               1.0          1.0   \n",
       "\n",
       "      Is_year_start      lag_1  \n",
       "0               2.0  -0.218198  \n",
       "1               1.0  -0.038433  \n",
       "2               1.0   0.104117  \n",
       "3               1.0   0.190745  \n",
       "4               1.0   0.361685  \n",
       "5               1.0   0.445647  \n",
       "6               1.0   0.407566  \n",
       "7               1.0   0.623746  \n",
       "8               1.0   0.530503  \n",
       "9               1.0   0.756278  \n",
       "10              1.0   0.793128  \n",
       "11              1.0   0.914856  \n",
       "12              2.0   0.803106  \n",
       "13              1.0   0.494117  \n",
       "14              1.0   0.632775  \n",
       "15              1.0   0.608145  \n",
       "16              1.0   0.469463  \n",
       "17              1.0   0.507845  \n",
       "18              1.0   0.549479  \n",
       "19              1.0   0.492042  \n",
       "20              1.0   0.428760  \n",
       "21              1.0   0.457262  \n",
       "22              1.0   0.310398  \n",
       "23              1.0   0.399403  \n",
       "24              2.0   0.378715  \n",
       "25              1.0   0.337196  \n",
       "26              1.0   0.329095  \n",
       "27              1.0   0.244895  \n",
       "28              1.0   0.185422  \n",
       "29              1.0   0.208909  \n",
       "...             ...        ...  \n",
       "2790            1.0  -1.047242  \n",
       "2791            1.0  -1.044761  \n",
       "2792            1.0  -1.064120  \n",
       "2793            1.0  -1.063732  \n",
       "2794            1.0  -1.026597  \n",
       "2795            1.0  -1.043593  \n",
       "2796            2.0  -1.066518  \n",
       "2797            1.0  -1.097708  \n",
       "2798            1.0  -1.092695  \n",
       "2799            1.0  -1.090038  \n",
       "2800            1.0  -1.091760  \n",
       "2801            1.0  -1.093489  \n",
       "2802            1.0  -1.093946  \n",
       "2803            1.0  -1.088019  \n",
       "2804            1.0  -1.099545  \n",
       "2805            1.0  -1.098827  \n",
       "2806            1.0  -1.070696  \n",
       "2807            1.0  -1.092091  \n",
       "2808            2.0  -1.098665  \n",
       "2809            1.0  -1.087412  \n",
       "2810            1.0  -1.070743  \n",
       "2811            1.0  -1.066320  \n",
       "2812            1.0  -1.068708  \n",
       "2813            1.0  -1.069539  \n",
       "2814            1.0  -1.071196  \n",
       "2815            1.0  -1.062935  \n",
       "2816            1.0  -1.080474  \n",
       "2817            1.0  -1.079592  \n",
       "2818            1.0  55.799999  \n",
       "2819            1.0  33.299999  \n",
       "\n",
       "[2820 rows x 8 columns]"
      ]
     },
     "execution_count": 338,
     "metadata": {},
     "output_type": "execute_result"
    }
   ],
   "source": [
    "#continuous_preds.df.head(), notice that the lags are now all normalized\n",
    "continuous_preds.df"
   ]
  },
  {
   "cell_type": "code",
   "execution_count": 339,
   "metadata": {
    "collapsed": true
   },
   "outputs": [
    {
     "data": {
      "text/plain": [
       "Month               float32\n",
       "Year                float32\n",
       "Dayofyear           float32\n",
       "Is_quarter_end      float32\n",
       "Is_quarter_start    float32\n",
       "Is_year_end         float32\n",
       "Is_year_start       float32\n",
       "lag_1               float32\n",
       "dtype: object"
      ]
     },
     "execution_count": 339,
     "metadata": {},
     "output_type": "execute_result"
    }
   ],
   "source": [
    "#cont preds makes em all floats, no no no!\n",
    "#they are categorical, fix it\n",
    "continuous_preds.df.dtypes"
   ]
  },
  {
   "cell_type": "markdown",
   "metadata": {},
   "source": [
    "## Plot"
   ]
  },
  {
   "cell_type": "code",
   "execution_count": 342,
   "metadata": {
    "code_folding": []
   },
   "outputs": [
    {
     "name": "stdout",
     "output_type": "stream",
     "text": [
      "(2818,)\n"
     ]
    },
    {
     "data": {
      "image/png": "[encoded data removed]",
      "text/plain": [
       "<Figure size 1440x720 with 1 Axes>"
      ]
     },
     "metadata": {},
     "output_type": "display_data"
    }
   ],
   "source": [
    "#expand these\n",
    "test_cont = np.exp(continuous_preds.preds)\n",
    "\n",
    "#reshape for plotting\n",
    "test_cont = test_cont.reshape(len(test_cont))\n",
    "print(test_cont.shape)\n",
    "\n",
    "#lets see it actual verses calculated\n",
    "plot_data((actual, \"actual\"),(test_cont,'Continuous test'))\n",
    "\n",
    "# #lets see what the lags look like (make sure they match roughly the training data)\n",
    "# plot_data((np.exp(continuous_preds.df.lag_1), \"continuous_preds.df.lag_1\"),(df_test_cont.lag_1,'df_test_cont.lag_1'))"
   ]
  },
  {
   "cell_type": "markdown",
   "metadata": {},
   "source": [
    "## Playground\n",
    "The following sections are for testing various bits"
   ]
  },
  {
   "cell_type": "markdown",
   "metadata": {},
   "source": [
    "### The mapper contains mean and standard deviation for each column.  \n",
    "The nas_trn_val contains the median for each column.  Columns of interest begin with lag_ . "
   ]
  },
  {
   "cell_type": "code",
   "execution_count": 343,
   "metadata": {},
   "outputs": [
    {
     "data": {
      "text/plain": [
       "array([1801.0867], dtype=float32)"
      ]
     },
     "execution_count": 343,
     "metadata": {},
     "output_type": "execute_result"
    }
   ],
   "source": [
    "#each lag has its own mean and std deviation, the following is lag_1 mean and variance\n",
    "mapper.features[0][1].mean_\n",
    "mapper.features[0][1].var_"
   ]
  },
  {
   "cell_type": "code",
   "execution_count": 344,
   "metadata": {},
   "outputs": [],
   "source": [
    "def scale_by_lag(lag,val):\n",
    "    #lags start at 1 but are 0 indexed, so sub 1 from lag number\n",
    "    #the 1 is the location of the StandardScaler in the tuple\n",
    "    return (val - mapper.features[lag-1][1].mean_)/np.sqrt(mapper.features[lag-1][1].var_)"
   ]
  },
  {
   "cell_type": "code",
   "execution_count": 345,
   "metadata": {},
   "outputs": [
    {
     "data": {
      "text/plain": [
       "'lag_1'"
      ]
     },
     "execution_count": 345,
     "metadata": {},
     "output_type": "execute_result"
    }
   ],
   "source": [
    "mapper.features[0][0][0]"
   ]
  },
  {
   "cell_type": "code",
   "execution_count": 346,
   "metadata": {},
   "outputs": [
    {
     "data": {
      "text/plain": [
       "array([0.20829], dtype=float32)"
      ]
     },
     "execution_count": 346,
     "metadata": {},
     "output_type": "execute_result"
    }
   ],
   "source": [
    "#lets verify that it all works, 2nd row lag_1 is 58 from above when we scale it, it should be .3524\n",
    "val_ = scale_by_lag(lag = 1,val=58)\n",
    "val_"
   ]
  },
  {
   "cell_type": "code",
   "execution_count": 347,
   "metadata": {},
   "outputs": [
    {
     "data": {
      "text/plain": [
       "Month                     1\n",
       "Year                      1\n",
       "Dayofyear                 1\n",
       "Is_quarter_end            1\n",
       "Is_quarter_start          2\n",
       "Is_year_end               1\n",
       "Is_year_start             2\n",
       "lag_1              -1.18578\n",
       "Name: 0, dtype: object"
      ]
     },
     "execution_count": 347,
     "metadata": {},
     "output_type": "execute_result"
    }
   ],
   "source": [
    "# ilen = len(df_test)\n",
    "# ilen\n",
    "# df_test.iloc[ilen-1]\n",
    "df_trn_val.iloc[0]"
   ]
  },
  {
   "cell_type": "markdown",
   "metadata": {},
   "source": [
    "### verify operations"
   ]
  },
  {
   "cell_type": "code",
   "execution_count": 348,
   "metadata": {},
   "outputs": [
    {
     "data": {
      "text/plain": [
       "pandas.core.frame.DataFrame"
      ]
     },
     "execution_count": 348,
     "metadata": {},
     "output_type": "execute_result"
    }
   ],
   "source": [
    "#get a single row from the test dataframe\n",
    "type(df_test.iloc[[0]])"
   ]
  },
  {
   "cell_type": "code",
   "execution_count": 349,
   "metadata": {},
   "outputs": [
    {
     "data": {
      "text/html": [
       "<div>\n",
       "<style scoped>\n",
       "    .dataframe tbody tr th:only-of-type {\n",
       "        vertical-align: middle;\n",
       "    }\n",
       "\n",
       "    .dataframe tbody tr th {\n",
       "        vertical-align: top;\n",
       "    }\n",
       "\n",
       "    .dataframe thead th {\n",
       "        text-align: right;\n",
       "    }\n",
       "</style>\n",
       "<table border=\"1\" class=\"dataframe\">\n",
       "  <thead>\n",
       "    <tr style=\"text-align: right;\">\n",
       "      <th></th>\n",
       "      <th>Month</th>\n",
       "      <th>Year</th>\n",
       "      <th>Dayofyear</th>\n",
       "      <th>Is_quarter_end</th>\n",
       "      <th>Is_quarter_start</th>\n",
       "      <th>Is_year_end</th>\n",
       "      <th>Is_year_start</th>\n",
       "      <th>lag_1</th>\n",
       "    </tr>\n",
       "  </thead>\n",
       "  <tbody>\n",
       "    <tr>\n",
       "      <th>0</th>\n",
       "      <td>7</td>\n",
       "      <td>212</td>\n",
       "      <td>12</td>\n",
       "      <td>1</td>\n",
       "      <td>2</td>\n",
       "      <td>1</td>\n",
       "      <td>1</td>\n",
       "      <td>1.438289</td>\n",
       "    </tr>\n",
       "    <tr>\n",
       "      <th>1</th>\n",
       "      <td>8</td>\n",
       "      <td>212</td>\n",
       "      <td>14</td>\n",
       "      <td>1</td>\n",
       "      <td>1</td>\n",
       "      <td>1</td>\n",
       "      <td>1</td>\n",
       "      <td>1.709264</td>\n",
       "    </tr>\n",
       "  </tbody>\n",
       "</table>\n",
       "</div>"
      ],
      "text/plain": [
       "  Month Year Dayofyear Is_quarter_end Is_quarter_start Is_year_end  \\\n",
       "0     7  212        12              1                2           1   \n",
       "1     8  212        14              1                1           1   \n",
       "\n",
       "  Is_year_start     lag_1  \n",
       "0             1  1.438289  \n",
       "1             1  1.709264  "
      ]
     },
     "execution_count": 349,
     "metadata": {},
     "output_type": "execute_result"
    }
   ],
   "source": [
    "df_test.iloc[0:2,:].head()"
   ]
  },
  {
   "cell_type": "code",
   "execution_count": 350,
   "metadata": {},
   "outputs": [
    {
     "data": {
      "text/plain": [
       "4.0870934"
      ]
     },
     "execution_count": 350,
     "metadata": {},
     "output_type": "execute_result"
    }
   ],
   "source": [
    "#verify simple operation\n",
    "one_row = ColumnarDataset.from_data_frame(df_test.iloc[0:2,:],cat_flds=cat_vars)\n",
    "one_row_test = DataLoader(one_row)\n",
    "one_row_test\n",
    "one_row_test = m.predict_dl(one_row_test)\n",
    "one_row_test[0][0]"
   ]
  }
 ],
 "metadata": {
  "kernelspec": {
   "display_name": "Python 3",
   "language": "python",
   "name": "python3"
  },
  "language_info": {
   "codemirror_mode": {
    "name": "ipython",
    "version": 3
   },
   "file_extension": ".py",
   "mimetype": "text/x-python",
   "name": "python",
   "nbconvert_exporter": "python",
   "pygments_lexer": "ipython3",
   "version": "3.6.5"
  }
 },
 "nbformat": 4,
 "nbformat_minor": 2
}
